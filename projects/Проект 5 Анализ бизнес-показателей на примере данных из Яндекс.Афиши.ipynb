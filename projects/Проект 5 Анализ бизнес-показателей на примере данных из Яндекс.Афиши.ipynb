{
 "cells": [
  {
   "cell_type": "markdown",
   "metadata": {},
   "source": [
    "# Анализ бизнес-показателей на примере данных из Яндекс.Афиши"
   ]
  },
  {
   "cell_type": "markdown",
   "metadata": {},
   "source": [
    "У нас в распоряжении есть данные от Яндекс.Афиши с июня 2017 по конец мая 2018 года:\n",
    "- лог сервера с данными о посещениях сайта Яндекс.Афиши,\n",
    "- выгрузка всех заказов за этот период,\n",
    "- статистика рекламных расходов.\n",
    "\n",
    "*Цель работы* - помочь маркетологам оптимизировать маркетинговые затраты.\n",
    "\n",
    "Мы изучим:\n",
    "- как люди пользуются продуктом,\n",
    "- когда они начинают покупать,\n",
    "- сколько денег приносит каждый клиент\n",
    "- когда клиент окупается.\n",
    "\n",
    "Работать будем с выгрузками данных visits_log.csv, orders_log.csv, costs.csv.\n",
    "\n",
    "# Содержание работы:\n",
    "1. [Шаг 1. Изучение данных и предобработка](#p1)\n",
    "2. [Шаг 2. Предобработка данных](#p2)   \n",
    "    2.1 [Продукт](#p2_1)  \n",
    "    - [количество уникальных пользователей в день](#p2_1_1) \n",
    "    - [среднее количество сессий в день и среднее время сессии ](#p2_1_2)\n",
    "    - [как часто люди возвращаются на сайт (Retention Rate)](#p2_1_3)\n",
    "    \n",
    "   2.2 [Продажи](#p2_2) \n",
    "     - [когда люди начинают покупать](#p2_2_1) \n",
    "     - [cколько раз покупают за период](#p2_2_2)\n",
    "     - [средний чек](#p2_2_3) \n",
    "     - [сколько денег приносят? (LTV) ](#p2_2_4) \n",
    "\n",
    "   2.3 [Маркетинг](#p2_3) \n",
    "     - [потрачено](#p2_3_1) \n",
    "     - [сколько стоило привлечение одного покупателя из каждого источника](#p2_3_2) \n",
    "     - [на сколько окупились расходы? (ROI)](#p2_3_3) \n",
    "     - [метрики в разрезе источников и устройств ](#p2_3_4) \n",
    "     \n",
    "\n",
    "3. [Шаг 3. Вывод и рекомендации](#p3)     \n",
    "\n"
   ]
  },
  {
   "cell_type": "markdown",
   "metadata": {},
   "source": [
    "<b> Шаг 1. Изучение данных и предобработка <a name=\"p1\"></a>"
   ]
  },
  {
   "cell_type": "markdown",
   "metadata": {},
   "source": [
    "Подгрузим библиотеки."
   ]
  },
  {
   "cell_type": "code",
   "execution_count": 1,
   "metadata": {},
   "outputs": [],
   "source": [
    "import pandas as pd\n",
    "import matplotlib.pyplot as plt\n",
    "import numpy as np\n",
    "from scipy import stats as st\n",
    "import seaborn as sns\n",
    "from matplotlib import pyplot as plt"
   ]
  },
  {
   "cell_type": "markdown",
   "metadata": {},
   "source": [
    "Прочитаем файлы с данными."
   ]
  },
  {
   "cell_type": "code",
   "execution_count": 2,
   "metadata": {},
   "outputs": [
    {
     "data": {
      "text/html": [
       "<div>\n",
       "<style scoped>\n",
       "    .dataframe tbody tr th:only-of-type {\n",
       "        vertical-align: middle;\n",
       "    }\n",
       "\n",
       "    .dataframe tbody tr th {\n",
       "        vertical-align: top;\n",
       "    }\n",
       "\n",
       "    .dataframe thead th {\n",
       "        text-align: right;\n",
       "    }\n",
       "</style>\n",
       "<table border=\"1\" class=\"dataframe\">\n",
       "  <thead>\n",
       "    <tr style=\"text-align: right;\">\n",
       "      <th></th>\n",
       "      <th>Device</th>\n",
       "      <th>End Ts</th>\n",
       "      <th>Source Id</th>\n",
       "      <th>Start Ts</th>\n",
       "      <th>Uid</th>\n",
       "    </tr>\n",
       "  </thead>\n",
       "  <tbody>\n",
       "    <tr>\n",
       "      <td>0</td>\n",
       "      <td>touch</td>\n",
       "      <td>2017-12-20 17:38:00</td>\n",
       "      <td>4</td>\n",
       "      <td>2017-12-20 17:20:00</td>\n",
       "      <td>16879256277535980062</td>\n",
       "    </tr>\n",
       "    <tr>\n",
       "      <td>1</td>\n",
       "      <td>desktop</td>\n",
       "      <td>2018-02-19 17:21:00</td>\n",
       "      <td>2</td>\n",
       "      <td>2018-02-19 16:53:00</td>\n",
       "      <td>104060357244891740</td>\n",
       "    </tr>\n",
       "    <tr>\n",
       "      <td>2</td>\n",
       "      <td>touch</td>\n",
       "      <td>2017-07-01 01:54:00</td>\n",
       "      <td>5</td>\n",
       "      <td>2017-07-01 01:54:00</td>\n",
       "      <td>7459035603376831527</td>\n",
       "    </tr>\n",
       "    <tr>\n",
       "      <td>3</td>\n",
       "      <td>desktop</td>\n",
       "      <td>2018-05-20 11:23:00</td>\n",
       "      <td>9</td>\n",
       "      <td>2018-05-20 10:59:00</td>\n",
       "      <td>16174680259334210214</td>\n",
       "    </tr>\n",
       "    <tr>\n",
       "      <td>4</td>\n",
       "      <td>desktop</td>\n",
       "      <td>2017-12-27 14:06:00</td>\n",
       "      <td>3</td>\n",
       "      <td>2017-12-27 14:06:00</td>\n",
       "      <td>9969694820036681168</td>\n",
       "    </tr>\n",
       "    <tr>\n",
       "      <td>5</td>\n",
       "      <td>desktop</td>\n",
       "      <td>2017-09-03 21:36:00</td>\n",
       "      <td>5</td>\n",
       "      <td>2017-09-03 21:35:00</td>\n",
       "      <td>16007536194108375387</td>\n",
       "    </tr>\n",
       "    <tr>\n",
       "      <td>6</td>\n",
       "      <td>desktop</td>\n",
       "      <td>2018-01-30 12:09:00</td>\n",
       "      <td>1</td>\n",
       "      <td>2018-01-30 11:13:00</td>\n",
       "      <td>6661610529277171451</td>\n",
       "    </tr>\n",
       "    <tr>\n",
       "      <td>7</td>\n",
       "      <td>touch</td>\n",
       "      <td>2017-11-05 15:15:00</td>\n",
       "      <td>3</td>\n",
       "      <td>2017-11-05 15:14:00</td>\n",
       "      <td>11423865690854540312</td>\n",
       "    </tr>\n",
       "    <tr>\n",
       "      <td>8</td>\n",
       "      <td>desktop</td>\n",
       "      <td>2017-07-19 10:44:00</td>\n",
       "      <td>3</td>\n",
       "      <td>2017-07-19 10:41:00</td>\n",
       "      <td>2987360259350925644</td>\n",
       "    </tr>\n",
       "    <tr>\n",
       "      <td>9</td>\n",
       "      <td>desktop</td>\n",
       "      <td>2017-11-08 13:43:00</td>\n",
       "      <td>5</td>\n",
       "      <td>2017-11-08 13:42:00</td>\n",
       "      <td>1289240080042562063</td>\n",
       "    </tr>\n",
       "  </tbody>\n",
       "</table>\n",
       "</div>"
      ],
      "text/plain": [
       "    Device               End Ts  Source Id             Start Ts  \\\n",
       "0    touch  2017-12-20 17:38:00          4  2017-12-20 17:20:00   \n",
       "1  desktop  2018-02-19 17:21:00          2  2018-02-19 16:53:00   \n",
       "2    touch  2017-07-01 01:54:00          5  2017-07-01 01:54:00   \n",
       "3  desktop  2018-05-20 11:23:00          9  2018-05-20 10:59:00   \n",
       "4  desktop  2017-12-27 14:06:00          3  2017-12-27 14:06:00   \n",
       "5  desktop  2017-09-03 21:36:00          5  2017-09-03 21:35:00   \n",
       "6  desktop  2018-01-30 12:09:00          1  2018-01-30 11:13:00   \n",
       "7    touch  2017-11-05 15:15:00          3  2017-11-05 15:14:00   \n",
       "8  desktop  2017-07-19 10:44:00          3  2017-07-19 10:41:00   \n",
       "9  desktop  2017-11-08 13:43:00          5  2017-11-08 13:42:00   \n",
       "\n",
       "                    Uid  \n",
       "0  16879256277535980062  \n",
       "1    104060357244891740  \n",
       "2   7459035603376831527  \n",
       "3  16174680259334210214  \n",
       "4   9969694820036681168  \n",
       "5  16007536194108375387  \n",
       "6   6661610529277171451  \n",
       "7  11423865690854540312  \n",
       "8   2987360259350925644  \n",
       "9   1289240080042562063  "
      ]
     },
     "execution_count": 2,
     "metadata": {},
     "output_type": "execute_result"
    }
   ],
   "source": [
    "visits = pd.read_csv('/datasets/visits_log.csv')\n",
    "visits.head(10)"
   ]
  },
  {
   "cell_type": "markdown",
   "metadata": {},
   "source": [
    "Изменим названия столбцов."
   ]
  },
  {
   "cell_type": "code",
   "execution_count": 3,
   "metadata": {
    "scrolled": false
   },
   "outputs": [],
   "source": [
    "visits.columns = visits.columns.str.lower()\n",
    "visits.set_axis(['device','end_ts','source_id','start_ts','uid'],axis = 'columns',inplace = True)"
   ]
  },
  {
   "cell_type": "code",
   "execution_count": 4,
   "metadata": {
    "scrolled": true
   },
   "outputs": [
    {
     "name": "stdout",
     "output_type": "stream",
     "text": [
      "<class 'pandas.core.frame.DataFrame'>\n",
      "RangeIndex: 359400 entries, 0 to 359399\n",
      "Data columns (total 5 columns):\n",
      "device       359400 non-null object\n",
      "end_ts       359400 non-null object\n",
      "source_id    359400 non-null int64\n",
      "start_ts     359400 non-null object\n",
      "uid          359400 non-null uint64\n",
      "dtypes: int64(1), object(3), uint64(1)\n",
      "memory usage: 13.7+ MB\n"
     ]
    }
   ],
   "source": [
    "visits.info()"
   ]
  },
  {
   "cell_type": "markdown",
   "metadata": {},
   "source": [
    "Пустых значений нет. Преобразуем типы дат."
   ]
  },
  {
   "cell_type": "code",
   "execution_count": 5,
   "metadata": {},
   "outputs": [],
   "source": [
    "visits['end_ts'] = pd.to_datetime(visits['end_ts'], format='%Y.%m.%d %H:%M:%S')\n",
    "visits['start_ts'] = pd.to_datetime(visits['start_ts'], format='%Y.%m.%d %H:%M:%S')"
   ]
  },
  {
   "cell_type": "code",
   "execution_count": 6,
   "metadata": {},
   "outputs": [
    {
     "name": "stdout",
     "output_type": "stream",
     "text": [
      "<class 'pandas.core.frame.DataFrame'>\n",
      "RangeIndex: 359400 entries, 0 to 359399\n",
      "Data columns (total 5 columns):\n",
      "device       359400 non-null object\n",
      "end_ts       359400 non-null datetime64[ns]\n",
      "source_id    359400 non-null int64\n",
      "start_ts     359400 non-null datetime64[ns]\n",
      "uid          359400 non-null uint64\n",
      "dtypes: datetime64[ns](2), int64(1), object(1), uint64(1)\n",
      "memory usage: 13.7+ MB\n"
     ]
    }
   ],
   "source": [
    "visits.info()"
   ]
  },
  {
   "cell_type": "code",
   "execution_count": 7,
   "metadata": {
    "scrolled": true
   },
   "outputs": [
    {
     "data": {
      "text/html": [
       "<div>\n",
       "<style scoped>\n",
       "    .dataframe tbody tr th:only-of-type {\n",
       "        vertical-align: middle;\n",
       "    }\n",
       "\n",
       "    .dataframe tbody tr th {\n",
       "        vertical-align: top;\n",
       "    }\n",
       "\n",
       "    .dataframe thead th {\n",
       "        text-align: right;\n",
       "    }\n",
       "</style>\n",
       "<table border=\"1\" class=\"dataframe\">\n",
       "  <thead>\n",
       "    <tr style=\"text-align: right;\">\n",
       "      <th></th>\n",
       "      <th>source_id</th>\n",
       "      <th>uid</th>\n",
       "    </tr>\n",
       "  </thead>\n",
       "  <tbody>\n",
       "    <tr>\n",
       "      <td>count</td>\n",
       "      <td>359400.000000</td>\n",
       "      <td>3.594000e+05</td>\n",
       "    </tr>\n",
       "    <tr>\n",
       "      <td>mean</td>\n",
       "      <td>3.750515</td>\n",
       "      <td>9.202557e+18</td>\n",
       "    </tr>\n",
       "    <tr>\n",
       "      <td>std</td>\n",
       "      <td>1.917116</td>\n",
       "      <td>5.298433e+18</td>\n",
       "    </tr>\n",
       "    <tr>\n",
       "      <td>min</td>\n",
       "      <td>1.000000</td>\n",
       "      <td>1.186350e+13</td>\n",
       "    </tr>\n",
       "    <tr>\n",
       "      <td>25%</td>\n",
       "      <td>3.000000</td>\n",
       "      <td>4.613407e+18</td>\n",
       "    </tr>\n",
       "    <tr>\n",
       "      <td>50%</td>\n",
       "      <td>4.000000</td>\n",
       "      <td>9.227413e+18</td>\n",
       "    </tr>\n",
       "    <tr>\n",
       "      <td>75%</td>\n",
       "      <td>5.000000</td>\n",
       "      <td>1.372824e+19</td>\n",
       "    </tr>\n",
       "    <tr>\n",
       "      <td>max</td>\n",
       "      <td>10.000000</td>\n",
       "      <td>1.844668e+19</td>\n",
       "    </tr>\n",
       "  </tbody>\n",
       "</table>\n",
       "</div>"
      ],
      "text/plain": [
       "           source_id           uid\n",
       "count  359400.000000  3.594000e+05\n",
       "mean        3.750515  9.202557e+18\n",
       "std         1.917116  5.298433e+18\n",
       "min         1.000000  1.186350e+13\n",
       "25%         3.000000  4.613407e+18\n",
       "50%         4.000000  9.227413e+18\n",
       "75%         5.000000  1.372824e+19\n",
       "max        10.000000  1.844668e+19"
      ]
     },
     "execution_count": 7,
     "metadata": {},
     "output_type": "execute_result"
    }
   ],
   "source": [
    "visits.describe()"
   ]
  },
  {
   "cell_type": "code",
   "execution_count": 8,
   "metadata": {},
   "outputs": [
    {
     "data": {
      "text/plain": [
       "0.0"
      ]
     },
     "execution_count": 8,
     "metadata": {},
     "output_type": "execute_result"
    }
   ],
   "source": [
    "visits.duplicated().mean()"
   ]
  },
  {
   "cell_type": "markdown",
   "metadata": {},
   "source": [
    "Дубликатов нет."
   ]
  },
  {
   "cell_type": "markdown",
   "metadata": {},
   "source": [
    "Рассмотрим данные по заказам."
   ]
  },
  {
   "cell_type": "code",
   "execution_count": 9,
   "metadata": {
    "scrolled": false
   },
   "outputs": [
    {
     "data": {
      "text/html": [
       "<div>\n",
       "<style scoped>\n",
       "    .dataframe tbody tr th:only-of-type {\n",
       "        vertical-align: middle;\n",
       "    }\n",
       "\n",
       "    .dataframe tbody tr th {\n",
       "        vertical-align: top;\n",
       "    }\n",
       "\n",
       "    .dataframe thead th {\n",
       "        text-align: right;\n",
       "    }\n",
       "</style>\n",
       "<table border=\"1\" class=\"dataframe\">\n",
       "  <thead>\n",
       "    <tr style=\"text-align: right;\">\n",
       "      <th></th>\n",
       "      <th>Buy Ts</th>\n",
       "      <th>Revenue</th>\n",
       "      <th>Uid</th>\n",
       "    </tr>\n",
       "  </thead>\n",
       "  <tbody>\n",
       "    <tr>\n",
       "      <td>0</td>\n",
       "      <td>2017-06-01 00:10:00</td>\n",
       "      <td>17.00</td>\n",
       "      <td>10329302124590727494</td>\n",
       "    </tr>\n",
       "    <tr>\n",
       "      <td>1</td>\n",
       "      <td>2017-06-01 00:25:00</td>\n",
       "      <td>0.55</td>\n",
       "      <td>11627257723692907447</td>\n",
       "    </tr>\n",
       "    <tr>\n",
       "      <td>2</td>\n",
       "      <td>2017-06-01 00:27:00</td>\n",
       "      <td>0.37</td>\n",
       "      <td>17903680561304213844</td>\n",
       "    </tr>\n",
       "    <tr>\n",
       "      <td>3</td>\n",
       "      <td>2017-06-01 00:29:00</td>\n",
       "      <td>0.55</td>\n",
       "      <td>16109239769442553005</td>\n",
       "    </tr>\n",
       "    <tr>\n",
       "      <td>4</td>\n",
       "      <td>2017-06-01 07:58:00</td>\n",
       "      <td>0.37</td>\n",
       "      <td>14200605875248379450</td>\n",
       "    </tr>\n",
       "    <tr>\n",
       "      <td>5</td>\n",
       "      <td>2017-06-01 08:43:00</td>\n",
       "      <td>0.18</td>\n",
       "      <td>10402394430196413321</td>\n",
       "    </tr>\n",
       "    <tr>\n",
       "      <td>6</td>\n",
       "      <td>2017-06-01 08:54:00</td>\n",
       "      <td>1.83</td>\n",
       "      <td>12464626743129688638</td>\n",
       "    </tr>\n",
       "    <tr>\n",
       "      <td>7</td>\n",
       "      <td>2017-06-01 09:22:00</td>\n",
       "      <td>1.22</td>\n",
       "      <td>3644482766749211722</td>\n",
       "    </tr>\n",
       "    <tr>\n",
       "      <td>8</td>\n",
       "      <td>2017-06-01 09:22:00</td>\n",
       "      <td>3.30</td>\n",
       "      <td>17542070709969841479</td>\n",
       "    </tr>\n",
       "    <tr>\n",
       "      <td>9</td>\n",
       "      <td>2017-06-01 09:23:00</td>\n",
       "      <td>0.37</td>\n",
       "      <td>1074355127080856382</td>\n",
       "    </tr>\n",
       "  </tbody>\n",
       "</table>\n",
       "</div>"
      ],
      "text/plain": [
       "                Buy Ts  Revenue                   Uid\n",
       "0  2017-06-01 00:10:00    17.00  10329302124590727494\n",
       "1  2017-06-01 00:25:00     0.55  11627257723692907447\n",
       "2  2017-06-01 00:27:00     0.37  17903680561304213844\n",
       "3  2017-06-01 00:29:00     0.55  16109239769442553005\n",
       "4  2017-06-01 07:58:00     0.37  14200605875248379450\n",
       "5  2017-06-01 08:43:00     0.18  10402394430196413321\n",
       "6  2017-06-01 08:54:00     1.83  12464626743129688638\n",
       "7  2017-06-01 09:22:00     1.22   3644482766749211722\n",
       "8  2017-06-01 09:22:00     3.30  17542070709969841479\n",
       "9  2017-06-01 09:23:00     0.37   1074355127080856382"
      ]
     },
     "execution_count": 9,
     "metadata": {},
     "output_type": "execute_result"
    }
   ],
   "source": [
    "orders = pd.read_csv('/datasets/orders_log.csv')\n",
    "orders.head(10)"
   ]
  },
  {
   "cell_type": "markdown",
   "metadata": {},
   "source": [
    "Изменим названия столбцов.  Преобразуем типы дат."
   ]
  },
  {
   "cell_type": "code",
   "execution_count": 10,
   "metadata": {},
   "outputs": [],
   "source": [
    "orders.set_axis(['buy_ts','revenue','uid'],axis = 'columns',inplace = True)"
   ]
  },
  {
   "cell_type": "code",
   "execution_count": 11,
   "metadata": {
    "scrolled": true
   },
   "outputs": [
    {
     "name": "stdout",
     "output_type": "stream",
     "text": [
      "<class 'pandas.core.frame.DataFrame'>\n",
      "RangeIndex: 50415 entries, 0 to 50414\n",
      "Data columns (total 3 columns):\n",
      "buy_ts     50415 non-null object\n",
      "revenue    50415 non-null float64\n",
      "uid        50415 non-null uint64\n",
      "dtypes: float64(1), object(1), uint64(1)\n",
      "memory usage: 1.2+ MB\n"
     ]
    }
   ],
   "source": [
    "orders.info()"
   ]
  },
  {
   "cell_type": "code",
   "execution_count": 12,
   "metadata": {},
   "outputs": [],
   "source": [
    "orders['buy_ts'] = pd.to_datetime(orders['buy_ts'], format='%Y.%m.%d %H:%M:%S')"
   ]
  },
  {
   "cell_type": "code",
   "execution_count": 13,
   "metadata": {
    "scrolled": true
   },
   "outputs": [
    {
     "data": {
      "text/html": [
       "<div>\n",
       "<style scoped>\n",
       "    .dataframe tbody tr th:only-of-type {\n",
       "        vertical-align: middle;\n",
       "    }\n",
       "\n",
       "    .dataframe tbody tr th {\n",
       "        vertical-align: top;\n",
       "    }\n",
       "\n",
       "    .dataframe thead th {\n",
       "        text-align: right;\n",
       "    }\n",
       "</style>\n",
       "<table border=\"1\" class=\"dataframe\">\n",
       "  <thead>\n",
       "    <tr style=\"text-align: right;\">\n",
       "      <th></th>\n",
       "      <th>revenue</th>\n",
       "      <th>uid</th>\n",
       "    </tr>\n",
       "  </thead>\n",
       "  <tbody>\n",
       "    <tr>\n",
       "      <td>count</td>\n",
       "      <td>50415.000000</td>\n",
       "      <td>5.041500e+04</td>\n",
       "    </tr>\n",
       "    <tr>\n",
       "      <td>mean</td>\n",
       "      <td>4.999647</td>\n",
       "      <td>9.098161e+18</td>\n",
       "    </tr>\n",
       "    <tr>\n",
       "      <td>std</td>\n",
       "      <td>21.818359</td>\n",
       "      <td>5.285742e+18</td>\n",
       "    </tr>\n",
       "    <tr>\n",
       "      <td>min</td>\n",
       "      <td>0.000000</td>\n",
       "      <td>3.135781e+14</td>\n",
       "    </tr>\n",
       "    <tr>\n",
       "      <td>25%</td>\n",
       "      <td>1.220000</td>\n",
       "      <td>4.533567e+18</td>\n",
       "    </tr>\n",
       "    <tr>\n",
       "      <td>50%</td>\n",
       "      <td>2.500000</td>\n",
       "      <td>9.102274e+18</td>\n",
       "    </tr>\n",
       "    <tr>\n",
       "      <td>75%</td>\n",
       "      <td>4.890000</td>\n",
       "      <td>1.368290e+19</td>\n",
       "    </tr>\n",
       "    <tr>\n",
       "      <td>max</td>\n",
       "      <td>2633.280000</td>\n",
       "      <td>1.844617e+19</td>\n",
       "    </tr>\n",
       "  </tbody>\n",
       "</table>\n",
       "</div>"
      ],
      "text/plain": [
       "            revenue           uid\n",
       "count  50415.000000  5.041500e+04\n",
       "mean       4.999647  9.098161e+18\n",
       "std       21.818359  5.285742e+18\n",
       "min        0.000000  3.135781e+14\n",
       "25%        1.220000  4.533567e+18\n",
       "50%        2.500000  9.102274e+18\n",
       "75%        4.890000  1.368290e+19\n",
       "max     2633.280000  1.844617e+19"
      ]
     },
     "execution_count": 13,
     "metadata": {},
     "output_type": "execute_result"
    }
   ],
   "source": [
    "orders.describe()"
   ]
  },
  {
   "cell_type": "code",
   "execution_count": 14,
   "metadata": {
    "scrolled": true
   },
   "outputs": [
    {
     "data": {
      "text/plain": [
       "0.0"
      ]
     },
     "execution_count": 14,
     "metadata": {},
     "output_type": "execute_result"
    }
   ],
   "source": [
    "orders.duplicated().mean()"
   ]
  },
  {
   "cell_type": "markdown",
   "metadata": {},
   "source": [
    "Рассмотрим данные по тратам."
   ]
  },
  {
   "cell_type": "code",
   "execution_count": 15,
   "metadata": {},
   "outputs": [
    {
     "data": {
      "text/html": [
       "<div>\n",
       "<style scoped>\n",
       "    .dataframe tbody tr th:only-of-type {\n",
       "        vertical-align: middle;\n",
       "    }\n",
       "\n",
       "    .dataframe tbody tr th {\n",
       "        vertical-align: top;\n",
       "    }\n",
       "\n",
       "    .dataframe thead th {\n",
       "        text-align: right;\n",
       "    }\n",
       "</style>\n",
       "<table border=\"1\" class=\"dataframe\">\n",
       "  <thead>\n",
       "    <tr style=\"text-align: right;\">\n",
       "      <th></th>\n",
       "      <th>source_id</th>\n",
       "      <th>dt</th>\n",
       "      <th>costs</th>\n",
       "    </tr>\n",
       "  </thead>\n",
       "  <tbody>\n",
       "    <tr>\n",
       "      <td>0</td>\n",
       "      <td>1</td>\n",
       "      <td>2017-06-01</td>\n",
       "      <td>75.20</td>\n",
       "    </tr>\n",
       "    <tr>\n",
       "      <td>1</td>\n",
       "      <td>1</td>\n",
       "      <td>2017-06-02</td>\n",
       "      <td>62.25</td>\n",
       "    </tr>\n",
       "    <tr>\n",
       "      <td>2</td>\n",
       "      <td>1</td>\n",
       "      <td>2017-06-03</td>\n",
       "      <td>36.53</td>\n",
       "    </tr>\n",
       "    <tr>\n",
       "      <td>3</td>\n",
       "      <td>1</td>\n",
       "      <td>2017-06-04</td>\n",
       "      <td>55.00</td>\n",
       "    </tr>\n",
       "    <tr>\n",
       "      <td>4</td>\n",
       "      <td>1</td>\n",
       "      <td>2017-06-05</td>\n",
       "      <td>57.08</td>\n",
       "    </tr>\n",
       "    <tr>\n",
       "      <td>5</td>\n",
       "      <td>1</td>\n",
       "      <td>2017-06-06</td>\n",
       "      <td>40.39</td>\n",
       "    </tr>\n",
       "    <tr>\n",
       "      <td>6</td>\n",
       "      <td>1</td>\n",
       "      <td>2017-06-07</td>\n",
       "      <td>40.59</td>\n",
       "    </tr>\n",
       "    <tr>\n",
       "      <td>7</td>\n",
       "      <td>1</td>\n",
       "      <td>2017-06-08</td>\n",
       "      <td>56.63</td>\n",
       "    </tr>\n",
       "    <tr>\n",
       "      <td>8</td>\n",
       "      <td>1</td>\n",
       "      <td>2017-06-09</td>\n",
       "      <td>40.16</td>\n",
       "    </tr>\n",
       "    <tr>\n",
       "      <td>9</td>\n",
       "      <td>1</td>\n",
       "      <td>2017-06-10</td>\n",
       "      <td>43.24</td>\n",
       "    </tr>\n",
       "  </tbody>\n",
       "</table>\n",
       "</div>"
      ],
      "text/plain": [
       "   source_id          dt  costs\n",
       "0          1  2017-06-01  75.20\n",
       "1          1  2017-06-02  62.25\n",
       "2          1  2017-06-03  36.53\n",
       "3          1  2017-06-04  55.00\n",
       "4          1  2017-06-05  57.08\n",
       "5          1  2017-06-06  40.39\n",
       "6          1  2017-06-07  40.59\n",
       "7          1  2017-06-08  56.63\n",
       "8          1  2017-06-09  40.16\n",
       "9          1  2017-06-10  43.24"
      ]
     },
     "execution_count": 15,
     "metadata": {},
     "output_type": "execute_result"
    }
   ],
   "source": [
    "costs = pd.read_csv('/datasets/costs.csv')\n",
    "costs.head(10)"
   ]
  },
  {
   "cell_type": "code",
   "execution_count": 16,
   "metadata": {
    "scrolled": true
   },
   "outputs": [
    {
     "name": "stdout",
     "output_type": "stream",
     "text": [
      "<class 'pandas.core.frame.DataFrame'>\n",
      "RangeIndex: 2542 entries, 0 to 2541\n",
      "Data columns (total 3 columns):\n",
      "source_id    2542 non-null int64\n",
      "dt           2542 non-null object\n",
      "costs        2542 non-null float64\n",
      "dtypes: float64(1), int64(1), object(1)\n",
      "memory usage: 59.7+ KB\n"
     ]
    }
   ],
   "source": [
    "costs.info()"
   ]
  },
  {
   "cell_type": "markdown",
   "metadata": {},
   "source": [
    " Преобразуем типы дат."
   ]
  },
  {
   "cell_type": "code",
   "execution_count": 17,
   "metadata": {},
   "outputs": [],
   "source": [
    "costs['dt'] = pd.to_datetime(costs['dt'], format='%Y.%m.%d')"
   ]
  },
  {
   "cell_type": "code",
   "execution_count": 18,
   "metadata": {
    "scrolled": true
   },
   "outputs": [
    {
     "data": {
      "text/html": [
       "<div>\n",
       "<style scoped>\n",
       "    .dataframe tbody tr th:only-of-type {\n",
       "        vertical-align: middle;\n",
       "    }\n",
       "\n",
       "    .dataframe tbody tr th {\n",
       "        vertical-align: top;\n",
       "    }\n",
       "\n",
       "    .dataframe thead th {\n",
       "        text-align: right;\n",
       "    }\n",
       "</style>\n",
       "<table border=\"1\" class=\"dataframe\">\n",
       "  <thead>\n",
       "    <tr style=\"text-align: right;\">\n",
       "      <th></th>\n",
       "      <th>source_id</th>\n",
       "      <th>costs</th>\n",
       "    </tr>\n",
       "  </thead>\n",
       "  <tbody>\n",
       "    <tr>\n",
       "      <td>count</td>\n",
       "      <td>2542.000000</td>\n",
       "      <td>2542.000000</td>\n",
       "    </tr>\n",
       "    <tr>\n",
       "      <td>mean</td>\n",
       "      <td>4.857199</td>\n",
       "      <td>129.477427</td>\n",
       "    </tr>\n",
       "    <tr>\n",
       "      <td>std</td>\n",
       "      <td>3.181581</td>\n",
       "      <td>156.296628</td>\n",
       "    </tr>\n",
       "    <tr>\n",
       "      <td>min</td>\n",
       "      <td>1.000000</td>\n",
       "      <td>0.540000</td>\n",
       "    </tr>\n",
       "    <tr>\n",
       "      <td>25%</td>\n",
       "      <td>2.000000</td>\n",
       "      <td>21.945000</td>\n",
       "    </tr>\n",
       "    <tr>\n",
       "      <td>50%</td>\n",
       "      <td>4.000000</td>\n",
       "      <td>77.295000</td>\n",
       "    </tr>\n",
       "    <tr>\n",
       "      <td>75%</td>\n",
       "      <td>9.000000</td>\n",
       "      <td>170.065000</td>\n",
       "    </tr>\n",
       "    <tr>\n",
       "      <td>max</td>\n",
       "      <td>10.000000</td>\n",
       "      <td>1788.280000</td>\n",
       "    </tr>\n",
       "  </tbody>\n",
       "</table>\n",
       "</div>"
      ],
      "text/plain": [
       "         source_id        costs\n",
       "count  2542.000000  2542.000000\n",
       "mean      4.857199   129.477427\n",
       "std       3.181581   156.296628\n",
       "min       1.000000     0.540000\n",
       "25%       2.000000    21.945000\n",
       "50%       4.000000    77.295000\n",
       "75%       9.000000   170.065000\n",
       "max      10.000000  1788.280000"
      ]
     },
     "execution_count": 18,
     "metadata": {},
     "output_type": "execute_result"
    }
   ],
   "source": [
    "costs.describe()"
   ]
  },
  {
   "cell_type": "code",
   "execution_count": 19,
   "metadata": {},
   "outputs": [
    {
     "data": {
      "text/plain": [
       "0.0"
      ]
     },
     "execution_count": 19,
     "metadata": {},
     "output_type": "execute_result"
    }
   ],
   "source": [
    "costs.duplicated().mean()"
   ]
  },
  {
   "cell_type": "markdown",
   "metadata": {},
   "source": [
    "Дубликатов нет."
   ]
  },
  {
   "cell_type": "markdown",
   "metadata": {},
   "source": [
    "<b> Шаг 2. Построение отчётов и просчет метрики <a name=\"p2\"></a>"
   ]
  },
  {
   "cell_type": "markdown",
   "metadata": {},
   "source": [
    "<b> 2.1 Продукт <a name=\"p2_1\"></a>\n",
    "\n",
    "<b> Найдем количество уникальных пользователей в день, неделю, месяц по выборке. <a name=\"p2_1_1\"></a>"
   ]
  },
  {
   "cell_type": "code",
   "execution_count": 20,
   "metadata": {},
   "outputs": [
    {
     "data": {
      "text/html": [
       "<div>\n",
       "<style scoped>\n",
       "    .dataframe tbody tr th:only-of-type {\n",
       "        vertical-align: middle;\n",
       "    }\n",
       "\n",
       "    .dataframe tbody tr th {\n",
       "        vertical-align: top;\n",
       "    }\n",
       "\n",
       "    .dataframe thead th {\n",
       "        text-align: right;\n",
       "    }\n",
       "</style>\n",
       "<table border=\"1\" class=\"dataframe\">\n",
       "  <thead>\n",
       "    <tr style=\"text-align: right;\">\n",
       "      <th></th>\n",
       "      <th>device</th>\n",
       "      <th>end_ts</th>\n",
       "      <th>source_id</th>\n",
       "      <th>start_ts</th>\n",
       "      <th>uid</th>\n",
       "      <th>day</th>\n",
       "      <th>week</th>\n",
       "      <th>month</th>\n",
       "      <th>year</th>\n",
       "    </tr>\n",
       "  </thead>\n",
       "  <tbody>\n",
       "    <tr>\n",
       "      <td>0</td>\n",
       "      <td>touch</td>\n",
       "      <td>2017-12-20 17:38:00</td>\n",
       "      <td>4</td>\n",
       "      <td>2017-12-20 17:20:00</td>\n",
       "      <td>16879256277535980062</td>\n",
       "      <td>2017-12-20</td>\n",
       "      <td>51</td>\n",
       "      <td>12</td>\n",
       "      <td>2017</td>\n",
       "    </tr>\n",
       "    <tr>\n",
       "      <td>1</td>\n",
       "      <td>desktop</td>\n",
       "      <td>2018-02-19 17:21:00</td>\n",
       "      <td>2</td>\n",
       "      <td>2018-02-19 16:53:00</td>\n",
       "      <td>104060357244891740</td>\n",
       "      <td>2018-02-19</td>\n",
       "      <td>8</td>\n",
       "      <td>2</td>\n",
       "      <td>2018</td>\n",
       "    </tr>\n",
       "    <tr>\n",
       "      <td>2</td>\n",
       "      <td>touch</td>\n",
       "      <td>2017-07-01 01:54:00</td>\n",
       "      <td>5</td>\n",
       "      <td>2017-07-01 01:54:00</td>\n",
       "      <td>7459035603376831527</td>\n",
       "      <td>2017-07-01</td>\n",
       "      <td>26</td>\n",
       "      <td>7</td>\n",
       "      <td>2017</td>\n",
       "    </tr>\n",
       "    <tr>\n",
       "      <td>3</td>\n",
       "      <td>desktop</td>\n",
       "      <td>2018-05-20 11:23:00</td>\n",
       "      <td>9</td>\n",
       "      <td>2018-05-20 10:59:00</td>\n",
       "      <td>16174680259334210214</td>\n",
       "      <td>2018-05-20</td>\n",
       "      <td>20</td>\n",
       "      <td>5</td>\n",
       "      <td>2018</td>\n",
       "    </tr>\n",
       "    <tr>\n",
       "      <td>4</td>\n",
       "      <td>desktop</td>\n",
       "      <td>2017-12-27 14:06:00</td>\n",
       "      <td>3</td>\n",
       "      <td>2017-12-27 14:06:00</td>\n",
       "      <td>9969694820036681168</td>\n",
       "      <td>2017-12-27</td>\n",
       "      <td>52</td>\n",
       "      <td>12</td>\n",
       "      <td>2017</td>\n",
       "    </tr>\n",
       "  </tbody>\n",
       "</table>\n",
       "</div>"
      ],
      "text/plain": [
       "    device              end_ts  source_id            start_ts  \\\n",
       "0    touch 2017-12-20 17:38:00          4 2017-12-20 17:20:00   \n",
       "1  desktop 2018-02-19 17:21:00          2 2018-02-19 16:53:00   \n",
       "2    touch 2017-07-01 01:54:00          5 2017-07-01 01:54:00   \n",
       "3  desktop 2018-05-20 11:23:00          9 2018-05-20 10:59:00   \n",
       "4  desktop 2017-12-27 14:06:00          3 2017-12-27 14:06:00   \n",
       "\n",
       "                    uid         day  week  month  year  \n",
       "0  16879256277535980062  2017-12-20    51     12  2017  \n",
       "1    104060357244891740  2018-02-19     8      2  2018  \n",
       "2   7459035603376831527  2017-07-01    26      7  2017  \n",
       "3  16174680259334210214  2018-05-20    20      5  2018  \n",
       "4   9969694820036681168  2017-12-27    52     12  2017  "
      ]
     },
     "execution_count": 20,
     "metadata": {},
     "output_type": "execute_result"
    }
   ],
   "source": [
    "visits['day']  = visits['start_ts'].dt.date\n",
    "visits['week'] = visits['start_ts'].dt.week\n",
    "visits['month'] = visits['start_ts'].dt.month\n",
    "visits['year'] = visits['start_ts'].dt.year\n",
    "visits.head()"
   ]
  },
  {
   "cell_type": "markdown",
   "metadata": {},
   "source": [
    "Рассчитаем DAU, WAU и MAU."
   ]
  },
  {
   "cell_type": "code",
   "execution_count": 21,
   "metadata": {
    "scrolled": true
   },
   "outputs": [
    {
     "name": "stdout",
     "output_type": "stream",
     "text": [
      "Среднее количество уникальных пользователей в день: uid    907.991758\n",
      "dtype: float64\n",
      "Среднее количество уникальных пользователей в неделю: uid    5716.245283\n",
      "dtype: float64\n",
      "Среднее количество уникальных пользователей в месяц: uid    23228.416667\n",
      "dtype: float64\n"
     ]
    }
   ],
   "source": [
    "dau = visits.groupby('day').agg({'uid': 'nunique'}).mean()\n",
    "wau = visits.groupby(['year', 'week']).agg({'uid': 'nunique'}).mean()\n",
    "mau = visits.groupby(['year', 'month']).agg({'uid': 'nunique'}).mean()\n",
    "\n",
    "print('Среднее количество уникальных пользователей в день:',dau)\n",
    "print('Среднее количество уникальных пользователей в неделю:',wau)\n",
    "print('Среднее количество уникальных пользователей в месяц:',mau)"
   ]
  },
  {
   "cell_type": "markdown",
   "metadata": {},
   "source": [
    "Построим распределение уникальных пользователей по месяцам."
   ]
  },
  {
   "cell_type": "code",
   "execution_count": 22,
   "metadata": {},
   "outputs": [
    {
     "data": {
      "image/png": "[encoded data removed]",
      "text/plain": [
       "<Figure size 432x288 with 1 Axes>"
      ]
     },
     "metadata": {
      "needs_background": "light"
     },
     "output_type": "display_data"
    }
   ],
   "source": [
    "visits['visit_month'] = visits['start_ts'].astype('datetime64[M]')\n",
    "users_count = visits.groupby('visit_month').agg({'uid': ['nunique']})\n",
    "users_count.plot();\n",
    "plt.title('Количество уникальных пользователей по месяцам.')\n",
    "plt.xlabel('Месяц');\n",
    "plt.ylabel('Количество');"
   ]
  },
  {
   "cell_type": "markdown",
   "metadata": {},
   "source": [
    "На графике отчетливо видны моменты проседания активности пользователей и их пики. Летом интерес пользователей к событиям культуры проседает. Осень, зима, весна - значительно больше интерисующихся. \n",
    "\n",
    "Страшно представить, каким был бы этот график в 2020 году, хм."
   ]
  },
  {
   "cell_type": "markdown",
   "metadata": {},
   "source": [
    "<b> Найдем среднее количество сессий в день и среднее время сессии <a name=\"p2_1_2\"></a>"
   ]
  },
  {
   "cell_type": "code",
   "execution_count": 23,
   "metadata": {},
   "outputs": [
    {
     "name": "stdout",
     "output_type": "stream",
     "text": [
      "Cреднее количество сессий в день 987.3626373626373\n",
      "Cреднее время сессии 0 days 00:10:43.025687\n"
     ]
    }
   ],
   "source": [
    "session_count = visits.groupby('day')['start_ts'].count().mean()\n",
    "session_time = (visits['end_ts'] - visits['start_ts']).mean()\n",
    "print('Cреднее количество сессий в день',session_count)\n",
    "print('Cреднее время сессии',session_time)"
   ]
  },
  {
   "cell_type": "markdown",
   "metadata": {},
   "source": [
    "В среднем на сайт в день заходят 987 раз. Среднее время сессии 10,5 минут."
   ]
  },
  {
   "cell_type": "markdown",
   "metadata": {},
   "source": [
    "<b> Чтобы определить как часто люди возвращаются на сайт рассчитаем Retention Rate <a name=\"p2_1_3\"></a>"
   ]
  },
  {
   "cell_type": "markdown",
   "metadata": {},
   "source": [
    "Найдем время первой сессии пользователя."
   ]
  },
  {
   "cell_type": "code",
   "execution_count": 24,
   "metadata": {},
   "outputs": [],
   "source": [
    "visits['day'] = pd.to_datetime(visits['day'])\n",
    "first_session_date = visits.groupby('uid')['day'].min()\n",
    "first_session_date.name = 'first_session_date'"
   ]
  },
  {
   "cell_type": "markdown",
   "metadata": {},
   "source": [
    "Сджойним его у таблице визитов."
   ]
  },
  {
   "cell_type": "code",
   "execution_count": 25,
   "metadata": {},
   "outputs": [],
   "source": [
    "visits = visits.join(first_session_date,on='uid')"
   ]
  },
  {
   "cell_type": "markdown",
   "metadata": {},
   "source": [
    "Рассчитаем метрику возврата пользователй по неделям. Проведем когортный анализ. Каждый месяц - новая когорта. \n",
    "\n",
    "Получим день начала недели, за которую произошло событие, он станет идентификатором недели. Вычтем из даты порядковый номер дня."
   ]
  },
  {
   "cell_type": "code",
   "execution_count": 26,
   "metadata": {},
   "outputs": [],
   "source": [
    "visits['activity_week'] = pd.to_datetime(visits['day'], unit='d') - pd.to_timedelta(visits['day'].dt.dayofweek, unit='d')\n",
    "visits['first_activity_week'] = pd.to_datetime(visits['first_session_date'], unit='d') - pd.to_timedelta(visits['first_session_date'].dt.dayofweek, unit='d') \n",
    "visits['activity_month'] = visits['visit_month']\n",
    "visits['first_activity_month'] = visits['first_session_date'].astype('datetime64[M]')"
   ]
  },
  {
   "cell_type": "markdown",
   "metadata": {},
   "source": [
    "Найдем жизненный цикл пользователя."
   ]
  },
  {
   "cell_type": "code",
   "execution_count": 27,
   "metadata": {},
   "outputs": [],
   "source": [
    "visits['cohort_lifetime'] = visits['activity_month'] - visits['first_activity_month']\n",
    "visits['cohort_lifetime'] = visits['cohort_lifetime'] / np.timedelta64(1,'M')\n",
    "visits['cohort_lifetime'] = visits['cohort_lifetime'].round().astype('int') "
   ]
  },
  {
   "cell_type": "markdown",
   "metadata": {},
   "source": [
    "Сгруппируем данные по когорте и lifetime. Посчитаем для каждой когорты количество активных пользователей на определённый «месяц жизни»."
   ]
  },
  {
   "cell_type": "code",
   "execution_count": 28,
   "metadata": {},
   "outputs": [],
   "source": [
    "cohorts = visits.groupby(['first_activity_month','cohort_lifetime']).agg({'uid':'nunique'}).reset_index()\n",
    "#cohorts = cohorts.query('cohort_lifetime <= 10 and first_activity_week < \"2018-01-01\"')"
   ]
  },
  {
   "cell_type": "markdown",
   "metadata": {},
   "source": [
    "Найдём исходное количество пользователей в когорте. Возьмём их число на нулевой месяц."
   ]
  },
  {
   "cell_type": "code",
   "execution_count": 29,
   "metadata": {},
   "outputs": [],
   "source": [
    "initial_users_count = cohorts[cohorts['cohort_lifetime'] == 0][['first_activity_month','uid']]"
   ]
  },
  {
   "cell_type": "markdown",
   "metadata": {},
   "source": [
    "Объединим данные по когортам с исходным количеством пользователей в когорте:"
   ]
  },
  {
   "cell_type": "code",
   "execution_count": 30,
   "metadata": {},
   "outputs": [],
   "source": [
    "initial_users_count = initial_users_count.rename(columns={'uid':'cohort_users'})\n",
    "cohorts = cohorts.merge(initial_users_count,on='first_activity_month')"
   ]
  },
  {
   "cell_type": "markdown",
   "metadata": {},
   "source": [
    "Наконец, рассчитаем Retention Rate. Разделим количество активных пользователей за каждый месяц на исходное число пользователей в когорте."
   ]
  },
  {
   "cell_type": "code",
   "execution_count": 31,
   "metadata": {},
   "outputs": [],
   "source": [
    "cohorts['retention'] = cohorts['uid'] / cohorts['cohort_users']"
   ]
  },
  {
   "cell_type": "markdown",
   "metadata": {},
   "source": [
    "Построим сводную таблицу и создадим тепловую карту."
   ]
  },
  {
   "cell_type": "code",
   "execution_count": 32,
   "metadata": {
    "scrolled": true
   },
   "outputs": [],
   "source": [
    "retention_pivot = cohorts.pivot_table(index='first_activity_month',columns='cohort_lifetime',values='retention',aggfunc='sum')"
   ]
  },
  {
   "cell_type": "code",
   "execution_count": 33,
   "metadata": {},
   "outputs": [
    {
     "data": {
      "image/png": "[encoded data removed]",
      "text/plain": [
       "<Figure size 936x648 with 2 Axes>"
      ]
     },
     "metadata": {},
     "output_type": "display_data"
    }
   ],
   "source": [
    "sns.set(style='white')\n",
    "plt.figure(figsize=(13, 9))\n",
    "plt.title('Коэффициент удержания по когортам')\n",
    "sns.heatmap(retention_pivot, annot=True, fmt='.2%', linewidths=1, linecolor='gray', vmax=0.1);"
   ]
  },
  {
   "cell_type": "markdown",
   "metadata": {},
   "source": [
    "Самый высокий Retention Rate первой недели отмечен в первой когорте пользователей - 9,2 %. Да и в целом эта когорта выделяется от остальных. Может в конце мая была запущена активная рекламная компания с плюшками?\n",
    "\n",
    "В дальнейшем он варьируется по когортам с течением времени от 2,7 до 5,7 % и убывает начиная со 2 недели.\n",
    "В целом, можно отметить очень низкий коэффициент возврата пользователей и низкий коэффицент их удержания."
   ]
  },
  {
   "cell_type": "markdown",
   "metadata": {},
   "source": [
    "Долю вернувшихся пользователей можно рассчитать и проще.\n",
    "\n",
    "Отберем пользователей, совершивших 2 и более сессии"
   ]
  },
  {
   "cell_type": "code",
   "execution_count": 34,
   "metadata": {},
   "outputs": [],
   "source": [
    "repeat = visits.groupby(['uid'])['start_ts'].count().reset_index()\n",
    "repeat = repeat.query('start_ts > 1')"
   ]
  },
  {
   "cell_type": "markdown",
   "metadata": {},
   "source": [
    "Поделим количество вернувшихся на общее количество уникальных пользователей."
   ]
  },
  {
   "cell_type": "code",
   "execution_count": 35,
   "metadata": {},
   "outputs": [
    {
     "data": {
      "text/plain": [
       "22.84622363248294"
      ]
     },
     "execution_count": 35,
     "metadata": {},
     "output_type": "execute_result"
    }
   ],
   "source": [
    "repeat['start_ts'].count() / len(visits['uid'].unique()) * 100"
   ]
  },
  {
   "cell_type": "markdown",
   "metadata": {},
   "source": [
    "Таким образом только 22,8 % пользователей возвращаяются на сайт. Есть над чем работать."
   ]
  },
  {
   "cell_type": "markdown",
   "metadata": {},
   "source": [
    "------------------------------------------------------------------------------------------\n",
    "<b> 2.2 Продажи <a name=\"p2_2\"></a>\n",
    "\n",
    "<b> Когда люди начинают покупать? <a name=\"p2_2_1\"></a>"
   ]
  },
  {
   "cell_type": "code",
   "execution_count": 36,
   "metadata": {},
   "outputs": [
    {
     "data": {
      "text/html": [
       "<div>\n",
       "<style scoped>\n",
       "    .dataframe tbody tr th:only-of-type {\n",
       "        vertical-align: middle;\n",
       "    }\n",
       "\n",
       "    .dataframe tbody tr th {\n",
       "        vertical-align: top;\n",
       "    }\n",
       "\n",
       "    .dataframe thead th {\n",
       "        text-align: right;\n",
       "    }\n",
       "</style>\n",
       "<table border=\"1\" class=\"dataframe\">\n",
       "  <thead>\n",
       "    <tr style=\"text-align: right;\">\n",
       "      <th></th>\n",
       "      <th>buy_ts</th>\n",
       "      <th>revenue</th>\n",
       "      <th>uid</th>\n",
       "      <th>day</th>\n",
       "      <th>week</th>\n",
       "      <th>month</th>\n",
       "      <th>year</th>\n",
       "    </tr>\n",
       "  </thead>\n",
       "  <tbody>\n",
       "    <tr>\n",
       "      <td>0</td>\n",
       "      <td>2017-06-01 00:10:00</td>\n",
       "      <td>17.00</td>\n",
       "      <td>10329302124590727494</td>\n",
       "      <td>2017-06-01</td>\n",
       "      <td>22</td>\n",
       "      <td>6</td>\n",
       "      <td>2017</td>\n",
       "    </tr>\n",
       "    <tr>\n",
       "      <td>1</td>\n",
       "      <td>2017-06-01 00:25:00</td>\n",
       "      <td>0.55</td>\n",
       "      <td>11627257723692907447</td>\n",
       "      <td>2017-06-01</td>\n",
       "      <td>22</td>\n",
       "      <td>6</td>\n",
       "      <td>2017</td>\n",
       "    </tr>\n",
       "    <tr>\n",
       "      <td>2</td>\n",
       "      <td>2017-06-01 00:27:00</td>\n",
       "      <td>0.37</td>\n",
       "      <td>17903680561304213844</td>\n",
       "      <td>2017-06-01</td>\n",
       "      <td>22</td>\n",
       "      <td>6</td>\n",
       "      <td>2017</td>\n",
       "    </tr>\n",
       "    <tr>\n",
       "      <td>3</td>\n",
       "      <td>2017-06-01 00:29:00</td>\n",
       "      <td>0.55</td>\n",
       "      <td>16109239769442553005</td>\n",
       "      <td>2017-06-01</td>\n",
       "      <td>22</td>\n",
       "      <td>6</td>\n",
       "      <td>2017</td>\n",
       "    </tr>\n",
       "    <tr>\n",
       "      <td>4</td>\n",
       "      <td>2017-06-01 07:58:00</td>\n",
       "      <td>0.37</td>\n",
       "      <td>14200605875248379450</td>\n",
       "      <td>2017-06-01</td>\n",
       "      <td>22</td>\n",
       "      <td>6</td>\n",
       "      <td>2017</td>\n",
       "    </tr>\n",
       "  </tbody>\n",
       "</table>\n",
       "</div>"
      ],
      "text/plain": [
       "               buy_ts  revenue                   uid         day  week  month  \\\n",
       "0 2017-06-01 00:10:00    17.00  10329302124590727494  2017-06-01    22      6   \n",
       "1 2017-06-01 00:25:00     0.55  11627257723692907447  2017-06-01    22      6   \n",
       "2 2017-06-01 00:27:00     0.37  17903680561304213844  2017-06-01    22      6   \n",
       "3 2017-06-01 00:29:00     0.55  16109239769442553005  2017-06-01    22      6   \n",
       "4 2017-06-01 07:58:00     0.37  14200605875248379450  2017-06-01    22      6   \n",
       "\n",
       "   year  \n",
       "0  2017  \n",
       "1  2017  \n",
       "2  2017  \n",
       "3  2017  \n",
       "4  2017  "
      ]
     },
     "execution_count": 36,
     "metadata": {},
     "output_type": "execute_result"
    }
   ],
   "source": [
    "orders['day']  = orders['buy_ts'].dt.date\n",
    "orders['week'] = orders['buy_ts'].dt.week\n",
    "orders['month'] = orders['buy_ts'].dt.month\n",
    "orders['year'] = orders['buy_ts'].dt.year\n",
    "\n",
    "orders.head()"
   ]
  },
  {
   "cell_type": "code",
   "execution_count": 37,
   "metadata": {
    "scrolled": false
   },
   "outputs": [
    {
     "data": {
      "image/png": "[encoded data removed]",
      "text/plain": [
       "<Figure size 432x288 with 1 Axes>"
      ]
     },
     "metadata": {},
     "output_type": "display_data"
    }
   ],
   "source": [
    "orders['order_month'] = orders['buy_ts'].astype('datetime64[M]')\n",
    "orders.groupby(['order_month'])['buy_ts'].count().plot(y='buy_ts');"
   ]
  },
  {
   "cell_type": "markdown",
   "metadata": {},
   "source": [
    "Видим, что покупки на сайте проседают летом и достигают пиковых значений к новому году и весной. Думаю от части это можно связать с подготовкой к праздникам и поиском отличных подарков.\n",
    "\n",
    "Посчитаем отдельно расклад по новым покупателям, чтобы найти среднее время покупки с момента первого посещения."
   ]
  },
  {
   "cell_type": "code",
   "execution_count": 38,
   "metadata": {
    "scrolled": false
   },
   "outputs": [],
   "source": [
    "first_orders2 = orders.groupby('uid').agg({'buy_ts': 'min'}).reset_index()\n",
    "first_orders2.columns = ['uid', 'first_order_day']\n",
    "visit_first_buy = pd.merge(visits,first_orders2, on='uid') "
   ]
  },
  {
   "cell_type": "code",
   "execution_count": 39,
   "metadata": {},
   "outputs": [],
   "source": [
    "visit_first_buy2 = orders.groupby('uid').agg({'buy_ts': 'min'})\\\n",
    "            .rename(columns={'buy_ts': 'first_buy_ts'})\\\n",
    "            .join(\n",
    "                visits.groupby('uid').agg({'start_ts': 'min'})\\\n",
    "                .rename(columns={'start_ts': 'first_session_ts'})\n",
    "                )\\\n",
    "    .assign(ts_minutes_to_buy = lambda row: (row['first_buy_ts'] - row['first_session_ts']).dt.total_seconds()/60)"
   ]
  },
  {
   "cell_type": "code",
   "execution_count": 40,
   "metadata": {
    "scrolled": true
   },
   "outputs": [
    {
     "data": {
      "text/plain": [
       "count     36523.000000\n",
       "mean      24340.175834\n",
       "std       67784.774690\n",
       "min           0.000000\n",
       "25%           4.000000\n",
       "50%          16.000000\n",
       "75%        2897.000000\n",
       "max      523144.000000\n",
       "Name: ts_minutes_to_buy, dtype: float64"
      ]
     },
     "execution_count": 40,
     "metadata": {},
     "output_type": "execute_result"
    }
   ],
   "source": [
    "visit_first_buy2['ts_minutes_to_buy'].describe()"
   ]
  },
  {
   "cell_type": "markdown",
   "metadata": {},
   "source": [
    "Распределение неоднородное. Т.к. медиана и среднее сильно отличаются друг от друга, предположим, что время покупки сильно разнится и присутствуют выбросы. По медиане будем считать, что в среднем с момента первого визита до заказа проходит 1 день 16 часов.\n",
    "\n",
    "Потроим гистограму распределения в часах."
   ]
  },
  {
   "cell_type": "code",
   "execution_count": 41,
   "metadata": {
    "scrolled": false
   },
   "outputs": [
    {
     "data": {
      "text/plain": [
       "Text(0.5, 0, 'Время до заказа, минуты')"
      ]
     },
     "execution_count": 41,
     "metadata": {},
     "output_type": "execute_result"
    },
    {
     "data": {
      "image/png": "[encoded data removed]",
      "text/plain": [
       "<Figure size 864x360 with 1 Axes>"
      ]
     },
     "metadata": {},
     "output_type": "display_data"
    }
   ],
   "source": [
    "visit_first_buy2.query(\"ts_minutes_to_buy < 1000\").hist(bins=30,figsize=(12, 5),range=(0,1000));\n",
    "plt.title('Гистограмма длительности времени до первого заказа')\n",
    "plt.yscale('log')\n",
    "plt.xlabel('Время до заказа, минуты')"
   ]
  },
  {
   "cell_type": "markdown",
   "metadata": {},
   "source": [
    "Больше всего покупок совершается в первые часы с момента перого визита."
   ]
  },
  {
   "cell_type": "code",
   "execution_count": 42,
   "metadata": {},
   "outputs": [],
   "source": [
    "# вычисляем время первой сессии + время первого заказа, объединяем по uid и вычисляем разницу во времени\n",
    "# в минутах - dt.total_seconds() возвращает секунды, делим на 60\n",
    "viz_duration = orders.groupby('uid').agg({'buy_ts': 'min'})\\\n",
    "    .rename(columns={'buy_ts': 'first_buy_ts'})\\\n",
    "    .join(\n",
    "        visits.groupby('uid').agg({'start_ts': 'min'})\\\n",
    "            .rename(columns={'start_ts': 'first_session_ts'})\n",
    "    )\\\n",
    "    .assign(ts_minutes_to_buy = lambda row: (row['first_buy_ts'] - row['first_session_ts']).dt.total_seconds()/60)"
   ]
  },
  {
   "cell_type": "code",
   "execution_count": 43,
   "metadata": {},
   "outputs": [
    {
     "data": {
      "text/plain": [
       "count     36523.000000\n",
       "mean      24340.175834\n",
       "std       67784.774690\n",
       "min           0.000000\n",
       "50%          16.000000\n",
       "75%        2897.000000\n",
       "85%       31755.500000\n",
       "90%       83633.000000\n",
       "95%      178408.000000\n",
       "max      523144.000000\n",
       "Name: ts_minutes_to_buy, dtype: float64"
      ]
     },
     "execution_count": 43,
     "metadata": {},
     "output_type": "execute_result"
    }
   ],
   "source": [
    "# посмотрим на описательные статистики\n",
    "viz_duration['ts_minutes_to_buy'].describe([0.75, 0.85, 0.9, 0.95])"
   ]
  },
  {
   "cell_type": "markdown",
   "metadata": {},
   "source": [
    "Видим, что стандартное отклонение в несколько раз выше среднего, значит есть много выбросов, попробуем построить диаграмму размаха, не отображая выбросы"
   ]
  },
  {
   "cell_type": "code",
   "execution_count": 44,
   "metadata": {},
   "outputs": [
    {
     "data": {
      "image/png": "[encoded data removed]",
      "text/plain": [
       "<Figure size 648x432 with 1 Axes>"
      ]
     },
     "metadata": {},
     "output_type": "display_data"
    }
   ],
   "source": [
    "plt.figure(figsize=(9, 6))\n",
    "plt.title('Диаграмма размаха длительности времени до первого заказа')\n",
    "plt.boxplot(viz_duration['ts_minutes_to_buy'], showfliers=False, vert=False)\n",
    "#plt.xscale('log')\n",
    "plt.xlabel('Время до заказа, минуты')\n",
    "plt.grid(True, color='grey', linewidth=0.5)\n",
    "plt.show()"
   ]
  },
  {
   "cell_type": "markdown",
   "metadata": {},
   "source": [
    "Все равно видим, что есть большие значения, медиана прилипшая к 0, попробуем ограничить сильнее диапазон значений и построить гистограмму"
   ]
  },
  {
   "cell_type": "code",
   "execution_count": 45,
   "metadata": {},
   "outputs": [
    {
     "data": {
      "image/png": "[encoded data removed]",
      "text/plain": [
       "<Figure size 648x432 with 1 Axes>"
      ]
     },
     "metadata": {},
     "output_type": "display_data"
    }
   ],
   "source": [
    "plt.figure(figsize=(9, 6))\n",
    "plt.title('Гистограмма длительности времени до первого заказа')\n",
    "plt.hist(viz_duration.query(\"ts_minutes_to_buy < 1000\")['ts_minutes_to_buy'], bins=31)\n",
    "#plt.xscale('log')\n",
    "plt.yscale('log')\n",
    "plt.xlabel('Время до заказа, минуты')\n",
    "plt.grid(True, color='grey', linewidth=0.5)\n",
    "plt.show()"
   ]
  },
  {
   "cell_type": "markdown",
   "metadata": {},
   "source": [
    "<b> Сколько раз покупают за период? <a name=\"p2_2_2\"></a>"
   ]
  },
  {
   "cell_type": "code",
   "execution_count": 46,
   "metadata": {},
   "outputs": [
    {
     "data": {
      "text/plain": [
       "1.3803630588943954"
      ]
     },
     "execution_count": 46,
     "metadata": {},
     "output_type": "execute_result"
    }
   ],
   "source": [
    "(orders.groupby(['uid'])['buy_ts'].count().reset_index())['buy_ts'].mean()"
   ]
  },
  {
   "cell_type": "markdown",
   "metadata": {},
   "source": [
    "В среднем один пользователь совершает 1,38 покупок на сайте за год."
   ]
  },
  {
   "cell_type": "code",
   "execution_count": 47,
   "metadata": {},
   "outputs": [
    {
     "data": {
      "text/plain": [
       "month\n",
       "1     1.211134\n",
       "2     1.240254\n",
       "3     1.273858\n",
       "4     1.192784\n",
       "5     1.226298\n",
       "6     1.163538\n",
       "7     1.191028\n",
       "8     1.227582\n",
       "9     1.231636\n",
       "10    1.214759\n",
       "11    1.244557\n",
       "12    1.258195\n",
       "Name: buy_ts, dtype: float64"
      ]
     },
     "execution_count": 47,
     "metadata": {},
     "output_type": "execute_result"
    }
   ],
   "source": [
    "monthly = orders.groupby(['uid','month'])['buy_ts'].count().reset_index()\n",
    "monthly.groupby(['month'])['buy_ts'].mean()"
   ]
  },
  {
   "cell_type": "markdown",
   "metadata": {},
   "source": [
    "Если разбить покупки по месяцам, то самый высокий средний показатель покупок наблюдается в феврале, ноябре и декабре. "
   ]
  },
  {
   "cell_type": "markdown",
   "metadata": {},
   "source": [
    "<b> Какой средний чек? <a name=\"p2_2_3\"></a>"
   ]
  },
  {
   "cell_type": "code",
   "execution_count": 48,
   "metadata": {},
   "outputs": [
    {
     "data": {
      "text/plain": [
       "4.999646930477041"
      ]
     },
     "execution_count": 48,
     "metadata": {},
     "output_type": "execute_result"
    }
   ],
   "source": [
    "orders['revenue'].mean()"
   ]
  },
  {
   "cell_type": "markdown",
   "metadata": {},
   "source": [
    "Средняя выручка по выборке составила 4,99. Это в какой валюте интересно?\n",
    "\n",
    "Разобьем ее по месяцам."
   ]
  },
  {
   "cell_type": "code",
   "execution_count": 49,
   "metadata": {
    "scrolled": true
   },
   "outputs": [
    {
     "data": {
      "text/plain": [
       "month\n",
       "1     4.112927\n",
       "2     4.840095\n",
       "3     5.413930\n",
       "4     5.150645\n",
       "5     4.771279\n",
       "6     4.059834\n",
       "7     5.306589\n",
       "8     4.847139\n",
       "9     5.416448\n",
       "10    4.928280\n",
       "11    4.783518\n",
       "12    5.852139\n",
       "Name: revenue, dtype: float64"
      ]
     },
     "execution_count": 49,
     "metadata": {},
     "output_type": "execute_result"
    }
   ],
   "source": [
    "orders.groupby(['month'])['revenue'].mean()"
   ]
  },
  {
   "cell_type": "markdown",
   "metadata": {},
   "source": [
    "Наблюдаем самый высокий средний чек в декабре."
   ]
  },
  {
   "cell_type": "markdown",
   "metadata": {},
   "source": [
    "<b> Сколько денег приносят? (LTV) <a name=\"p2_2_4\"></a>"
   ]
  },
  {
   "cell_type": "markdown",
   "metadata": {},
   "source": [
    "Добавим месяц первого заказа в датафрейм к заказам, сгруппируем зазазы в когорты, объединим cohorts и cohort_sizes."
   ]
  },
  {
   "cell_type": "code",
   "execution_count": 50,
   "metadata": {},
   "outputs": [],
   "source": [
    "orders['order_month'] = orders['buy_ts'].astype('datetime64[M]')\n",
    "first_orders = orders.groupby('uid').agg({'order_month': 'min'}).reset_index()\n",
    "first_orders.columns = ['uid', 'first_order_month']\n",
    "cohort_sizes = first_orders.groupby('first_order_month').agg({'uid': 'nunique'}).reset_index()\n",
    "cohort_sizes.columns = ['first_order_month', 'n_buyers']"
   ]
  },
  {
   "cell_type": "code",
   "execution_count": 51,
   "metadata": {
    "scrolled": true
   },
   "outputs": [
    {
     "data": {
      "text/html": [
       "<div>\n",
       "<style scoped>\n",
       "    .dataframe tbody tr th:only-of-type {\n",
       "        vertical-align: middle;\n",
       "    }\n",
       "\n",
       "    .dataframe tbody tr th {\n",
       "        vertical-align: top;\n",
       "    }\n",
       "\n",
       "    .dataframe thead th {\n",
       "        text-align: right;\n",
       "    }\n",
       "</style>\n",
       "<table border=\"1\" class=\"dataframe\">\n",
       "  <thead>\n",
       "    <tr style=\"text-align: right;\">\n",
       "      <th></th>\n",
       "      <th>first_order_month</th>\n",
       "      <th>n_buyers</th>\n",
       "      <th>order_month</th>\n",
       "      <th>revenue</th>\n",
       "    </tr>\n",
       "  </thead>\n",
       "  <tbody>\n",
       "    <tr>\n",
       "      <td>0</td>\n",
       "      <td>2017-06-01</td>\n",
       "      <td>2023</td>\n",
       "      <td>2017-06-01</td>\n",
       "      <td>9557.49</td>\n",
       "    </tr>\n",
       "    <tr>\n",
       "      <td>1</td>\n",
       "      <td>2017-06-01</td>\n",
       "      <td>2023</td>\n",
       "      <td>2017-07-01</td>\n",
       "      <td>981.82</td>\n",
       "    </tr>\n",
       "    <tr>\n",
       "      <td>2</td>\n",
       "      <td>2017-06-01</td>\n",
       "      <td>2023</td>\n",
       "      <td>2017-08-01</td>\n",
       "      <td>885.34</td>\n",
       "    </tr>\n",
       "    <tr>\n",
       "      <td>3</td>\n",
       "      <td>2017-06-01</td>\n",
       "      <td>2023</td>\n",
       "      <td>2017-09-01</td>\n",
       "      <td>1931.30</td>\n",
       "    </tr>\n",
       "    <tr>\n",
       "      <td>4</td>\n",
       "      <td>2017-06-01</td>\n",
       "      <td>2023</td>\n",
       "      <td>2017-10-01</td>\n",
       "      <td>2068.58</td>\n",
       "    </tr>\n",
       "    <tr>\n",
       "      <td>...</td>\n",
       "      <td>...</td>\n",
       "      <td>...</td>\n",
       "      <td>...</td>\n",
       "      <td>...</td>\n",
       "    </tr>\n",
       "    <tr>\n",
       "      <td>74</td>\n",
       "      <td>2018-03-01</td>\n",
       "      <td>3533</td>\n",
       "      <td>2018-05-01</td>\n",
       "      <td>1114.87</td>\n",
       "    </tr>\n",
       "    <tr>\n",
       "      <td>75</td>\n",
       "      <td>2018-04-01</td>\n",
       "      <td>2276</td>\n",
       "      <td>2018-04-01</td>\n",
       "      <td>10600.69</td>\n",
       "    </tr>\n",
       "    <tr>\n",
       "      <td>76</td>\n",
       "      <td>2018-04-01</td>\n",
       "      <td>2276</td>\n",
       "      <td>2018-05-01</td>\n",
       "      <td>1209.92</td>\n",
       "    </tr>\n",
       "    <tr>\n",
       "      <td>77</td>\n",
       "      <td>2018-05-01</td>\n",
       "      <td>2988</td>\n",
       "      <td>2018-05-01</td>\n",
       "      <td>13925.76</td>\n",
       "    </tr>\n",
       "    <tr>\n",
       "      <td>78</td>\n",
       "      <td>2018-06-01</td>\n",
       "      <td>1</td>\n",
       "      <td>2018-06-01</td>\n",
       "      <td>3.42</td>\n",
       "    </tr>\n",
       "  </tbody>\n",
       "</table>\n",
       "<p>79 rows × 4 columns</p>\n",
       "</div>"
      ],
      "text/plain": [
       "   first_order_month  n_buyers order_month   revenue\n",
       "0         2017-06-01      2023  2017-06-01   9557.49\n",
       "1         2017-06-01      2023  2017-07-01    981.82\n",
       "2         2017-06-01      2023  2017-08-01    885.34\n",
       "3         2017-06-01      2023  2017-09-01   1931.30\n",
       "4         2017-06-01      2023  2017-10-01   2068.58\n",
       "..               ...       ...         ...       ...\n",
       "74        2018-03-01      3533  2018-05-01   1114.87\n",
       "75        2018-04-01      2276  2018-04-01  10600.69\n",
       "76        2018-04-01      2276  2018-05-01   1209.92\n",
       "77        2018-05-01      2988  2018-05-01  13925.76\n",
       "78        2018-06-01         1  2018-06-01      3.42\n",
       "\n",
       "[79 rows x 4 columns]"
      ]
     },
     "execution_count": 51,
     "metadata": {},
     "output_type": "execute_result"
    }
   ],
   "source": [
    "orders_first_month = pd.merge(orders,first_orders, on='uid') \n",
    "cohorts = orders_first_month.groupby(['first_order_month','order_month']).agg({'revenue': 'sum'}).reset_index() \n",
    "report = pd.merge(cohort_sizes, cohorts, on='first_order_month')\n",
    "report"
   ]
  },
  {
   "cell_type": "markdown",
   "metadata": {},
   "source": [
    "Посчитаем валовую прибыль. предположим, что маржинальность в Яндекс.Афише = 100%, поэтому она фактически будет равна столбцу `revenue`. Посчитаем возраст когорт и их LTV."
   ]
  },
  {
   "cell_type": "code",
   "execution_count": 52,
   "metadata": {
    "scrolled": true
   },
   "outputs": [
    {
     "data": {
      "text/html": [
       "<div>\n",
       "<style scoped>\n",
       "    .dataframe tbody tr th:only-of-type {\n",
       "        vertical-align: middle;\n",
       "    }\n",
       "\n",
       "    .dataframe tbody tr th {\n",
       "        vertical-align: top;\n",
       "    }\n",
       "\n",
       "    .dataframe thead th {\n",
       "        text-align: right;\n",
       "    }\n",
       "</style>\n",
       "<table border=\"1\" class=\"dataframe\">\n",
       "  <thead>\n",
       "    <tr style=\"text-align: right;\">\n",
       "      <th></th>\n",
       "      <th>first_order_month</th>\n",
       "      <th>n_buyers</th>\n",
       "      <th>order_month</th>\n",
       "      <th>revenue</th>\n",
       "      <th>gp</th>\n",
       "      <th>age</th>\n",
       "      <th>ltv</th>\n",
       "    </tr>\n",
       "  </thead>\n",
       "  <tbody>\n",
       "    <tr>\n",
       "      <td>0</td>\n",
       "      <td>2017-06-01</td>\n",
       "      <td>2023</td>\n",
       "      <td>2017-06-01</td>\n",
       "      <td>9557.49</td>\n",
       "      <td>9557.49</td>\n",
       "      <td>0</td>\n",
       "      <td>4.724414</td>\n",
       "    </tr>\n",
       "    <tr>\n",
       "      <td>1</td>\n",
       "      <td>2017-06-01</td>\n",
       "      <td>2023</td>\n",
       "      <td>2017-07-01</td>\n",
       "      <td>981.82</td>\n",
       "      <td>981.82</td>\n",
       "      <td>1</td>\n",
       "      <td>0.485329</td>\n",
       "    </tr>\n",
       "    <tr>\n",
       "      <td>2</td>\n",
       "      <td>2017-06-01</td>\n",
       "      <td>2023</td>\n",
       "      <td>2017-08-01</td>\n",
       "      <td>885.34</td>\n",
       "      <td>885.34</td>\n",
       "      <td>2</td>\n",
       "      <td>0.437637</td>\n",
       "    </tr>\n",
       "    <tr>\n",
       "      <td>3</td>\n",
       "      <td>2017-06-01</td>\n",
       "      <td>2023</td>\n",
       "      <td>2017-09-01</td>\n",
       "      <td>1931.30</td>\n",
       "      <td>1931.30</td>\n",
       "      <td>3</td>\n",
       "      <td>0.954671</td>\n",
       "    </tr>\n",
       "    <tr>\n",
       "      <td>4</td>\n",
       "      <td>2017-06-01</td>\n",
       "      <td>2023</td>\n",
       "      <td>2017-10-01</td>\n",
       "      <td>2068.58</td>\n",
       "      <td>2068.58</td>\n",
       "      <td>4</td>\n",
       "      <td>1.022531</td>\n",
       "    </tr>\n",
       "    <tr>\n",
       "      <td>...</td>\n",
       "      <td>...</td>\n",
       "      <td>...</td>\n",
       "      <td>...</td>\n",
       "      <td>...</td>\n",
       "      <td>...</td>\n",
       "      <td>...</td>\n",
       "      <td>...</td>\n",
       "    </tr>\n",
       "    <tr>\n",
       "      <td>74</td>\n",
       "      <td>2018-03-01</td>\n",
       "      <td>3533</td>\n",
       "      <td>2018-05-01</td>\n",
       "      <td>1114.87</td>\n",
       "      <td>1114.87</td>\n",
       "      <td>2</td>\n",
       "      <td>0.315559</td>\n",
       "    </tr>\n",
       "    <tr>\n",
       "      <td>75</td>\n",
       "      <td>2018-04-01</td>\n",
       "      <td>2276</td>\n",
       "      <td>2018-04-01</td>\n",
       "      <td>10600.69</td>\n",
       "      <td>10600.69</td>\n",
       "      <td>0</td>\n",
       "      <td>4.657597</td>\n",
       "    </tr>\n",
       "    <tr>\n",
       "      <td>76</td>\n",
       "      <td>2018-04-01</td>\n",
       "      <td>2276</td>\n",
       "      <td>2018-05-01</td>\n",
       "      <td>1209.92</td>\n",
       "      <td>1209.92</td>\n",
       "      <td>1</td>\n",
       "      <td>0.531599</td>\n",
       "    </tr>\n",
       "    <tr>\n",
       "      <td>77</td>\n",
       "      <td>2018-05-01</td>\n",
       "      <td>2988</td>\n",
       "      <td>2018-05-01</td>\n",
       "      <td>13925.76</td>\n",
       "      <td>13925.76</td>\n",
       "      <td>0</td>\n",
       "      <td>4.660562</td>\n",
       "    </tr>\n",
       "    <tr>\n",
       "      <td>78</td>\n",
       "      <td>2018-06-01</td>\n",
       "      <td>1</td>\n",
       "      <td>2018-06-01</td>\n",
       "      <td>3.42</td>\n",
       "      <td>3.42</td>\n",
       "      <td>0</td>\n",
       "      <td>3.420000</td>\n",
       "    </tr>\n",
       "  </tbody>\n",
       "</table>\n",
       "<p>79 rows × 7 columns</p>\n",
       "</div>"
      ],
      "text/plain": [
       "   first_order_month  n_buyers order_month   revenue        gp  age       ltv\n",
       "0         2017-06-01      2023  2017-06-01   9557.49   9557.49    0  4.724414\n",
       "1         2017-06-01      2023  2017-07-01    981.82    981.82    1  0.485329\n",
       "2         2017-06-01      2023  2017-08-01    885.34    885.34    2  0.437637\n",
       "3         2017-06-01      2023  2017-09-01   1931.30   1931.30    3  0.954671\n",
       "4         2017-06-01      2023  2017-10-01   2068.58   2068.58    4  1.022531\n",
       "..               ...       ...         ...       ...       ...  ...       ...\n",
       "74        2018-03-01      3533  2018-05-01   1114.87   1114.87    2  0.315559\n",
       "75        2018-04-01      2276  2018-04-01  10600.69  10600.69    0  4.657597\n",
       "76        2018-04-01      2276  2018-05-01   1209.92   1209.92    1  0.531599\n",
       "77        2018-05-01      2988  2018-05-01  13925.76  13925.76    0  4.660562\n",
       "78        2018-06-01         1  2018-06-01      3.42      3.42    0  3.420000\n",
       "\n",
       "[79 rows x 7 columns]"
      ]
     },
     "execution_count": 52,
     "metadata": {},
     "output_type": "execute_result"
    }
   ],
   "source": [
    "margin_rate = 1 \n",
    "report['gp'] =  report['revenue'] * margin_rate\n",
    "report['age'] = (report['order_month'] - report['first_order_month']) / np.timedelta64(1, 'M')\n",
    "report['age'] = report['age'].round().astype('int')\n",
    "report['ltv'] = report['gp'] / report['n_buyers']\n",
    "report"
   ]
  },
  {
   "cell_type": "markdown",
   "metadata": {},
   "source": [
    "Создадим сводную таблицу для наглядности."
   ]
  },
  {
   "cell_type": "code",
   "execution_count": 53,
   "metadata": {
    "scrolled": true
   },
   "outputs": [
    {
     "data": {
      "text/html": [
       "<div>\n",
       "<style scoped>\n",
       "    .dataframe tbody tr th:only-of-type {\n",
       "        vertical-align: middle;\n",
       "    }\n",
       "\n",
       "    .dataframe tbody tr th {\n",
       "        vertical-align: top;\n",
       "    }\n",
       "\n",
       "    .dataframe thead th {\n",
       "        text-align: right;\n",
       "    }\n",
       "</style>\n",
       "<table border=\"1\" class=\"dataframe\">\n",
       "  <thead>\n",
       "    <tr style=\"text-align: right;\">\n",
       "      <th>age</th>\n",
       "      <th>0</th>\n",
       "      <th>1</th>\n",
       "      <th>2</th>\n",
       "      <th>3</th>\n",
       "      <th>4</th>\n",
       "      <th>5</th>\n",
       "      <th>6</th>\n",
       "      <th>7</th>\n",
       "      <th>8</th>\n",
       "      <th>9</th>\n",
       "      <th>10</th>\n",
       "      <th>11</th>\n",
       "    </tr>\n",
       "    <tr>\n",
       "      <th>first_order_month</th>\n",
       "      <th></th>\n",
       "      <th></th>\n",
       "      <th></th>\n",
       "      <th></th>\n",
       "      <th></th>\n",
       "      <th></th>\n",
       "      <th></th>\n",
       "      <th></th>\n",
       "      <th></th>\n",
       "      <th></th>\n",
       "      <th></th>\n",
       "      <th></th>\n",
       "    </tr>\n",
       "  </thead>\n",
       "  <tbody>\n",
       "    <tr>\n",
       "      <td>2017-06-01</td>\n",
       "      <td>4.724</td>\n",
       "      <td>0.485</td>\n",
       "      <td>0.438</td>\n",
       "      <td>0.955</td>\n",
       "      <td>1.023</td>\n",
       "      <td>0.736</td>\n",
       "      <td>0.950</td>\n",
       "      <td>0.582</td>\n",
       "      <td>0.553</td>\n",
       "      <td>0.606</td>\n",
       "      <td>0.571</td>\n",
       "      <td>0.257</td>\n",
       "    </tr>\n",
       "    <tr>\n",
       "      <td>2017-07-01</td>\n",
       "      <td>6.010</td>\n",
       "      <td>0.335</td>\n",
       "      <td>0.624</td>\n",
       "      <td>0.359</td>\n",
       "      <td>0.177</td>\n",
       "      <td>0.156</td>\n",
       "      <td>0.120</td>\n",
       "      <td>0.142</td>\n",
       "      <td>0.161</td>\n",
       "      <td>0.147</td>\n",
       "      <td>0.156</td>\n",
       "      <td>NaN</td>\n",
       "    </tr>\n",
       "    <tr>\n",
       "      <td>2017-08-01</td>\n",
       "      <td>5.277</td>\n",
       "      <td>0.472</td>\n",
       "      <td>0.458</td>\n",
       "      <td>0.391</td>\n",
       "      <td>0.494</td>\n",
       "      <td>0.284</td>\n",
       "      <td>0.211</td>\n",
       "      <td>0.405</td>\n",
       "      <td>0.292</td>\n",
       "      <td>0.188</td>\n",
       "      <td>NaN</td>\n",
       "      <td>NaN</td>\n",
       "    </tr>\n",
       "    <tr>\n",
       "      <td>2017-09-01</td>\n",
       "      <td>5.645</td>\n",
       "      <td>1.118</td>\n",
       "      <td>0.521</td>\n",
       "      <td>3.976</td>\n",
       "      <td>0.401</td>\n",
       "      <td>0.647</td>\n",
       "      <td>0.702</td>\n",
       "      <td>0.243</td>\n",
       "      <td>0.184</td>\n",
       "      <td>NaN</td>\n",
       "      <td>NaN</td>\n",
       "      <td>NaN</td>\n",
       "    </tr>\n",
       "    <tr>\n",
       "      <td>2017-10-01</td>\n",
       "      <td>5.004</td>\n",
       "      <td>0.536</td>\n",
       "      <td>0.191</td>\n",
       "      <td>0.157</td>\n",
       "      <td>0.152</td>\n",
       "      <td>0.120</td>\n",
       "      <td>0.085</td>\n",
       "      <td>0.115</td>\n",
       "      <td>NaN</td>\n",
       "      <td>NaN</td>\n",
       "      <td>NaN</td>\n",
       "      <td>NaN</td>\n",
       "    </tr>\n",
       "    <tr>\n",
       "      <td>2017-11-01</td>\n",
       "      <td>5.155</td>\n",
       "      <td>0.399</td>\n",
       "      <td>0.200</td>\n",
       "      <td>0.325</td>\n",
       "      <td>0.148</td>\n",
       "      <td>0.054</td>\n",
       "      <td>0.115</td>\n",
       "      <td>NaN</td>\n",
       "      <td>NaN</td>\n",
       "      <td>NaN</td>\n",
       "      <td>NaN</td>\n",
       "      <td>NaN</td>\n",
       "    </tr>\n",
       "    <tr>\n",
       "      <td>2017-12-01</td>\n",
       "      <td>4.738</td>\n",
       "      <td>0.260</td>\n",
       "      <td>0.925</td>\n",
       "      <td>1.065</td>\n",
       "      <td>0.313</td>\n",
       "      <td>0.338</td>\n",
       "      <td>NaN</td>\n",
       "      <td>NaN</td>\n",
       "      <td>NaN</td>\n",
       "      <td>NaN</td>\n",
       "      <td>NaN</td>\n",
       "      <td>NaN</td>\n",
       "    </tr>\n",
       "    <tr>\n",
       "      <td>2018-01-01</td>\n",
       "      <td>4.136</td>\n",
       "      <td>0.295</td>\n",
       "      <td>0.304</td>\n",
       "      <td>0.143</td>\n",
       "      <td>0.063</td>\n",
       "      <td>NaN</td>\n",
       "      <td>NaN</td>\n",
       "      <td>NaN</td>\n",
       "      <td>NaN</td>\n",
       "      <td>NaN</td>\n",
       "      <td>NaN</td>\n",
       "      <td>NaN</td>\n",
       "    </tr>\n",
       "    <tr>\n",
       "      <td>2018-02-01</td>\n",
       "      <td>4.157</td>\n",
       "      <td>0.278</td>\n",
       "      <td>0.079</td>\n",
       "      <td>0.074</td>\n",
       "      <td>NaN</td>\n",
       "      <td>NaN</td>\n",
       "      <td>NaN</td>\n",
       "      <td>NaN</td>\n",
       "      <td>NaN</td>\n",
       "      <td>NaN</td>\n",
       "      <td>NaN</td>\n",
       "      <td>NaN</td>\n",
       "    </tr>\n",
       "    <tr>\n",
       "      <td>2018-03-01</td>\n",
       "      <td>4.839</td>\n",
       "      <td>0.301</td>\n",
       "      <td>0.316</td>\n",
       "      <td>NaN</td>\n",
       "      <td>NaN</td>\n",
       "      <td>NaN</td>\n",
       "      <td>NaN</td>\n",
       "      <td>NaN</td>\n",
       "      <td>NaN</td>\n",
       "      <td>NaN</td>\n",
       "      <td>NaN</td>\n",
       "      <td>NaN</td>\n",
       "    </tr>\n",
       "    <tr>\n",
       "      <td>2018-04-01</td>\n",
       "      <td>4.658</td>\n",
       "      <td>0.532</td>\n",
       "      <td>NaN</td>\n",
       "      <td>NaN</td>\n",
       "      <td>NaN</td>\n",
       "      <td>NaN</td>\n",
       "      <td>NaN</td>\n",
       "      <td>NaN</td>\n",
       "      <td>NaN</td>\n",
       "      <td>NaN</td>\n",
       "      <td>NaN</td>\n",
       "      <td>NaN</td>\n",
       "    </tr>\n",
       "    <tr>\n",
       "      <td>2018-05-01</td>\n",
       "      <td>4.661</td>\n",
       "      <td>NaN</td>\n",
       "      <td>NaN</td>\n",
       "      <td>NaN</td>\n",
       "      <td>NaN</td>\n",
       "      <td>NaN</td>\n",
       "      <td>NaN</td>\n",
       "      <td>NaN</td>\n",
       "      <td>NaN</td>\n",
       "      <td>NaN</td>\n",
       "      <td>NaN</td>\n",
       "      <td>NaN</td>\n",
       "    </tr>\n",
       "    <tr>\n",
       "      <td>2018-06-01</td>\n",
       "      <td>3.420</td>\n",
       "      <td>NaN</td>\n",
       "      <td>NaN</td>\n",
       "      <td>NaN</td>\n",
       "      <td>NaN</td>\n",
       "      <td>NaN</td>\n",
       "      <td>NaN</td>\n",
       "      <td>NaN</td>\n",
       "      <td>NaN</td>\n",
       "      <td>NaN</td>\n",
       "      <td>NaN</td>\n",
       "      <td>NaN</td>\n",
       "    </tr>\n",
       "  </tbody>\n",
       "</table>\n",
       "</div>"
      ],
      "text/plain": [
       "age                   0      1      2      3      4      5      6      7   \\\n",
       "first_order_month                                                           \n",
       "2017-06-01         4.724  0.485  0.438  0.955  1.023  0.736  0.950  0.582   \n",
       "2017-07-01         6.010  0.335  0.624  0.359  0.177  0.156  0.120  0.142   \n",
       "2017-08-01         5.277  0.472  0.458  0.391  0.494  0.284  0.211  0.405   \n",
       "2017-09-01         5.645  1.118  0.521  3.976  0.401  0.647  0.702  0.243   \n",
       "2017-10-01         5.004  0.536  0.191  0.157  0.152  0.120  0.085  0.115   \n",
       "2017-11-01         5.155  0.399  0.200  0.325  0.148  0.054  0.115    NaN   \n",
       "2017-12-01         4.738  0.260  0.925  1.065  0.313  0.338    NaN    NaN   \n",
       "2018-01-01         4.136  0.295  0.304  0.143  0.063    NaN    NaN    NaN   \n",
       "2018-02-01         4.157  0.278  0.079  0.074    NaN    NaN    NaN    NaN   \n",
       "2018-03-01         4.839  0.301  0.316    NaN    NaN    NaN    NaN    NaN   \n",
       "2018-04-01         4.658  0.532    NaN    NaN    NaN    NaN    NaN    NaN   \n",
       "2018-05-01         4.661    NaN    NaN    NaN    NaN    NaN    NaN    NaN   \n",
       "2018-06-01         3.420    NaN    NaN    NaN    NaN    NaN    NaN    NaN   \n",
       "\n",
       "age                   8      9      10     11  \n",
       "first_order_month                              \n",
       "2017-06-01         0.553  0.606  0.571  0.257  \n",
       "2017-07-01         0.161  0.147  0.156    NaN  \n",
       "2017-08-01         0.292  0.188    NaN    NaN  \n",
       "2017-09-01         0.184    NaN    NaN    NaN  \n",
       "2017-10-01           NaN    NaN    NaN    NaN  \n",
       "2017-11-01           NaN    NaN    NaN    NaN  \n",
       "2017-12-01           NaN    NaN    NaN    NaN  \n",
       "2018-01-01           NaN    NaN    NaN    NaN  \n",
       "2018-02-01           NaN    NaN    NaN    NaN  \n",
       "2018-03-01           NaN    NaN    NaN    NaN  \n",
       "2018-04-01           NaN    NaN    NaN    NaN  \n",
       "2018-05-01           NaN    NaN    NaN    NaN  \n",
       "2018-06-01           NaN    NaN    NaN    NaN  "
      ]
     },
     "execution_count": 53,
     "metadata": {},
     "output_type": "execute_result"
    }
   ],
   "source": [
    "result = report.pivot_table(\n",
    "        index='first_order_month', \n",
    "        columns='age', \n",
    "        values='ltv', \n",
    "        aggfunc='mean').round(3)\n",
    "result"
   ]
  },
  {
   "cell_type": "markdown",
   "metadata": {},
   "source": [
    "Видим, что жизненная ценность клиента кратно снижается со временем, но клиенты родолжают пользоваться услугами Яндекс.Афиши достаточно долгое время."
   ]
  },
  {
   "cell_type": "markdown",
   "metadata": {},
   "source": [
    "Просчитаем отдельно накопительную сумму и построим тепловую карту."
   ]
  },
  {
   "cell_type": "code",
   "execution_count": 54,
   "metadata": {
    "scrolled": true
   },
   "outputs": [
    {
     "data": {
      "image/png": "[encoded data removed]",
      "text/plain": [
       "<Figure size 936x648 with 2 Axes>"
      ]
     },
     "metadata": {},
     "output_type": "display_data"
    }
   ],
   "source": [
    "result2 = report.pivot_table(\n",
    "        index='first_order_month', \n",
    "        columns='age', \n",
    "        values='ltv', \n",
    "        aggfunc='mean').round(3).cumsum(axis=1).round(2)\n",
    "sns.set(style='white')\n",
    "plt.figure(figsize=(13, 9))\n",
    "plt.title('Накопительный LTV')\n",
    "sns.heatmap(result2, annot=True, linewidths=1, linecolor='gray');"
   ]
  },
  {
   "cell_type": "markdown",
   "metadata": {},
   "source": [
    "Больше всего выгоду компании принесла сентябрьская когорт клиентов, которая на 5й месяц принесла столько же, сколько первая (июньская когорта) за 10 месяцев. Начиная с Января когорты стали приносить меньше в сравнении с аналогичным сроком жизни когорт, прошедших ранее. Маркетологом нужно понять сезонные ли это изменения или они плохо стали работать."
   ]
  },
  {
   "cell_type": "markdown",
   "metadata": {},
   "source": [
    "<b> 2.3 Маркетинг <a name=\"p2_3\"></a>"
   ]
  },
  {
   "cell_type": "markdown",
   "metadata": {},
   "source": [
    "<b> Потрачено <a name=\"p2_3_1\">\n",
    "\n",
    "Всего потрачено на маркетинг."
   ]
  },
  {
   "cell_type": "code",
   "execution_count": 55,
   "metadata": {},
   "outputs": [
    {
     "data": {
      "text/plain": [
       "329131.62"
      ]
     },
     "execution_count": 55,
     "metadata": {},
     "output_type": "execute_result"
    }
   ],
   "source": [
    "costs['costs'].sum()"
   ]
  },
  {
   "cell_type": "markdown",
   "metadata": {},
   "source": [
    "Потрачено по источникам."
   ]
  },
  {
   "cell_type": "code",
   "execution_count": 56,
   "metadata": {
    "scrolled": true
   },
   "outputs": [
    {
     "data": {
      "text/html": [
       "<div>\n",
       "<style scoped>\n",
       "    .dataframe tbody tr th:only-of-type {\n",
       "        vertical-align: middle;\n",
       "    }\n",
       "\n",
       "    .dataframe tbody tr th {\n",
       "        vertical-align: top;\n",
       "    }\n",
       "\n",
       "    .dataframe thead th {\n",
       "        text-align: right;\n",
       "    }\n",
       "</style>\n",
       "<table border=\"1\" class=\"dataframe\">\n",
       "  <thead>\n",
       "    <tr style=\"text-align: right;\">\n",
       "      <th></th>\n",
       "      <th>source_id</th>\n",
       "      <th>costs</th>\n",
       "    </tr>\n",
       "  </thead>\n",
       "  <tbody>\n",
       "    <tr>\n",
       "      <td>0</td>\n",
       "      <td>1</td>\n",
       "      <td>20833.27</td>\n",
       "    </tr>\n",
       "    <tr>\n",
       "      <td>1</td>\n",
       "      <td>2</td>\n",
       "      <td>42806.04</td>\n",
       "    </tr>\n",
       "    <tr>\n",
       "      <td>2</td>\n",
       "      <td>3</td>\n",
       "      <td>141321.63</td>\n",
       "    </tr>\n",
       "    <tr>\n",
       "      <td>3</td>\n",
       "      <td>4</td>\n",
       "      <td>61073.60</td>\n",
       "    </tr>\n",
       "    <tr>\n",
       "      <td>4</td>\n",
       "      <td>5</td>\n",
       "      <td>51757.10</td>\n",
       "    </tr>\n",
       "    <tr>\n",
       "      <td>5</td>\n",
       "      <td>9</td>\n",
       "      <td>5517.49</td>\n",
       "    </tr>\n",
       "    <tr>\n",
       "      <td>6</td>\n",
       "      <td>10</td>\n",
       "      <td>5822.49</td>\n",
       "    </tr>\n",
       "  </tbody>\n",
       "</table>\n",
       "</div>"
      ],
      "text/plain": [
       "   source_id      costs\n",
       "0          1   20833.27\n",
       "1          2   42806.04\n",
       "2          3  141321.63\n",
       "3          4   61073.60\n",
       "4          5   51757.10\n",
       "5          9    5517.49\n",
       "6         10    5822.49"
      ]
     },
     "execution_count": 56,
     "metadata": {},
     "output_type": "execute_result"
    }
   ],
   "source": [
    "costs_by_source = costs.groupby('source_id')['costs'].sum().reset_index()\n",
    "costs_by_source"
   ]
  },
  {
   "cell_type": "markdown",
   "metadata": {},
   "source": [
    "Потрачено по месяцам."
   ]
  },
  {
   "cell_type": "code",
   "execution_count": 57,
   "metadata": {},
   "outputs": [
    {
     "data": {
      "image/png": "[encoded data removed]",
      "text/plain": [
       "<Figure size 432x288 with 1 Axes>"
      ]
     },
     "metadata": {},
     "output_type": "display_data"
    }
   ],
   "source": [
    "costs['cost_month'] = costs['dt'].astype('datetime64[M]')\n",
    "cst_mon = costs.groupby('cost_month')['costs'].sum()\n",
    "cst_mon.plot();\n",
    "plt.title('Израсходовано по месяцам')\n",
    "plt.xlabel('Месяц');"
   ]
  },
  {
   "cell_type": "markdown",
   "metadata": {},
   "source": [
    "Самый затратный вид привлечения траффика скрывается по номером 3 и лидирует с большим отрывом.\n",
    "\n",
    "Больше всего на рекламу тратилось в осенне-зимний период. \n",
    "\n",
    "Свяжем это с горядущими праздниками и повышенной активностью пользователей. А источник трафика предположительно - контекстная реклама."
   ]
  },
  {
   "cell_type": "code",
   "execution_count": 58,
   "metadata": {
    "scrolled": false
   },
   "outputs": [],
   "source": [
    "costs_by_month_source = costs.pivot_table(index='cost_month', columns='source_id', values='costs', aggfunc='sum')"
   ]
  },
  {
   "cell_type": "code",
   "execution_count": 59,
   "metadata": {},
   "outputs": [],
   "source": [
    " costs_by_month_source_share = costs_by_month_source\\\n",
    "    .join(costs_by_month_source\\\n",
    "    .apply(lambda row: row.sum(), axis=1).to_frame(name='all'))\\\n",
    "    .apply(lambda row: row / row['all'], axis=1)\\\n",
    "    .drop('all', axis=1)"
   ]
  },
  {
   "cell_type": "code",
   "execution_count": 60,
   "metadata": {
    "scrolled": false
   },
   "outputs": [
    {
     "data": {
      "image/png": "[encoded data removed]",
      "text/plain": [
       "<Figure size 648x432 with 1 Axes>"
      ]
     },
     "metadata": {},
     "output_type": "display_data"
    }
   ],
   "source": [
    "costs_by_month_source_share.plot(kind='area', figsize=(9, 6),\n",
    "                                 title='Помесячное распределение рекламного бюджета по источникам')\n",
    "plt.show()"
   ]
  },
  {
   "cell_type": "markdown",
   "metadata": {},
   "source": [
    "<b> Сколько стоило привлечение одного покупателя из каждого источника? <a name=\"p2_3_2\">\n"
   ]
  },
  {
   "cell_type": "markdown",
   "metadata": {},
   "source": [
    "Для начала сгруппируем заказавших по источникам."
   ]
  },
  {
   "cell_type": "code",
   "execution_count": 61,
   "metadata": {},
   "outputs": [
    {
     "data": {
      "text/html": [
       "<div>\n",
       "<style scoped>\n",
       "    .dataframe tbody tr th:only-of-type {\n",
       "        vertical-align: middle;\n",
       "    }\n",
       "\n",
       "    .dataframe tbody tr th {\n",
       "        vertical-align: top;\n",
       "    }\n",
       "\n",
       "    .dataframe thead th {\n",
       "        text-align: right;\n",
       "    }\n",
       "</style>\n",
       "<table border=\"1\" class=\"dataframe\">\n",
       "  <thead>\n",
       "    <tr style=\"text-align: right;\">\n",
       "      <th></th>\n",
       "      <th>source_id</th>\n",
       "      <th>n_buyers</th>\n",
       "    </tr>\n",
       "  </thead>\n",
       "  <tbody>\n",
       "    <tr>\n",
       "      <td>0</td>\n",
       "      <td>1</td>\n",
       "      <td>7138</td>\n",
       "    </tr>\n",
       "    <tr>\n",
       "      <td>1</td>\n",
       "      <td>2</td>\n",
       "      <td>7305</td>\n",
       "    </tr>\n",
       "    <tr>\n",
       "      <td>2</td>\n",
       "      <td>3</td>\n",
       "      <td>13846</td>\n",
       "    </tr>\n",
       "    <tr>\n",
       "      <td>3</td>\n",
       "      <td>4</td>\n",
       "      <td>14253</td>\n",
       "    </tr>\n",
       "    <tr>\n",
       "      <td>4</td>\n",
       "      <td>5</td>\n",
       "      <td>10156</td>\n",
       "    </tr>\n",
       "    <tr>\n",
       "      <td>5</td>\n",
       "      <td>7</td>\n",
       "      <td>1</td>\n",
       "    </tr>\n",
       "    <tr>\n",
       "      <td>6</td>\n",
       "      <td>9</td>\n",
       "      <td>2793</td>\n",
       "    </tr>\n",
       "    <tr>\n",
       "      <td>7</td>\n",
       "      <td>10</td>\n",
       "      <td>1773</td>\n",
       "    </tr>\n",
       "  </tbody>\n",
       "</table>\n",
       "</div>"
      ],
      "text/plain": [
       "   source_id  n_buyers\n",
       "0          1      7138\n",
       "1          2      7305\n",
       "2          3     13846\n",
       "3          4     14253\n",
       "4          5     10156\n",
       "5          7         1\n",
       "6          9      2793\n",
       "7         10      1773"
      ]
     },
     "execution_count": 61,
     "metadata": {},
     "output_type": "execute_result"
    }
   ],
   "source": [
    "order_by_source = visit_first_buy.groupby('source_id').agg({'uid': 'nunique'}).reset_index()\n",
    "order_by_source.columns = ['source_id', 'n_buyers']\n",
    "order_by_source"
   ]
  },
  {
   "cell_type": "markdown",
   "metadata": {},
   "source": [
    "Видим, что есть источник с id 7, на который средства не тратились. \n",
    "\n",
    "Соединим полученные таблицы и рассчитаем расходы на привлечение одного пользователя."
   ]
  },
  {
   "cell_type": "code",
   "execution_count": 62,
   "metadata": {
    "scrolled": true
   },
   "outputs": [
    {
     "data": {
      "text/html": [
       "<div>\n",
       "<style scoped>\n",
       "    .dataframe tbody tr th:only-of-type {\n",
       "        vertical-align: middle;\n",
       "    }\n",
       "\n",
       "    .dataframe tbody tr th {\n",
       "        vertical-align: top;\n",
       "    }\n",
       "\n",
       "    .dataframe thead th {\n",
       "        text-align: right;\n",
       "    }\n",
       "</style>\n",
       "<table border=\"1\" class=\"dataframe\">\n",
       "  <thead>\n",
       "    <tr style=\"text-align: right;\">\n",
       "      <th></th>\n",
       "      <th>source_id</th>\n",
       "      <th>costs</th>\n",
       "      <th>n_buyers</th>\n",
       "      <th>per_user</th>\n",
       "    </tr>\n",
       "  </thead>\n",
       "  <tbody>\n",
       "    <tr>\n",
       "      <td>0</td>\n",
       "      <td>1</td>\n",
       "      <td>20833.27</td>\n",
       "      <td>7138</td>\n",
       "      <td>2.918642</td>\n",
       "    </tr>\n",
       "    <tr>\n",
       "      <td>1</td>\n",
       "      <td>2</td>\n",
       "      <td>42806.04</td>\n",
       "      <td>7305</td>\n",
       "      <td>5.859828</td>\n",
       "    </tr>\n",
       "    <tr>\n",
       "      <td>2</td>\n",
       "      <td>3</td>\n",
       "      <td>141321.63</td>\n",
       "      <td>13846</td>\n",
       "      <td>10.206676</td>\n",
       "    </tr>\n",
       "    <tr>\n",
       "      <td>3</td>\n",
       "      <td>4</td>\n",
       "      <td>61073.60</td>\n",
       "      <td>14253</td>\n",
       "      <td>4.284965</td>\n",
       "    </tr>\n",
       "    <tr>\n",
       "      <td>4</td>\n",
       "      <td>5</td>\n",
       "      <td>51757.10</td>\n",
       "      <td>10156</td>\n",
       "      <td>5.096209</td>\n",
       "    </tr>\n",
       "    <tr>\n",
       "      <td>5</td>\n",
       "      <td>9</td>\n",
       "      <td>5517.49</td>\n",
       "      <td>2793</td>\n",
       "      <td>1.975471</td>\n",
       "    </tr>\n",
       "    <tr>\n",
       "      <td>6</td>\n",
       "      <td>10</td>\n",
       "      <td>5822.49</td>\n",
       "      <td>1773</td>\n",
       "      <td>3.283976</td>\n",
       "    </tr>\n",
       "  </tbody>\n",
       "</table>\n",
       "</div>"
      ],
      "text/plain": [
       "   source_id      costs  n_buyers   per_user\n",
       "0          1   20833.27      7138   2.918642\n",
       "1          2   42806.04      7305   5.859828\n",
       "2          3  141321.63     13846  10.206676\n",
       "3          4   61073.60     14253   4.284965\n",
       "4          5   51757.10     10156   5.096209\n",
       "5          9    5517.49      2793   1.975471\n",
       "6         10    5822.49      1773   3.283976"
      ]
     },
     "execution_count": 62,
     "metadata": {},
     "output_type": "execute_result"
    }
   ],
   "source": [
    "costs_per_user = pd.merge(costs_by_source,order_by_source, on='source_id') \n",
    "costs_per_user['per_user'] = costs_per_user['costs'] / costs_per_user['n_buyers'] \n",
    "costs_per_user"
   ]
  },
  {
   "cell_type": "markdown",
   "metadata": {},
   "source": [
    "Самоя дорогая стоимость привлечения у источника № 3. Но и количество привлеченных в нем значительно больше. Самыми привлекательными по цене на пользователя выглядят источники 1 и 9. Может стоить чуть перераспределить бюджеты?"
   ]
  },
  {
   "cell_type": "markdown",
   "metadata": {},
   "source": [
    "<b> На сколько окупились расходы? (ROI)  <a name=\"p2_3_3\">"
   ]
  },
  {
   "cell_type": "markdown",
   "metadata": {},
   "source": [
    "Посчитаем помесячные расходы и добавим их в когортный отчет, созданный ранее."
   ]
  },
  {
   "cell_type": "code",
   "execution_count": 63,
   "metadata": {},
   "outputs": [],
   "source": [
    "monthly_costs = costs.groupby('cost_month').sum() \n",
    "report_new = pd.merge(report, monthly_costs, left_on='first_order_month', right_on='cost_month')"
   ]
  },
  {
   "cell_type": "markdown",
   "metadata": {},
   "source": [
    "Посчитаем CAC (стоимость привлечения клиента) и ROMI (коэффициент окупаемости)."
   ]
  },
  {
   "cell_type": "code",
   "execution_count": 64,
   "metadata": {},
   "outputs": [],
   "source": [
    "report_new['cac'] = report_new['costs'] / report_new['n_buyers'] \n",
    "report_new['romi'] = report_new['ltv'] / report_new['cac']"
   ]
  },
  {
   "cell_type": "markdown",
   "metadata": {},
   "source": [
    "Построим сводную таблицу и посчитаем накопительную сумму по когортам."
   ]
  },
  {
   "cell_type": "code",
   "execution_count": 65,
   "metadata": {
    "scrolled": false
   },
   "outputs": [
    {
     "data": {
      "text/html": [
       "<div>\n",
       "<style scoped>\n",
       "    .dataframe tbody tr th:only-of-type {\n",
       "        vertical-align: middle;\n",
       "    }\n",
       "\n",
       "    .dataframe tbody tr th {\n",
       "        vertical-align: top;\n",
       "    }\n",
       "\n",
       "    .dataframe thead th {\n",
       "        text-align: right;\n",
       "    }\n",
       "</style>\n",
       "<table border=\"1\" class=\"dataframe\">\n",
       "  <thead>\n",
       "    <tr style=\"text-align: right;\">\n",
       "      <th>age</th>\n",
       "      <th>0</th>\n",
       "      <th>1</th>\n",
       "      <th>2</th>\n",
       "      <th>3</th>\n",
       "      <th>4</th>\n",
       "      <th>5</th>\n",
       "      <th>6</th>\n",
       "      <th>7</th>\n",
       "      <th>8</th>\n",
       "      <th>9</th>\n",
       "      <th>10</th>\n",
       "      <th>11</th>\n",
       "    </tr>\n",
       "    <tr>\n",
       "      <th>first_order_month</th>\n",
       "      <th></th>\n",
       "      <th></th>\n",
       "      <th></th>\n",
       "      <th></th>\n",
       "      <th></th>\n",
       "      <th></th>\n",
       "      <th></th>\n",
       "      <th></th>\n",
       "      <th></th>\n",
       "      <th></th>\n",
       "      <th></th>\n",
       "      <th></th>\n",
       "    </tr>\n",
       "  </thead>\n",
       "  <tbody>\n",
       "    <tr>\n",
       "      <td>2017-06-01</td>\n",
       "      <td>0.53</td>\n",
       "      <td>0.59</td>\n",
       "      <td>0.63</td>\n",
       "      <td>0.74</td>\n",
       "      <td>0.86</td>\n",
       "      <td>0.94</td>\n",
       "      <td>1.05</td>\n",
       "      <td>1.11</td>\n",
       "      <td>1.17</td>\n",
       "      <td>1.24</td>\n",
       "      <td>1.31</td>\n",
       "      <td>1.33</td>\n",
       "    </tr>\n",
       "    <tr>\n",
       "      <td>2017-07-01</td>\n",
       "      <td>0.63</td>\n",
       "      <td>0.67</td>\n",
       "      <td>0.73</td>\n",
       "      <td>0.77</td>\n",
       "      <td>0.79</td>\n",
       "      <td>0.81</td>\n",
       "      <td>0.82</td>\n",
       "      <td>0.84</td>\n",
       "      <td>0.85</td>\n",
       "      <td>0.87</td>\n",
       "      <td>0.88</td>\n",
       "      <td>NaN</td>\n",
       "    </tr>\n",
       "    <tr>\n",
       "      <td>2017-08-01</td>\n",
       "      <td>0.49</td>\n",
       "      <td>0.53</td>\n",
       "      <td>0.57</td>\n",
       "      <td>0.61</td>\n",
       "      <td>0.66</td>\n",
       "      <td>0.68</td>\n",
       "      <td>0.70</td>\n",
       "      <td>0.74</td>\n",
       "      <td>0.77</td>\n",
       "      <td>0.78</td>\n",
       "      <td>NaN</td>\n",
       "      <td>NaN</td>\n",
       "    </tr>\n",
       "    <tr>\n",
       "      <td>2017-09-01</td>\n",
       "      <td>0.60</td>\n",
       "      <td>0.72</td>\n",
       "      <td>0.77</td>\n",
       "      <td>1.19</td>\n",
       "      <td>1.23</td>\n",
       "      <td>1.30</td>\n",
       "      <td>1.38</td>\n",
       "      <td>1.40</td>\n",
       "      <td>1.42</td>\n",
       "      <td>NaN</td>\n",
       "      <td>NaN</td>\n",
       "      <td>NaN</td>\n",
       "    </tr>\n",
       "    <tr>\n",
       "      <td>2017-10-01</td>\n",
       "      <td>0.60</td>\n",
       "      <td>0.66</td>\n",
       "      <td>0.68</td>\n",
       "      <td>0.70</td>\n",
       "      <td>0.72</td>\n",
       "      <td>0.74</td>\n",
       "      <td>0.75</td>\n",
       "      <td>0.76</td>\n",
       "      <td>NaN</td>\n",
       "      <td>NaN</td>\n",
       "      <td>NaN</td>\n",
       "      <td>NaN</td>\n",
       "    </tr>\n",
       "    <tr>\n",
       "      <td>2017-11-01</td>\n",
       "      <td>0.55</td>\n",
       "      <td>0.60</td>\n",
       "      <td>0.62</td>\n",
       "      <td>0.65</td>\n",
       "      <td>0.67</td>\n",
       "      <td>0.68</td>\n",
       "      <td>0.69</td>\n",
       "      <td>NaN</td>\n",
       "      <td>NaN</td>\n",
       "      <td>NaN</td>\n",
       "      <td>NaN</td>\n",
       "      <td>NaN</td>\n",
       "    </tr>\n",
       "    <tr>\n",
       "      <td>2017-12-01</td>\n",
       "      <td>0.54</td>\n",
       "      <td>0.57</td>\n",
       "      <td>0.68</td>\n",
       "      <td>0.80</td>\n",
       "      <td>0.84</td>\n",
       "      <td>0.87</td>\n",
       "      <td>NaN</td>\n",
       "      <td>NaN</td>\n",
       "      <td>NaN</td>\n",
       "      <td>NaN</td>\n",
       "      <td>NaN</td>\n",
       "      <td>NaN</td>\n",
       "    </tr>\n",
       "    <tr>\n",
       "      <td>2018-01-01</td>\n",
       "      <td>0.42</td>\n",
       "      <td>0.45</td>\n",
       "      <td>0.48</td>\n",
       "      <td>0.49</td>\n",
       "      <td>0.50</td>\n",
       "      <td>NaN</td>\n",
       "      <td>NaN</td>\n",
       "      <td>NaN</td>\n",
       "      <td>NaN</td>\n",
       "      <td>NaN</td>\n",
       "      <td>NaN</td>\n",
       "      <td>NaN</td>\n",
       "    </tr>\n",
       "    <tr>\n",
       "      <td>2018-02-01</td>\n",
       "      <td>0.46</td>\n",
       "      <td>0.49</td>\n",
       "      <td>0.50</td>\n",
       "      <td>0.51</td>\n",
       "      <td>NaN</td>\n",
       "      <td>NaN</td>\n",
       "      <td>NaN</td>\n",
       "      <td>NaN</td>\n",
       "      <td>NaN</td>\n",
       "      <td>NaN</td>\n",
       "      <td>NaN</td>\n",
       "      <td>NaN</td>\n",
       "    </tr>\n",
       "    <tr>\n",
       "      <td>2018-03-01</td>\n",
       "      <td>0.56</td>\n",
       "      <td>0.60</td>\n",
       "      <td>0.63</td>\n",
       "      <td>NaN</td>\n",
       "      <td>NaN</td>\n",
       "      <td>NaN</td>\n",
       "      <td>NaN</td>\n",
       "      <td>NaN</td>\n",
       "      <td>NaN</td>\n",
       "      <td>NaN</td>\n",
       "      <td>NaN</td>\n",
       "      <td>NaN</td>\n",
       "    </tr>\n",
       "    <tr>\n",
       "      <td>2018-04-01</td>\n",
       "      <td>0.48</td>\n",
       "      <td>0.53</td>\n",
       "      <td>NaN</td>\n",
       "      <td>NaN</td>\n",
       "      <td>NaN</td>\n",
       "      <td>NaN</td>\n",
       "      <td>NaN</td>\n",
       "      <td>NaN</td>\n",
       "      <td>NaN</td>\n",
       "      <td>NaN</td>\n",
       "      <td>NaN</td>\n",
       "      <td>NaN</td>\n",
       "    </tr>\n",
       "    <tr>\n",
       "      <td>2018-05-01</td>\n",
       "      <td>0.63</td>\n",
       "      <td>NaN</td>\n",
       "      <td>NaN</td>\n",
       "      <td>NaN</td>\n",
       "      <td>NaN</td>\n",
       "      <td>NaN</td>\n",
       "      <td>NaN</td>\n",
       "      <td>NaN</td>\n",
       "      <td>NaN</td>\n",
       "      <td>NaN</td>\n",
       "      <td>NaN</td>\n",
       "      <td>NaN</td>\n",
       "    </tr>\n",
       "  </tbody>\n",
       "</table>\n",
       "</div>"
      ],
      "text/plain": [
       "age                  0     1     2     3     4     5     6     7     8     9   \\\n",
       "first_order_month                                                               \n",
       "2017-06-01         0.53  0.59  0.63  0.74  0.86  0.94  1.05  1.11  1.17  1.24   \n",
       "2017-07-01         0.63  0.67  0.73  0.77  0.79  0.81  0.82  0.84  0.85  0.87   \n",
       "2017-08-01         0.49  0.53  0.57  0.61  0.66  0.68  0.70  0.74  0.77  0.78   \n",
       "2017-09-01         0.60  0.72  0.77  1.19  1.23  1.30  1.38  1.40  1.42   NaN   \n",
       "2017-10-01         0.60  0.66  0.68  0.70  0.72  0.74  0.75  0.76   NaN   NaN   \n",
       "2017-11-01         0.55  0.60  0.62  0.65  0.67  0.68  0.69   NaN   NaN   NaN   \n",
       "2017-12-01         0.54  0.57  0.68  0.80  0.84  0.87   NaN   NaN   NaN   NaN   \n",
       "2018-01-01         0.42  0.45  0.48  0.49  0.50   NaN   NaN   NaN   NaN   NaN   \n",
       "2018-02-01         0.46  0.49  0.50  0.51   NaN   NaN   NaN   NaN   NaN   NaN   \n",
       "2018-03-01         0.56  0.60  0.63   NaN   NaN   NaN   NaN   NaN   NaN   NaN   \n",
       "2018-04-01         0.48  0.53   NaN   NaN   NaN   NaN   NaN   NaN   NaN   NaN   \n",
       "2018-05-01         0.63   NaN   NaN   NaN   NaN   NaN   NaN   NaN   NaN   NaN   \n",
       "\n",
       "age                  10    11  \n",
       "first_order_month              \n",
       "2017-06-01         1.31  1.33  \n",
       "2017-07-01         0.88   NaN  \n",
       "2017-08-01          NaN   NaN  \n",
       "2017-09-01          NaN   NaN  \n",
       "2017-10-01          NaN   NaN  \n",
       "2017-11-01          NaN   NaN  \n",
       "2017-12-01          NaN   NaN  \n",
       "2018-01-01          NaN   NaN  \n",
       "2018-02-01          NaN   NaN  \n",
       "2018-03-01          NaN   NaN  \n",
       "2018-04-01          NaN   NaN  \n",
       "2018-05-01          NaN   NaN  "
      ]
     },
     "execution_count": 65,
     "metadata": {},
     "output_type": "execute_result"
    }
   ],
   "source": [
    "output = report_new.pivot_table(\n",
    "        index='first_order_month', \n",
    "        columns='age', \n",
    "        values='romi', \n",
    "        aggfunc='mean').cumsum(axis=1).round(2) \n",
    "output"
   ]
  },
  {
   "cell_type": "code",
   "execution_count": 66,
   "metadata": {
    "scrolled": false
   },
   "outputs": [
    {
     "data": {
      "image/png": "[encoded data removed]",
      "text/plain": [
       "<Figure size 936x648 with 2 Axes>"
      ]
     },
     "metadata": {},
     "output_type": "display_data"
    }
   ],
   "source": [
    "sns.set(style='white')\n",
    "plt.figure(figsize=(13, 9))\n",
    "plt.title('Коэффициент окупаемости ROMI')\n",
    "sns.heatmap(output, annot=True, linewidths=1, linecolor='gray');"
   ]
  },
  {
   "cell_type": "markdown",
   "metadata": {},
   "source": [
    "Первая когорта окупилась на 6 месяце. Четвертая когорта (сентябрьская) - на третьем. Наш лидер по окупаемости.\n",
    "\n",
    "Остальные когорты не окупились, но многие близки к этому. \n",
    "\n",
    "Также видим, что когорта за май 2018 повторила рекорд окупаемости от января 2017 в первый месяц привлечения. У нее есть хорошие шансы окупиться быстрее.\n",
    "\n",
    "Узнаем, как быстро в среднем когорты окупаются. Усредним значения каждой колонки и «сложим» таблицу в единую строку методом mean(axis=0)."
   ]
  },
  {
   "cell_type": "code",
   "execution_count": 67,
   "metadata": {},
   "outputs": [
    {
     "data": {
      "text/plain": [
       "age\n",
       "0     0.540833\n",
       "1     0.582727\n",
       "2     0.629000\n",
       "3     0.717778\n",
       "4     0.783750\n",
       "5     0.860000\n",
       "6     0.898333\n",
       "7     0.970000\n",
       "8     1.052500\n",
       "9     0.963333\n",
       "10    1.095000\n",
       "11    1.330000\n",
       "dtype: float64"
      ]
     },
     "execution_count": 67,
     "metadata": {},
     "output_type": "execute_result"
    }
   ],
   "source": [
    "output.mean()"
   ]
  },
  {
   "cell_type": "markdown",
   "metadata": {},
   "source": [
    "В среднем, говорить об окупаемости можно только после 8ого месяца с момента привлечения клиента. Пока месть срок достаточно большой.\n",
    "\n",
    "Посчитаем сводную таблицу с LTV и накопительный LTV за 6 месяцев после первой покупки."
   ]
  },
  {
   "cell_type": "code",
   "execution_count": 68,
   "metadata": {},
   "outputs": [
    {
     "name": "stdout",
     "output_type": "stream",
     "text": [
      "Средний LTV за 6 месяцев после первой покупки: 7.969052630207336\n",
      "Средний LTV за 8 месяцев после первой покупки: 9.083582764260022\n"
     ]
    }
   ],
   "source": [
    "final_result = report_new.pivot_table( index='first_order_month',\n",
    "                                      columns='age', values='ltv', \n",
    "                                      aggfunc='mean')# посчитайте сводную таблицу с LTV\n",
    "\n",
    "m6_cum_ltv = final_result.cumsum(axis=1).mean(axis=0)[5] \n",
    "m8_cum_ltv = final_result.cumsum(axis=1).mean(axis=0)[7] \n",
    "\n",
    "print('Средний LTV за 6 месяцев после первой покупки:', m6_cum_ltv)\n",
    "print('Средний LTV за 8 месяцев после первой покупки:', m8_cum_ltv)"
   ]
  },
  {
   "cell_type": "markdown",
   "metadata": {},
   "source": [
    "Чтобы вложения окупились за пол года, Яндекс.Афиша должна потратить на маркетинг меньше, чем 7,96 условных единиц."
   ]
  },
  {
   "cell_type": "markdown",
   "metadata": {},
   "source": [
    "<b>Метрики в разрезе источников  и устройств  <a name=\"p2_3_4\">\n",
    "\n",
    "Просчитаем отдельно."
   ]
  },
  {
   "cell_type": "code",
   "execution_count": 69,
   "metadata": {
    "scrolled": true
   },
   "outputs": [
    {
     "data": {
      "text/html": [
       "<div>\n",
       "<style scoped>\n",
       "    .dataframe tbody tr th:only-of-type {\n",
       "        vertical-align: middle;\n",
       "    }\n",
       "\n",
       "    .dataframe tbody tr th {\n",
       "        vertical-align: top;\n",
       "    }\n",
       "\n",
       "    .dataframe thead th {\n",
       "        text-align: right;\n",
       "    }\n",
       "</style>\n",
       "<table border=\"1\" class=\"dataframe\">\n",
       "  <thead>\n",
       "    <tr style=\"text-align: right;\">\n",
       "      <th></th>\n",
       "      <th>0</th>\n",
       "      <th>1</th>\n",
       "      <th>2</th>\n",
       "      <th>3</th>\n",
       "      <th>4</th>\n",
       "      <th>5</th>\n",
       "      <th>6</th>\n",
       "      <th>7</th>\n",
       "      <th>8</th>\n",
       "      <th>9</th>\n",
       "      <th>10</th>\n",
       "      <th>11</th>\n",
       "      <th>12</th>\n",
       "    </tr>\n",
       "    <tr>\n",
       "      <th>source_id</th>\n",
       "      <th></th>\n",
       "      <th></th>\n",
       "      <th></th>\n",
       "      <th></th>\n",
       "      <th></th>\n",
       "      <th></th>\n",
       "      <th></th>\n",
       "      <th></th>\n",
       "      <th></th>\n",
       "      <th></th>\n",
       "      <th></th>\n",
       "      <th></th>\n",
       "      <th></th>\n",
       "    </tr>\n",
       "  </thead>\n",
       "  <tbody>\n",
       "    <tr>\n",
       "      <td>1</td>\n",
       "      <td>6.156185</td>\n",
       "      <td>7.150835</td>\n",
       "      <td>7.891156</td>\n",
       "      <td>8.537754</td>\n",
       "      <td>9.029303</td>\n",
       "      <td>9.251083</td>\n",
       "      <td>9.525826</td>\n",
       "      <td>9.866858</td>\n",
       "      <td>10.191256</td>\n",
       "      <td>10.450862</td>\n",
       "      <td>10.557561</td>\n",
       "      <td>10.673508</td>\n",
       "      <td>10.724577</td>\n",
       "    </tr>\n",
       "    <tr>\n",
       "      <td>2</td>\n",
       "      <td>6.770593</td>\n",
       "      <td>8.054740</td>\n",
       "      <td>9.717921</td>\n",
       "      <td>11.253637</td>\n",
       "      <td>11.900125</td>\n",
       "      <td>12.484390</td>\n",
       "      <td>12.721418</td>\n",
       "      <td>12.948380</td>\n",
       "      <td>13.171358</td>\n",
       "      <td>13.233560</td>\n",
       "      <td>13.346994</td>\n",
       "      <td>13.380422</td>\n",
       "      <td>13.383802</td>\n",
       "    </tr>\n",
       "    <tr>\n",
       "      <td>3</td>\n",
       "      <td>4.477694</td>\n",
       "      <td>4.729283</td>\n",
       "      <td>4.865748</td>\n",
       "      <td>5.008149</td>\n",
       "      <td>5.083093</td>\n",
       "      <td>5.122590</td>\n",
       "      <td>5.147003</td>\n",
       "      <td>5.173669</td>\n",
       "      <td>5.192354</td>\n",
       "      <td>5.197477</td>\n",
       "      <td>5.202699</td>\n",
       "      <td>5.203834</td>\n",
       "      <td>5.204931</td>\n",
       "    </tr>\n",
       "    <tr>\n",
       "      <td>4</td>\n",
       "      <td>4.584762</td>\n",
       "      <td>4.738128</td>\n",
       "      <td>4.852278</td>\n",
       "      <td>4.948617</td>\n",
       "      <td>5.068362</td>\n",
       "      <td>5.226563</td>\n",
       "      <td>5.342363</td>\n",
       "      <td>5.391025</td>\n",
       "      <td>5.410340</td>\n",
       "      <td>5.448244</td>\n",
       "      <td>5.502627</td>\n",
       "      <td>5.505380</td>\n",
       "      <td>5.506685</td>\n",
       "    </tr>\n",
       "    <tr>\n",
       "      <td>5</td>\n",
       "      <td>4.909883</td>\n",
       "      <td>5.114191</td>\n",
       "      <td>5.469974</td>\n",
       "      <td>6.836748</td>\n",
       "      <td>7.072747</td>\n",
       "      <td>7.246335</td>\n",
       "      <td>7.365203</td>\n",
       "      <td>7.454998</td>\n",
       "      <td>7.515129</td>\n",
       "      <td>7.576270</td>\n",
       "      <td>7.582746</td>\n",
       "      <td>7.592303</td>\n",
       "      <td>7.592558</td>\n",
       "    </tr>\n",
       "    <tr>\n",
       "      <td>7</td>\n",
       "      <td>1.220000</td>\n",
       "      <td>1.220000</td>\n",
       "      <td>1.220000</td>\n",
       "      <td>1.220000</td>\n",
       "      <td>1.220000</td>\n",
       "      <td>1.220000</td>\n",
       "      <td>1.220000</td>\n",
       "      <td>1.220000</td>\n",
       "      <td>1.220000</td>\n",
       "      <td>1.220000</td>\n",
       "      <td>1.220000</td>\n",
       "      <td>1.220000</td>\n",
       "      <td>1.220000</td>\n",
       "    </tr>\n",
       "    <tr>\n",
       "      <td>9</td>\n",
       "      <td>3.880901</td>\n",
       "      <td>4.167390</td>\n",
       "      <td>4.408024</td>\n",
       "      <td>4.678888</td>\n",
       "      <td>4.788189</td>\n",
       "      <td>4.935588</td>\n",
       "      <td>5.059127</td>\n",
       "      <td>5.126608</td>\n",
       "      <td>5.244430</td>\n",
       "      <td>5.284972</td>\n",
       "      <td>5.293566</td>\n",
       "      <td>5.293566</td>\n",
       "      <td>5.293566</td>\n",
       "    </tr>\n",
       "    <tr>\n",
       "      <td>10</td>\n",
       "      <td>3.164131</td>\n",
       "      <td>3.227434</td>\n",
       "      <td>3.254695</td>\n",
       "      <td>3.302558</td>\n",
       "      <td>3.316576</td>\n",
       "      <td>3.319217</td>\n",
       "      <td>3.332724</td>\n",
       "      <td>3.343348</td>\n",
       "      <td>3.346102</td>\n",
       "      <td>3.348631</td>\n",
       "      <td>3.348631</td>\n",
       "      <td>3.348631</td>\n",
       "      <td>3.348631</td>\n",
       "    </tr>\n",
       "  </tbody>\n",
       "</table>\n",
       "</div>"
      ],
      "text/plain": [
       "                 0         1         2          3          4          5   \\\n",
       "source_id                                                                  \n",
       "1          6.156185  7.150835  7.891156   8.537754   9.029303   9.251083   \n",
       "2          6.770593  8.054740  9.717921  11.253637  11.900125  12.484390   \n",
       "3          4.477694  4.729283  4.865748   5.008149   5.083093   5.122590   \n",
       "4          4.584762  4.738128  4.852278   4.948617   5.068362   5.226563   \n",
       "5          4.909883  5.114191  5.469974   6.836748   7.072747   7.246335   \n",
       "7          1.220000  1.220000  1.220000   1.220000   1.220000   1.220000   \n",
       "9          3.880901  4.167390  4.408024   4.678888   4.788189   4.935588   \n",
       "10         3.164131  3.227434  3.254695   3.302558   3.316576   3.319217   \n",
       "\n",
       "                  6          7          8          9          10         11  \\\n",
       "source_id                                                                     \n",
       "1           9.525826   9.866858  10.191256  10.450862  10.557561  10.673508   \n",
       "2          12.721418  12.948380  13.171358  13.233560  13.346994  13.380422   \n",
       "3           5.147003   5.173669   5.192354   5.197477   5.202699   5.203834   \n",
       "4           5.342363   5.391025   5.410340   5.448244   5.502627   5.505380   \n",
       "5           7.365203   7.454998   7.515129   7.576270   7.582746   7.592303   \n",
       "7           1.220000   1.220000   1.220000   1.220000   1.220000   1.220000   \n",
       "9           5.059127   5.126608   5.244430   5.284972   5.293566   5.293566   \n",
       "10          3.332724   3.343348   3.346102   3.348631   3.348631   3.348631   \n",
       "\n",
       "                  12  \n",
       "source_id             \n",
       "1          10.724577  \n",
       "2          13.383802  \n",
       "3           5.204931  \n",
       "4           5.506685  \n",
       "5           7.592558  \n",
       "7           1.220000  \n",
       "9           5.293566  \n",
       "10          3.348631  "
      ]
     },
     "execution_count": 69,
     "metadata": {},
     "output_type": "execute_result"
    }
   ],
   "source": [
    "# определяем источник пользователя\n",
    "sources = visits.sort_values(by = ['uid', 'start_ts']).groupby('uid').agg({'source_id': 'first'})\n",
    "# соединяем первые покупки и источники \n",
    "payers = orders.groupby('uid').agg({'buy_ts': 'min'}).merge(sources, on = 'uid').reset_index()\n",
    "payers = payers.rename(columns = {'buy_ts': 'first_buy'})\n",
    "# считаем ltv\n",
    "ltv = payers.merge(orders, on = 'uid')\n",
    "ltv['lifetime'] = ((ltv['buy_ts'] - ltv['first_buy']) / np.timedelta64(1,'M')).round().astype(int)\n",
    "ltv = ltv.pivot_table(index = 'source_id', columns = 'lifetime', values = 'revenue', aggfunc = 'sum').fillna(0)\n",
    "ltv = ltv.cumsum(axis = 1)\n",
    "# добавляем размеры когорт и делим на них\n",
    "cohort_sizes = payers.groupby('source_id').agg({'uid': 'nunique'}).rename(columns = {'uid': 'cohort_size'})\n",
    "ltv = ltv.merge(cohort_sizes, on = 'source_id')\n",
    "ltv = ltv.div(ltv['cohort_size'], axis = 0).drop(columns = 'cohort_size')\n",
    "ltv"
   ]
  },
  {
   "cell_type": "markdown",
   "metadata": {},
   "source": [
    "Жизненная ценность в разрезе источников возрастает со временем. Топами по накопительному доходу являются источники 1 и 2."
   ]
  },
  {
   "cell_type": "markdown",
   "metadata": {},
   "source": [
    "Найдем LTV в разрезе устройств."
   ]
  },
  {
   "cell_type": "code",
   "execution_count": 70,
   "metadata": {
    "scrolled": true
   },
   "outputs": [
    {
     "data": {
      "text/html": [
       "<div>\n",
       "<style scoped>\n",
       "    .dataframe tbody tr th:only-of-type {\n",
       "        vertical-align: middle;\n",
       "    }\n",
       "\n",
       "    .dataframe tbody tr th {\n",
       "        vertical-align: top;\n",
       "    }\n",
       "\n",
       "    .dataframe thead th {\n",
       "        text-align: right;\n",
       "    }\n",
       "</style>\n",
       "<table border=\"1\" class=\"dataframe\">\n",
       "  <thead>\n",
       "    <tr style=\"text-align: right;\">\n",
       "      <th></th>\n",
       "      <th>0</th>\n",
       "      <th>1</th>\n",
       "      <th>2</th>\n",
       "      <th>3</th>\n",
       "      <th>4</th>\n",
       "      <th>5</th>\n",
       "      <th>6</th>\n",
       "      <th>7</th>\n",
       "      <th>8</th>\n",
       "      <th>9</th>\n",
       "      <th>10</th>\n",
       "      <th>11</th>\n",
       "      <th>12</th>\n",
       "    </tr>\n",
       "    <tr>\n",
       "      <th>device</th>\n",
       "      <th></th>\n",
       "      <th></th>\n",
       "      <th></th>\n",
       "      <th></th>\n",
       "      <th></th>\n",
       "      <th></th>\n",
       "      <th></th>\n",
       "      <th></th>\n",
       "      <th></th>\n",
       "      <th></th>\n",
       "      <th></th>\n",
       "      <th></th>\n",
       "      <th></th>\n",
       "    </tr>\n",
       "  </thead>\n",
       "  <tbody>\n",
       "    <tr>\n",
       "      <td>desktop</td>\n",
       "      <td>4.910144</td>\n",
       "      <td>5.299873</td>\n",
       "      <td>5.710589</td>\n",
       "      <td>6.363962</td>\n",
       "      <td>6.606369</td>\n",
       "      <td>6.782391</td>\n",
       "      <td>6.915505</td>\n",
       "      <td>7.018722</td>\n",
       "      <td>7.107014</td>\n",
       "      <td>7.167756</td>\n",
       "      <td>7.211931</td>\n",
       "      <td>7.229463</td>\n",
       "      <td>7.234596</td>\n",
       "    </tr>\n",
       "    <tr>\n",
       "      <td>touch</td>\n",
       "      <td>4.747406</td>\n",
       "      <td>5.024646</td>\n",
       "      <td>5.209044</td>\n",
       "      <td>5.275748</td>\n",
       "      <td>5.330682</td>\n",
       "      <td>5.461850</td>\n",
       "      <td>5.484181</td>\n",
       "      <td>5.519675</td>\n",
       "      <td>5.531470</td>\n",
       "      <td>5.546719</td>\n",
       "      <td>5.558411</td>\n",
       "      <td>5.564929</td>\n",
       "      <td>5.569944</td>\n",
       "    </tr>\n",
       "  </tbody>\n",
       "</table>\n",
       "</div>"
      ],
      "text/plain": [
       "               0         1         2         3         4         5         6   \\\n",
       "device                                                                          \n",
       "desktop  4.910144  5.299873  5.710589  6.363962  6.606369  6.782391  6.915505   \n",
       "touch    4.747406  5.024646  5.209044  5.275748  5.330682  5.461850  5.484181   \n",
       "\n",
       "               7         8         9         10        11        12  \n",
       "device                                                               \n",
       "desktop  7.018722  7.107014  7.167756  7.211931  7.229463  7.234596  \n",
       "touch    5.519675  5.531470  5.546719  5.558411  5.564929  5.569944  "
      ]
     },
     "execution_count": 70,
     "metadata": {},
     "output_type": "execute_result"
    }
   ],
   "source": [
    "# определяем устройство пользователя\n",
    "device = visits.sort_values(by = ['uid', 'start_ts']).groupby('uid').agg({'device': 'first'})\n",
    "# соединяем первые покупки и устройство \n",
    "payers = orders.groupby('uid').agg({'buy_ts': 'min'}).merge(device, on = 'uid').reset_index()\n",
    "payers = payers.rename(columns = {'buy_ts': 'first_buy'})\n",
    "# считаем ltv\n",
    "ltv2 = payers.merge(orders, on = 'uid')\n",
    "ltv2['lifetime'] = ((ltv2['buy_ts'] - ltv2['first_buy']) / np.timedelta64(1,'M')).round().astype(int)\n",
    "ltv2 = ltv2.pivot_table(index = 'device', columns = 'lifetime', values = 'revenue', aggfunc = 'sum').fillna(0)\n",
    "ltv2 = ltv2.cumsum(axis = 1)\n",
    "# добавляем размеры когорт и делим на них\n",
    "cohort_sizes2 = payers.groupby('device').agg({'uid': 'nunique'}).rename(columns = {'uid': 'cohort_size'})\n",
    "ltv2 = ltv2.merge(cohort_sizes2, on = 'device')\n",
    "ltv2 = ltv2.div(ltv2['cohort_size'], axis = 0).drop(columns = 'cohort_size')\n",
    "ltv2"
   ]
  },
  {
   "cell_type": "code",
   "execution_count": 71,
   "metadata": {
    "scrolled": true
   },
   "outputs": [
    {
     "data": {
      "text/plain": [
       "desktop    262567\n",
       "touch       96833\n",
       "Name: device, dtype: int64"
      ]
     },
     "execution_count": 71,
     "metadata": {},
     "output_type": "execute_result"
    }
   ],
   "source": [
    "visits['device'].value_counts()"
   ]
  },
  {
   "cell_type": "markdown",
   "metadata": {},
   "source": [
    "Пользователи с ПК приносят больше денег в долгосрочной перспективе. Да и посещает сайт с ПК намного больше людей."
   ]
  },
  {
   "cell_type": "code",
   "execution_count": 72,
   "metadata": {
    "scrolled": true
   },
   "outputs": [
    {
     "data": {
      "image/png": "[encoded data removed]",
      "text/plain": [
       "<Figure size 864x360 with 1 Axes>"
      ]
     },
     "metadata": {},
     "output_type": "display_data"
    }
   ],
   "source": [
    "# считаем САС\n",
    "cac = costs.groupby('source_id').agg({'costs': 'sum'}).reset_index().merge(cohort_sizes.reset_index(), left_on = 'source_id', right_on='source_id')\n",
    "cac['cac'] = cac['costs'] / cac['cohort_size']\n",
    "cac = cac.set_index('source_id')\n",
    "cac['cac'].plot(kind='bar', grid=True, figsize=(12, 5), title='Стоимость привлечения клиента в разрезе источников');\n",
    "plt.xlabel('Источник');"
   ]
  },
  {
   "cell_type": "markdown",
   "metadata": {},
   "source": [
    " Самый дорогой источник - источник 3. "
   ]
  },
  {
   "cell_type": "code",
   "execution_count": 73,
   "metadata": {},
   "outputs": [
    {
     "data": {
      "image/png": "[encoded data removed]",
      "text/plain": [
       "<Figure size 1080x504 with 2 Axes>"
      ]
     },
     "metadata": {},
     "output_type": "display_data"
    }
   ],
   "source": [
    "# считаем ROMI\n",
    "romi = ltv.merge(cac[['cac']], on = 'source_id')\n",
    "romi = romi.div(romi['cac'], axis = 0).drop(columns = 'cac')\n",
    "\n",
    "sns.set(style='white')\n",
    "plt.figure(figsize=(15, 7))\n",
    "plt.title('Окупаемость вложений в разрезе источников')\n",
    "plt.xlabel('Время жизни');\n",
    "plt.ylabel('Источник');\n",
    "sns.heatmap(romi, annot=True,  fmt='.1%', linewidths=1, linecolor='gray');"
   ]
  },
  {
   "cell_type": "markdown",
   "metadata": {},
   "source": [
    "Явный аутсайдер виден сразу - источник 3. Нужно что-то делать, либо снижать стоимость привлечениея клиента, либо перераспределеять расходы.\n",
    "Источник 1 явный лидер. Нужно уделить ему больше внимания и бюджета. \n",
    "Источники 2, 5, 9 показывают хороший уровень."
   ]
  },
  {
   "cell_type": "markdown",
   "metadata": {},
   "source": [
    "<b> Шаг 3. Общий вывод <a name=\"p3\"></a>"
   ]
  },
  {
   "cell_type": "markdown",
   "metadata": {},
   "source": [
    "В ходе исследования бизнес-показателей Яндекс.Афиши за период с июня 2017 по конец мая 2018 года можно отметить следующее:\n",
    "    - в среднем на сайт в день заходит 908 уникальных пользователей, в месяц - 23228;\n",
    "    - самый высокий Retention Rate первой недели отмечен в первой когорте пользователей - 9,2 %. В дальнейшем он варьируется по когортам с течением времени от 2,7 до 5,7 % и убывает начиная со 2 недели. В целом, можно отметить очень низкий коэффициент возврата пользователей и низкий коэффициент их удержания. Только 22,8 % пользователей возвращаются на сайт. Есть над чем работать;\n",
    "    - в среднем с момента первого визита до заказа проходит 1 день 16 часов;\n",
    "    - в среднем один пользователь совершает 1,38 покупок на сайте за год;\n",
    "    - средняя выручка с покупке по выборке составила 4,99, лидирует по выручке декабрь;\n",
    "    - чтобы вложения окупились за пол года, Яндекс.Афиша должна потратить на маркетинг меньше, чем 7,96 условных единиц; \n",
    "    - пользователи с ПК приносят больше денег в долгосрочной перспективе. Да и посещает сайт с ПК намного больше людей.\n",
    "\n",
    "На графиках продемонстрировано, что покупки на сайте проседают летом и достигают пиковых значений к новому году и весной. Это можно связать с подготовкой к праздникам и поиском отличных подарков. Плюс летом люди менее заинтересованы в посещении развлекательных мероприятий.\n",
    "\n",
    "С графиком помесячных покупок коррелируют и затраты на рекламу, которые возрастают в осенне-зимний период и проседают летом.\n",
    "Самый затратный вид привлечения траффика скрывается по номером 3 и лидирует с большим отрывом. Предположим, что это контекстная реклама.\n",
    "\n",
    "Расчёт LTV показал, что жизненная ценность клиента кратно снижается со временем, но клиенты родолжают пользоваться услугами Яндекс.Афиши достаточно долгое время. Это можно объяснить предположением, что люди не посещают события регулярно, а покупают билеты о случая к случаю себе или в подарок. Можно рассмотреть выделение отдельного бюджета отделу маркетинга на увеличение LTV, специальные акции или партнерские скидки после совершения первой покупки и регулярные напоминания о них.\n",
    "\n",
    "\n",
    "Говорить об окупаемости затрат можно только после 8ого месяца с момента привлечения клиента. Пока месть срок достаточно большой, нужно попытаться его сократить увеличением числа повторных покупок и возвращений на сайт.\n",
    "\n",
    "Самая дорогая стоимость привлечения у источника № 3. Но и количество привлеченных в нем значительно больше. Самыми привлекательными по цене на пользователя выглядят источники 1 и 9. \n",
    "\n",
    "Анализ ROMI по источникам показал, что жизненная ценность в разрезе источников возрастает со временем, что логично. Топами по накопительному доходу являются источники 1 и 2. Нужно уделить им больше внимания и бюджета. Источники 5, 9 показывают хороший уровень. Поскольку возврат средств имеет самые плохие показатели в источнике 3 нужно пересмотреть его бюджет: либо снижать стоимость привлечения клиента, либо перераспределять расходы, на более выгодные варианты.\n"
   ]
  }
 ],
 "metadata": {
  "ExecuteTimeLog": [
   {
    "duration": 1435,
    "start_time": "2021-09-10T04:41:32.879Z"
   },
   {
    "duration": 768,
    "start_time": "2021-09-10T04:41:34.317Z"
   },
   {
    "duration": 4,
    "start_time": "2021-09-10T04:41:35.088Z"
   },
   {
    "duration": 79,
    "start_time": "2021-09-10T04:41:35.095Z"
   },
   {
    "duration": 239,
    "start_time": "2021-09-10T04:41:35.177Z"
   },
   {
    "duration": 46,
    "start_time": "2021-09-10T04:41:35.419Z"
   },
   {
    "duration": 52,
    "start_time": "2021-09-10T04:41:35.468Z"
   },
   {
    "duration": 167,
    "start_time": "2021-09-10T04:41:35.524Z"
   },
   {
    "duration": 66,
    "start_time": "2021-09-10T04:41:35.694Z"
   },
   {
    "duration": 4,
    "start_time": "2021-09-10T04:41:35.762Z"
   },
   {
    "duration": 15,
    "start_time": "2021-09-10T04:41:35.769Z"
   },
   {
    "duration": 22,
    "start_time": "2021-09-10T04:41:35.786Z"
   },
   {
    "duration": 57,
    "start_time": "2021-09-10T04:41:35.811Z"
   },
   {
    "duration": 20,
    "start_time": "2021-09-10T04:41:35.871Z"
   },
   {
    "duration": 47,
    "start_time": "2021-09-10T04:41:35.893Z"
   },
   {
    "duration": 8,
    "start_time": "2021-09-10T04:41:35.942Z"
   },
   {
    "duration": 12,
    "start_time": "2021-09-10T04:41:35.952Z"
   },
   {
    "duration": 25,
    "start_time": "2021-09-10T04:41:35.967Z"
   },
   {
    "duration": 7,
    "start_time": "2021-09-10T04:41:35.995Z"
   },
   {
    "duration": 340,
    "start_time": "2021-09-10T04:41:36.005Z"
   },
   {
    "duration": 381,
    "start_time": "2021-09-10T04:41:36.354Z"
   },
   {
    "duration": 447,
    "start_time": "2021-09-10T04:41:36.737Z"
   },
   {
    "duration": 66,
    "start_time": "2021-09-10T04:41:37.191Z"
   },
   {
    "duration": 185,
    "start_time": "2021-09-10T04:41:37.263Z"
   },
   {
    "duration": 127,
    "start_time": "2021-09-10T04:41:37.451Z"
   },
   {
    "duration": 193,
    "start_time": "2021-09-10T04:41:37.581Z"
   },
   {
    "duration": 19,
    "start_time": "2021-09-10T04:41:37.777Z"
   },
   {
    "duration": 174,
    "start_time": "2021-09-10T04:41:37.798Z"
   },
   {
    "duration": 8,
    "start_time": "2021-09-10T04:41:37.975Z"
   },
   {
    "duration": 12,
    "start_time": "2021-09-10T04:41:37.986Z"
   },
   {
    "duration": 14,
    "start_time": "2021-09-10T04:41:38.001Z"
   },
   {
    "duration": 49,
    "start_time": "2021-09-10T04:41:38.018Z"
   },
   {
    "duration": 1241,
    "start_time": "2021-09-10T04:41:38.070Z"
   },
   {
    "duration": 131,
    "start_time": "2021-09-10T04:41:39.313Z"
   },
   {
    "duration": 27,
    "start_time": "2021-09-10T04:41:39.447Z"
   },
   {
    "duration": 79,
    "start_time": "2021-09-10T04:41:39.477Z"
   },
   {
    "duration": 407,
    "start_time": "2021-09-10T04:41:39.559Z"
   },
   {
    "duration": 197,
    "start_time": "2021-09-10T04:41:39.969Z"
   },
   {
    "duration": 156,
    "start_time": "2021-09-10T04:41:40.168Z"
   },
   {
    "duration": 12,
    "start_time": "2021-09-10T04:41:40.327Z"
   },
   {
    "duration": 1042,
    "start_time": "2021-09-10T04:41:40.342Z"
   },
   {
    "duration": 169,
    "start_time": "2021-09-10T04:41:41.386Z"
   },
   {
    "duration": 13,
    "start_time": "2021-09-10T04:41:41.557Z"
   },
   {
    "duration": 438,
    "start_time": "2021-09-10T04:41:41.573Z"
   },
   {
    "duration": 823,
    "start_time": "2021-09-10T04:41:42.014Z"
   },
   {
    "duration": 25,
    "start_time": "2021-09-10T04:41:42.840Z"
   },
   {
    "duration": 37,
    "start_time": "2021-09-10T04:41:42.868Z"
   },
   {
    "duration": 8,
    "start_time": "2021-09-10T04:41:42.908Z"
   },
   {
    "duration": 45,
    "start_time": "2021-09-10T04:41:42.919Z"
   },
   {
    "duration": 35,
    "start_time": "2021-09-10T04:41:42.966Z"
   },
   {
    "duration": 93,
    "start_time": "2021-09-10T04:41:43.003Z"
   },
   {
    "duration": 35,
    "start_time": "2021-09-10T04:41:43.099Z"
   },
   {
    "duration": 51,
    "start_time": "2021-09-10T04:41:43.154Z"
   },
   {
    "duration": 1187,
    "start_time": "2021-09-10T04:41:43.208Z"
   },
   {
    "duration": 6,
    "start_time": "2021-09-10T04:41:44.398Z"
   },
   {
    "duration": 15,
    "start_time": "2021-09-10T04:41:44.407Z"
   },
   {
    "duration": 439,
    "start_time": "2021-09-10T04:41:44.425Z"
   },
   {
    "duration": 24,
    "start_time": "2021-09-10T04:41:44.867Z"
   },
   {
    "duration": 26,
    "start_time": "2021-09-10T04:41:44.893Z"
   },
   {
    "duration": 576,
    "start_time": "2021-09-10T04:41:44.922Z"
   },
   {
    "duration": 33,
    "start_time": "2021-09-10T04:41:45.501Z"
   },
   {
    "duration": 18,
    "start_time": "2021-09-10T04:41:45.553Z"
   },
   {
    "duration": 19,
    "start_time": "2021-09-10T04:41:45.573Z"
   },
   {
    "duration": 8,
    "start_time": "2021-09-10T04:41:45.594Z"
   },
   {
    "duration": 75,
    "start_time": "2021-09-10T04:41:45.605Z"
   },
   {
    "duration": 1318,
    "start_time": "2021-09-10T04:41:45.683Z"
   },
   {
    "duration": 9,
    "start_time": "2021-09-10T04:41:47.004Z"
   },
   {
    "duration": 56,
    "start_time": "2021-09-10T04:41:47.023Z"
   },
   {
    "duration": 673,
    "start_time": "2021-09-10T04:41:47.083Z"
   },
   {
    "duration": 687,
    "start_time": "2021-09-10T04:41:47.759Z"
   },
   {
    "duration": 47,
    "start_time": "2021-09-10T04:41:48.448Z"
   },
   {
    "duration": 377,
    "start_time": "2021-09-10T04:41:48.498Z"
   },
   {
    "duration": 1178,
    "start_time": "2021-09-10T04:41:48.879Z"
   }
  ],
  "kernelspec": {
   "display_name": "Python 3",
   "language": "python",
   "name": "python3"
  },
  "language_info": {
   "codemirror_mode": {
    "name": "ipython",
    "version": 3
   },
   "file_extension": ".py",
   "mimetype": "text/x-python",
   "name": "python",
   "nbconvert_exporter": "python",
   "pygments_lexer": "ipython3",
   "version": "3.7.8"
  },
  "toc": {
   "base_numbering": 1,
   "nav_menu": {},
   "number_sections": true,
   "sideBar": true,
   "skip_h1_title": true,
   "title_cell": "Table of Contents",
   "title_sidebar": "Contents",
   "toc_cell": false,
   "toc_position": {},
   "toc_section_display": true,
   "toc_window_display": false
  }
 },
 "nbformat": 4,
 "nbformat_minor": 2
}
