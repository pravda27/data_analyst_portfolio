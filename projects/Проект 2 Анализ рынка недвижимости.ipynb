{
 "cells": [
  {
   "cell_type": "markdown",
   "metadata": {},
   "source": [
    "# Исследование объявлений о продаже квартир\n",
    "\n",
    "В вашем распоряжении данные сервиса Яндекс.Недвижимость — архив объявлений о продаже квартир в Санкт-Петербурге и соседних населённых пунктов за несколько лет. Нужно научиться определять рыночную стоимость объектов недвижимости. Ваша задача — установить параметры. Это позволит построить автоматизированную систему: она отследит аномалии и мошенническую деятельность. \n",
    "\n",
    "Цель работы - провести исследовательский анализ данных и выяснить зависимости стоимости недвижимости от различных факторов.\n",
    "\n",
    "Работать будем с выгрузкой данных real_estate_data.csv.\n",
    "\n",
    "По каждой квартире на продажу доступны два вида данных. Первые вписаны пользователем, вторые — получены автоматически на основе картографических данных. Например, расстояние до центра, аэропорта, ближайшего парка и водоёма. \n",
    "\n",
    "# Содержание работы:\n",
    "1. [Шаг 1. Изучение данных](#p1)\n",
    "2. [Шаг 2. Предобработка данных](#p2)   \n",
    "3. [Шаг 3. Добавление недостающих столбцов в таблицу](#p3) \n",
    "4. [Шаг 4. Исследовательский анализ данных](#p4) \n",
    "    <br>4.1 [Изучение площади, цены, числа комнат, высоты потолков](#p4_1)\n",
    "    <br>4.2 [Время продажи](#p4_2)\n",
    "    <br>4.3 [Анализ редких и выбивающихся значений](#p4_3)\n",
    "    <br>4.4 [Анализ стоимости квартиры ](#p4_4)\n",
    "    <br>4.5 [Топ-10 населенных пунктов по чилу объявлений](#p4_5)\n",
    "    <br>4.6 [Расстояние до центра](#p4_6)\n",
    "    <br>4.7 [Анализ стоимости квартир в Центре Санкт-Петербурга](#p4_7)\n",
    "4. [Шаг 5. Общий вывод исследования](#p5)     \n",
    "    \n"
   ]
  },
  {
   "cell_type": "markdown",
   "metadata": {},
   "source": [
    "<b> Шаг 1. Откройте файл с данными и изучите общую информацию. <a name=\"p1\"></a>"
   ]
  },
  {
   "cell_type": "markdown",
   "metadata": {},
   "source": [
    "Читаем файл с данными с разделителем `\\t`."
   ]
  },
  {
   "cell_type": "code",
   "execution_count": 1,
   "metadata": {
    "scrolled": true
   },
   "outputs": [
    {
     "data": {
      "text/html": [
       "<div>\n",
       "<style scoped>\n",
       "    .dataframe tbody tr th:only-of-type {\n",
       "        vertical-align: middle;\n",
       "    }\n",
       "\n",
       "    .dataframe tbody tr th {\n",
       "        vertical-align: top;\n",
       "    }\n",
       "\n",
       "    .dataframe thead th {\n",
       "        text-align: right;\n",
       "    }\n",
       "</style>\n",
       "<table border=\"1\" class=\"dataframe\">\n",
       "  <thead>\n",
       "    <tr style=\"text-align: right;\">\n",
       "      <th></th>\n",
       "      <th>total_images</th>\n",
       "      <th>last_price</th>\n",
       "      <th>total_area</th>\n",
       "      <th>first_day_exposition</th>\n",
       "      <th>rooms</th>\n",
       "      <th>ceiling_height</th>\n",
       "      <th>floors_total</th>\n",
       "      <th>living_area</th>\n",
       "      <th>floor</th>\n",
       "      <th>is_apartment</th>\n",
       "      <th>...</th>\n",
       "      <th>kitchen_area</th>\n",
       "      <th>balcony</th>\n",
       "      <th>locality_name</th>\n",
       "      <th>airports_nearest</th>\n",
       "      <th>cityCenters_nearest</th>\n",
       "      <th>parks_around3000</th>\n",
       "      <th>parks_nearest</th>\n",
       "      <th>ponds_around3000</th>\n",
       "      <th>ponds_nearest</th>\n",
       "      <th>days_exposition</th>\n",
       "    </tr>\n",
       "  </thead>\n",
       "  <tbody>\n",
       "    <tr>\n",
       "      <td>0</td>\n",
       "      <td>20</td>\n",
       "      <td>13000000.0</td>\n",
       "      <td>108.00</td>\n",
       "      <td>2019-03-07T00:00:00</td>\n",
       "      <td>3</td>\n",
       "      <td>2.70</td>\n",
       "      <td>16.0</td>\n",
       "      <td>51.00</td>\n",
       "      <td>8</td>\n",
       "      <td>NaN</td>\n",
       "      <td>...</td>\n",
       "      <td>25.00</td>\n",
       "      <td>NaN</td>\n",
       "      <td>Санкт-Петербург</td>\n",
       "      <td>18863.0</td>\n",
       "      <td>16028.0</td>\n",
       "      <td>1.0</td>\n",
       "      <td>482.0</td>\n",
       "      <td>2.0</td>\n",
       "      <td>755.0</td>\n",
       "      <td>NaN</td>\n",
       "    </tr>\n",
       "    <tr>\n",
       "      <td>1</td>\n",
       "      <td>7</td>\n",
       "      <td>3350000.0</td>\n",
       "      <td>40.40</td>\n",
       "      <td>2018-12-04T00:00:00</td>\n",
       "      <td>1</td>\n",
       "      <td>NaN</td>\n",
       "      <td>11.0</td>\n",
       "      <td>18.60</td>\n",
       "      <td>1</td>\n",
       "      <td>NaN</td>\n",
       "      <td>...</td>\n",
       "      <td>11.00</td>\n",
       "      <td>2.0</td>\n",
       "      <td>посёлок Шушары</td>\n",
       "      <td>12817.0</td>\n",
       "      <td>18603.0</td>\n",
       "      <td>0.0</td>\n",
       "      <td>NaN</td>\n",
       "      <td>0.0</td>\n",
       "      <td>NaN</td>\n",
       "      <td>81.0</td>\n",
       "    </tr>\n",
       "    <tr>\n",
       "      <td>2</td>\n",
       "      <td>10</td>\n",
       "      <td>5196000.0</td>\n",
       "      <td>56.00</td>\n",
       "      <td>2015-08-20T00:00:00</td>\n",
       "      <td>2</td>\n",
       "      <td>NaN</td>\n",
       "      <td>5.0</td>\n",
       "      <td>34.30</td>\n",
       "      <td>4</td>\n",
       "      <td>NaN</td>\n",
       "      <td>...</td>\n",
       "      <td>8.30</td>\n",
       "      <td>0.0</td>\n",
       "      <td>Санкт-Петербург</td>\n",
       "      <td>21741.0</td>\n",
       "      <td>13933.0</td>\n",
       "      <td>1.0</td>\n",
       "      <td>90.0</td>\n",
       "      <td>2.0</td>\n",
       "      <td>574.0</td>\n",
       "      <td>558.0</td>\n",
       "    </tr>\n",
       "    <tr>\n",
       "      <td>3</td>\n",
       "      <td>0</td>\n",
       "      <td>64900000.0</td>\n",
       "      <td>159.00</td>\n",
       "      <td>2015-07-24T00:00:00</td>\n",
       "      <td>3</td>\n",
       "      <td>NaN</td>\n",
       "      <td>14.0</td>\n",
       "      <td>NaN</td>\n",
       "      <td>9</td>\n",
       "      <td>NaN</td>\n",
       "      <td>...</td>\n",
       "      <td>NaN</td>\n",
       "      <td>0.0</td>\n",
       "      <td>Санкт-Петербург</td>\n",
       "      <td>28098.0</td>\n",
       "      <td>6800.0</td>\n",
       "      <td>2.0</td>\n",
       "      <td>84.0</td>\n",
       "      <td>3.0</td>\n",
       "      <td>234.0</td>\n",
       "      <td>424.0</td>\n",
       "    </tr>\n",
       "    <tr>\n",
       "      <td>4</td>\n",
       "      <td>2</td>\n",
       "      <td>10000000.0</td>\n",
       "      <td>100.00</td>\n",
       "      <td>2018-06-19T00:00:00</td>\n",
       "      <td>2</td>\n",
       "      <td>3.03</td>\n",
       "      <td>14.0</td>\n",
       "      <td>32.00</td>\n",
       "      <td>13</td>\n",
       "      <td>NaN</td>\n",
       "      <td>...</td>\n",
       "      <td>41.00</td>\n",
       "      <td>NaN</td>\n",
       "      <td>Санкт-Петербург</td>\n",
       "      <td>31856.0</td>\n",
       "      <td>8098.0</td>\n",
       "      <td>2.0</td>\n",
       "      <td>112.0</td>\n",
       "      <td>1.0</td>\n",
       "      <td>48.0</td>\n",
       "      <td>121.0</td>\n",
       "    </tr>\n",
       "    <tr>\n",
       "      <td>5</td>\n",
       "      <td>10</td>\n",
       "      <td>2890000.0</td>\n",
       "      <td>30.40</td>\n",
       "      <td>2018-09-10T00:00:00</td>\n",
       "      <td>1</td>\n",
       "      <td>NaN</td>\n",
       "      <td>12.0</td>\n",
       "      <td>14.40</td>\n",
       "      <td>5</td>\n",
       "      <td>NaN</td>\n",
       "      <td>...</td>\n",
       "      <td>9.10</td>\n",
       "      <td>NaN</td>\n",
       "      <td>городской посёлок Янино-1</td>\n",
       "      <td>NaN</td>\n",
       "      <td>NaN</td>\n",
       "      <td>NaN</td>\n",
       "      <td>NaN</td>\n",
       "      <td>NaN</td>\n",
       "      <td>NaN</td>\n",
       "      <td>55.0</td>\n",
       "    </tr>\n",
       "    <tr>\n",
       "      <td>6</td>\n",
       "      <td>6</td>\n",
       "      <td>3700000.0</td>\n",
       "      <td>37.30</td>\n",
       "      <td>2017-11-02T00:00:00</td>\n",
       "      <td>1</td>\n",
       "      <td>NaN</td>\n",
       "      <td>26.0</td>\n",
       "      <td>10.60</td>\n",
       "      <td>6</td>\n",
       "      <td>NaN</td>\n",
       "      <td>...</td>\n",
       "      <td>14.40</td>\n",
       "      <td>1.0</td>\n",
       "      <td>посёлок Парголово</td>\n",
       "      <td>52996.0</td>\n",
       "      <td>19143.0</td>\n",
       "      <td>0.0</td>\n",
       "      <td>NaN</td>\n",
       "      <td>0.0</td>\n",
       "      <td>NaN</td>\n",
       "      <td>155.0</td>\n",
       "    </tr>\n",
       "    <tr>\n",
       "      <td>7</td>\n",
       "      <td>5</td>\n",
       "      <td>7915000.0</td>\n",
       "      <td>71.60</td>\n",
       "      <td>2019-04-18T00:00:00</td>\n",
       "      <td>2</td>\n",
       "      <td>NaN</td>\n",
       "      <td>24.0</td>\n",
       "      <td>NaN</td>\n",
       "      <td>22</td>\n",
       "      <td>NaN</td>\n",
       "      <td>...</td>\n",
       "      <td>18.90</td>\n",
       "      <td>2.0</td>\n",
       "      <td>Санкт-Петербург</td>\n",
       "      <td>23982.0</td>\n",
       "      <td>11634.0</td>\n",
       "      <td>0.0</td>\n",
       "      <td>NaN</td>\n",
       "      <td>0.0</td>\n",
       "      <td>NaN</td>\n",
       "      <td>NaN</td>\n",
       "    </tr>\n",
       "    <tr>\n",
       "      <td>8</td>\n",
       "      <td>20</td>\n",
       "      <td>2900000.0</td>\n",
       "      <td>33.16</td>\n",
       "      <td>2018-05-23T00:00:00</td>\n",
       "      <td>1</td>\n",
       "      <td>NaN</td>\n",
       "      <td>27.0</td>\n",
       "      <td>15.43</td>\n",
       "      <td>26</td>\n",
       "      <td>NaN</td>\n",
       "      <td>...</td>\n",
       "      <td>8.81</td>\n",
       "      <td>NaN</td>\n",
       "      <td>посёлок Мурино</td>\n",
       "      <td>NaN</td>\n",
       "      <td>NaN</td>\n",
       "      <td>NaN</td>\n",
       "      <td>NaN</td>\n",
       "      <td>NaN</td>\n",
       "      <td>NaN</td>\n",
       "      <td>189.0</td>\n",
       "    </tr>\n",
       "    <tr>\n",
       "      <td>9</td>\n",
       "      <td>18</td>\n",
       "      <td>5400000.0</td>\n",
       "      <td>61.00</td>\n",
       "      <td>2017-02-26T00:00:00</td>\n",
       "      <td>3</td>\n",
       "      <td>2.50</td>\n",
       "      <td>9.0</td>\n",
       "      <td>43.60</td>\n",
       "      <td>7</td>\n",
       "      <td>NaN</td>\n",
       "      <td>...</td>\n",
       "      <td>6.50</td>\n",
       "      <td>2.0</td>\n",
       "      <td>Санкт-Петербург</td>\n",
       "      <td>50898.0</td>\n",
       "      <td>15008.0</td>\n",
       "      <td>0.0</td>\n",
       "      <td>NaN</td>\n",
       "      <td>0.0</td>\n",
       "      <td>NaN</td>\n",
       "      <td>289.0</td>\n",
       "    </tr>\n",
       "  </tbody>\n",
       "</table>\n",
       "<p>10 rows × 22 columns</p>\n",
       "</div>"
      ],
      "text/plain": [
       "   total_images  last_price  total_area first_day_exposition  rooms  \\\n",
       "0            20  13000000.0      108.00  2019-03-07T00:00:00      3   \n",
       "1             7   3350000.0       40.40  2018-12-04T00:00:00      1   \n",
       "2            10   5196000.0       56.00  2015-08-20T00:00:00      2   \n",
       "3             0  64900000.0      159.00  2015-07-24T00:00:00      3   \n",
       "4             2  10000000.0      100.00  2018-06-19T00:00:00      2   \n",
       "5            10   2890000.0       30.40  2018-09-10T00:00:00      1   \n",
       "6             6   3700000.0       37.30  2017-11-02T00:00:00      1   \n",
       "7             5   7915000.0       71.60  2019-04-18T00:00:00      2   \n",
       "8            20   2900000.0       33.16  2018-05-23T00:00:00      1   \n",
       "9            18   5400000.0       61.00  2017-02-26T00:00:00      3   \n",
       "\n",
       "   ceiling_height  floors_total  living_area  floor is_apartment  ...  \\\n",
       "0            2.70          16.0        51.00      8          NaN  ...   \n",
       "1             NaN          11.0        18.60      1          NaN  ...   \n",
       "2             NaN           5.0        34.30      4          NaN  ...   \n",
       "3             NaN          14.0          NaN      9          NaN  ...   \n",
       "4            3.03          14.0        32.00     13          NaN  ...   \n",
       "5             NaN          12.0        14.40      5          NaN  ...   \n",
       "6             NaN          26.0        10.60      6          NaN  ...   \n",
       "7             NaN          24.0          NaN     22          NaN  ...   \n",
       "8             NaN          27.0        15.43     26          NaN  ...   \n",
       "9            2.50           9.0        43.60      7          NaN  ...   \n",
       "\n",
       "   kitchen_area  balcony              locality_name  airports_nearest  \\\n",
       "0         25.00      NaN            Санкт-Петербург           18863.0   \n",
       "1         11.00      2.0             посёлок Шушары           12817.0   \n",
       "2          8.30      0.0            Санкт-Петербург           21741.0   \n",
       "3           NaN      0.0            Санкт-Петербург           28098.0   \n",
       "4         41.00      NaN            Санкт-Петербург           31856.0   \n",
       "5          9.10      NaN  городской посёлок Янино-1               NaN   \n",
       "6         14.40      1.0          посёлок Парголово           52996.0   \n",
       "7         18.90      2.0            Санкт-Петербург           23982.0   \n",
       "8          8.81      NaN             посёлок Мурино               NaN   \n",
       "9          6.50      2.0            Санкт-Петербург           50898.0   \n",
       "\n",
       "  cityCenters_nearest  parks_around3000  parks_nearest  ponds_around3000  \\\n",
       "0             16028.0               1.0          482.0               2.0   \n",
       "1             18603.0               0.0            NaN               0.0   \n",
       "2             13933.0               1.0           90.0               2.0   \n",
       "3              6800.0               2.0           84.0               3.0   \n",
       "4              8098.0               2.0          112.0               1.0   \n",
       "5                 NaN               NaN            NaN               NaN   \n",
       "6             19143.0               0.0            NaN               0.0   \n",
       "7             11634.0               0.0            NaN               0.0   \n",
       "8                 NaN               NaN            NaN               NaN   \n",
       "9             15008.0               0.0            NaN               0.0   \n",
       "\n",
       "   ponds_nearest  days_exposition  \n",
       "0          755.0              NaN  \n",
       "1            NaN             81.0  \n",
       "2          574.0            558.0  \n",
       "3          234.0            424.0  \n",
       "4           48.0            121.0  \n",
       "5            NaN             55.0  \n",
       "6            NaN            155.0  \n",
       "7            NaN              NaN  \n",
       "8            NaN            189.0  \n",
       "9            NaN            289.0  \n",
       "\n",
       "[10 rows x 22 columns]"
      ]
     },
     "execution_count": 1,
     "metadata": {},
     "output_type": "execute_result"
    }
   ],
   "source": [
    "import pandas as pd\n",
    "df = pd.read_csv('/datasets/real_estate_data.csv', sep='\\t')\n",
    "df.head(10)"
   ]
  },
  {
   "cell_type": "code",
   "execution_count": 2,
   "metadata": {},
   "outputs": [
    {
     "name": "stdout",
     "output_type": "stream",
     "text": [
      "<class 'pandas.core.frame.DataFrame'>\n",
      "RangeIndex: 23699 entries, 0 to 23698\n",
      "Data columns (total 22 columns):\n",
      "total_images            23699 non-null int64\n",
      "last_price              23699 non-null float64\n",
      "total_area              23699 non-null float64\n",
      "first_day_exposition    23699 non-null object\n",
      "rooms                   23699 non-null int64\n",
      "ceiling_height          14504 non-null float64\n",
      "floors_total            23613 non-null float64\n",
      "living_area             21796 non-null float64\n",
      "floor                   23699 non-null int64\n",
      "is_apartment            2775 non-null object\n",
      "studio                  23699 non-null bool\n",
      "open_plan               23699 non-null bool\n",
      "kitchen_area            21421 non-null float64\n",
      "balcony                 12180 non-null float64\n",
      "locality_name           23650 non-null object\n",
      "airports_nearest        18157 non-null float64\n",
      "cityCenters_nearest     18180 non-null float64\n",
      "parks_around3000        18181 non-null float64\n",
      "parks_nearest           8079 non-null float64\n",
      "ponds_around3000        18181 non-null float64\n",
      "ponds_nearest           9110 non-null float64\n",
      "days_exposition         20518 non-null float64\n",
      "dtypes: bool(2), float64(14), int64(3), object(3)\n",
      "memory usage: 3.7+ MB\n"
     ]
    }
   ],
   "source": [
    "df.info()"
   ]
  },
  {
   "cell_type": "markdown",
   "metadata": {},
   "source": [
    "<b> Вывод"
   ]
  },
  {
   "cell_type": "markdown",
   "metadata": {},
   "source": [
    "Названия столбцов вполне корректные, менять не будем.\n",
    "\n",
    "Обнаружены пустые значения во многих столбцах. Предположим, исходя из предоставленных данных, что ряд пустых значений правильнее так и оставить пустыми, т.к. они не влияют на исследование. С остальными же нужно что-то делать. \n",
    "\n"
   ]
  },
  {
   "cell_type": "markdown",
   "metadata": {},
   "source": [
    "<b> Шаг 2. Предобработка данных <a name=\"p2\"></a>"
   ]
  },
  {
   "cell_type": "markdown",
   "metadata": {},
   "source": [
    "Сразу изменим пустые значения в  количественном столбце `balcony` на 0. Это как мининимум логичнее."
   ]
  },
  {
   "cell_type": "code",
   "execution_count": 3,
   "metadata": {},
   "outputs": [
    {
     "data": {
      "text/html": [
       "<div>\n",
       "<style scoped>\n",
       "    .dataframe tbody tr th:only-of-type {\n",
       "        vertical-align: middle;\n",
       "    }\n",
       "\n",
       "    .dataframe tbody tr th {\n",
       "        vertical-align: top;\n",
       "    }\n",
       "\n",
       "    .dataframe thead th {\n",
       "        text-align: right;\n",
       "    }\n",
       "</style>\n",
       "<table border=\"1\" class=\"dataframe\">\n",
       "  <thead>\n",
       "    <tr style=\"text-align: right;\">\n",
       "      <th></th>\n",
       "      <th>total_images</th>\n",
       "      <th>last_price</th>\n",
       "      <th>total_area</th>\n",
       "      <th>first_day_exposition</th>\n",
       "      <th>rooms</th>\n",
       "      <th>ceiling_height</th>\n",
       "      <th>floors_total</th>\n",
       "      <th>living_area</th>\n",
       "      <th>floor</th>\n",
       "      <th>is_apartment</th>\n",
       "      <th>...</th>\n",
       "      <th>kitchen_area</th>\n",
       "      <th>balcony</th>\n",
       "      <th>locality_name</th>\n",
       "      <th>airports_nearest</th>\n",
       "      <th>cityCenters_nearest</th>\n",
       "      <th>parks_around3000</th>\n",
       "      <th>parks_nearest</th>\n",
       "      <th>ponds_around3000</th>\n",
       "      <th>ponds_nearest</th>\n",
       "      <th>days_exposition</th>\n",
       "    </tr>\n",
       "  </thead>\n",
       "  <tbody>\n",
       "  </tbody>\n",
       "</table>\n",
       "<p>0 rows × 22 columns</p>\n",
       "</div>"
      ],
      "text/plain": [
       "Empty DataFrame\n",
       "Columns: [total_images, last_price, total_area, first_day_exposition, rooms, ceiling_height, floors_total, living_area, floor, is_apartment, studio, open_plan, kitchen_area, balcony, locality_name, airports_nearest, cityCenters_nearest, parks_around3000, parks_nearest, ponds_around3000, ponds_nearest, days_exposition]\n",
       "Index: []\n",
       "\n",
       "[0 rows x 22 columns]"
      ]
     },
     "execution_count": 3,
     "metadata": {},
     "output_type": "execute_result"
    }
   ],
   "source": [
    "df['balcony'] = df['balcony'].fillna(0)\n",
    "df[df['balcony'].isna()]"
   ]
  },
  {
   "cell_type": "code",
   "execution_count": 4,
   "metadata": {},
   "outputs": [
    {
     "data": {
      "text/plain": [
       "0.0    15277\n",
       "1.0     4195\n",
       "2.0     3659\n",
       "5.0      304\n",
       "4.0      183\n",
       "3.0       81\n",
       "Name: balcony, dtype: int64"
      ]
     },
     "execution_count": 4,
     "metadata": {},
     "output_type": "execute_result"
    }
   ],
   "source": [
    "df['balcony'].value_counts()"
   ]
  },
  {
   "cell_type": "markdown",
   "metadata": {},
   "source": [
    "Теперь у нас либо нет балконов, то есть 0, либо от 1 до 5. Это логично."
   ]
  },
  {
   "cell_type": "markdown",
   "metadata": {},
   "source": [
    "------------------------------\n",
    "Наблюдается очень много пустых значений в столбце `ceiling_height`. Рассмотрим данные подробнее."
   ]
  },
  {
   "cell_type": "code",
   "execution_count": 5,
   "metadata": {},
   "outputs": [
    {
     "data": {
      "text/plain": [
       "2.50      3515\n",
       "2.60      1646\n",
       "2.70      1574\n",
       "3.00      1112\n",
       "2.80       993\n",
       "          ... \n",
       "27.50        1\n",
       "5.00         1\n",
       "3.59         1\n",
       "4.80         1\n",
       "100.00       1\n",
       "Name: ceiling_height, Length: 183, dtype: int64"
      ]
     },
     "execution_count": 5,
     "metadata": {},
     "output_type": "execute_result"
    }
   ],
   "source": [
    "df['ceiling_height'].value_counts()"
   ]
  },
  {
   "cell_type": "markdown",
   "metadata": {},
   "source": [
    "Очень слабо себе представляю высоту потолков в 100 и даже в 27 метров. Похоже на ошибки в данных или выбросы. Посчитаем количество квартир с потолками больше 5 метров."
   ]
  },
  {
   "cell_type": "code",
   "execution_count": 6,
   "metadata": {},
   "outputs": [
    {
     "data": {
      "text/plain": [
       "36"
      ]
     },
     "execution_count": 6,
     "metadata": {},
     "output_type": "execute_result"
    }
   ],
   "source": [
    "len(df.query('ceiling_height > 5'))"
   ]
  },
  {
   "cell_type": "code",
   "execution_count": 7,
   "metadata": {},
   "outputs": [
    {
     "data": {
      "text/html": [
       "<div>\n",
       "<style scoped>\n",
       "    .dataframe tbody tr th:only-of-type {\n",
       "        vertical-align: middle;\n",
       "    }\n",
       "\n",
       "    .dataframe tbody tr th {\n",
       "        vertical-align: top;\n",
       "    }\n",
       "\n",
       "    .dataframe thead th {\n",
       "        text-align: right;\n",
       "    }\n",
       "</style>\n",
       "<table border=\"1\" class=\"dataframe\">\n",
       "  <thead>\n",
       "    <tr style=\"text-align: right;\">\n",
       "      <th></th>\n",
       "      <th>total_images</th>\n",
       "      <th>last_price</th>\n",
       "      <th>total_area</th>\n",
       "      <th>first_day_exposition</th>\n",
       "      <th>rooms</th>\n",
       "      <th>ceiling_height</th>\n",
       "      <th>floors_total</th>\n",
       "      <th>living_area</th>\n",
       "      <th>floor</th>\n",
       "      <th>is_apartment</th>\n",
       "      <th>...</th>\n",
       "      <th>kitchen_area</th>\n",
       "      <th>balcony</th>\n",
       "      <th>locality_name</th>\n",
       "      <th>airports_nearest</th>\n",
       "      <th>cityCenters_nearest</th>\n",
       "      <th>parks_around3000</th>\n",
       "      <th>parks_nearest</th>\n",
       "      <th>ponds_around3000</th>\n",
       "      <th>ponds_nearest</th>\n",
       "      <th>days_exposition</th>\n",
       "    </tr>\n",
       "  </thead>\n",
       "  <tbody>\n",
       "    <tr>\n",
       "      <td>355</td>\n",
       "      <td>17</td>\n",
       "      <td>3600000.0</td>\n",
       "      <td>55.2</td>\n",
       "      <td>2018-07-12T00:00:00</td>\n",
       "      <td>2</td>\n",
       "      <td>25.0</td>\n",
       "      <td>5.0</td>\n",
       "      <td>32.0</td>\n",
       "      <td>2</td>\n",
       "      <td>False</td>\n",
       "      <td>...</td>\n",
       "      <td>NaN</td>\n",
       "      <td>2.0</td>\n",
       "      <td>Гатчина</td>\n",
       "      <td>NaN</td>\n",
       "      <td>NaN</td>\n",
       "      <td>NaN</td>\n",
       "      <td>NaN</td>\n",
       "      <td>NaN</td>\n",
       "      <td>NaN</td>\n",
       "      <td>259.0</td>\n",
       "    </tr>\n",
       "    <tr>\n",
       "      <td>464</td>\n",
       "      <td>15</td>\n",
       "      <td>66571000.0</td>\n",
       "      <td>280.3</td>\n",
       "      <td>2015-06-11T00:00:00</td>\n",
       "      <td>6</td>\n",
       "      <td>5.2</td>\n",
       "      <td>8.0</td>\n",
       "      <td>159.5</td>\n",
       "      <td>7</td>\n",
       "      <td>NaN</td>\n",
       "      <td>...</td>\n",
       "      <td>21.1</td>\n",
       "      <td>0.0</td>\n",
       "      <td>Санкт-Петербург</td>\n",
       "      <td>26316.0</td>\n",
       "      <td>6655.0</td>\n",
       "      <td>3.0</td>\n",
       "      <td>187.0</td>\n",
       "      <td>1.0</td>\n",
       "      <td>616.0</td>\n",
       "      <td>578.0</td>\n",
       "    </tr>\n",
       "    <tr>\n",
       "      <td>1026</td>\n",
       "      <td>20</td>\n",
       "      <td>155000000.0</td>\n",
       "      <td>310.0</td>\n",
       "      <td>2018-10-12T00:00:00</td>\n",
       "      <td>5</td>\n",
       "      <td>5.3</td>\n",
       "      <td>3.0</td>\n",
       "      <td>190.0</td>\n",
       "      <td>3</td>\n",
       "      <td>NaN</td>\n",
       "      <td>...</td>\n",
       "      <td>63.0</td>\n",
       "      <td>2.0</td>\n",
       "      <td>Санкт-Петербург</td>\n",
       "      <td>24899.0</td>\n",
       "      <td>4785.0</td>\n",
       "      <td>0.0</td>\n",
       "      <td>NaN</td>\n",
       "      <td>1.0</td>\n",
       "      <td>603.0</td>\n",
       "      <td>NaN</td>\n",
       "    </tr>\n",
       "    <tr>\n",
       "      <td>1388</td>\n",
       "      <td>20</td>\n",
       "      <td>59800000.0</td>\n",
       "      <td>399.0</td>\n",
       "      <td>2015-01-21T00:00:00</td>\n",
       "      <td>5</td>\n",
       "      <td>5.6</td>\n",
       "      <td>6.0</td>\n",
       "      <td>NaN</td>\n",
       "      <td>6</td>\n",
       "      <td>NaN</td>\n",
       "      <td>...</td>\n",
       "      <td>NaN</td>\n",
       "      <td>0.0</td>\n",
       "      <td>Санкт-Петербург</td>\n",
       "      <td>26204.0</td>\n",
       "      <td>6934.0</td>\n",
       "      <td>2.0</td>\n",
       "      <td>149.0</td>\n",
       "      <td>2.0</td>\n",
       "      <td>577.0</td>\n",
       "      <td>719.0</td>\n",
       "    </tr>\n",
       "    <tr>\n",
       "      <td>3148</td>\n",
       "      <td>14</td>\n",
       "      <td>2900000.0</td>\n",
       "      <td>75.0</td>\n",
       "      <td>2018-11-12T00:00:00</td>\n",
       "      <td>3</td>\n",
       "      <td>32.0</td>\n",
       "      <td>3.0</td>\n",
       "      <td>53.0</td>\n",
       "      <td>2</td>\n",
       "      <td>NaN</td>\n",
       "      <td>...</td>\n",
       "      <td>8.0</td>\n",
       "      <td>0.0</td>\n",
       "      <td>Волхов</td>\n",
       "      <td>NaN</td>\n",
       "      <td>NaN</td>\n",
       "      <td>NaN</td>\n",
       "      <td>NaN</td>\n",
       "      <td>NaN</td>\n",
       "      <td>NaN</td>\n",
       "      <td>NaN</td>\n",
       "    </tr>\n",
       "  </tbody>\n",
       "</table>\n",
       "<p>5 rows × 22 columns</p>\n",
       "</div>"
      ],
      "text/plain": [
       "      total_images   last_price  total_area first_day_exposition  rooms  \\\n",
       "355             17    3600000.0        55.2  2018-07-12T00:00:00      2   \n",
       "464             15   66571000.0       280.3  2015-06-11T00:00:00      6   \n",
       "1026            20  155000000.0       310.0  2018-10-12T00:00:00      5   \n",
       "1388            20   59800000.0       399.0  2015-01-21T00:00:00      5   \n",
       "3148            14    2900000.0        75.0  2018-11-12T00:00:00      3   \n",
       "\n",
       "      ceiling_height  floors_total  living_area  floor is_apartment  ...  \\\n",
       "355             25.0           5.0         32.0      2        False  ...   \n",
       "464              5.2           8.0        159.5      7          NaN  ...   \n",
       "1026             5.3           3.0        190.0      3          NaN  ...   \n",
       "1388             5.6           6.0          NaN      6          NaN  ...   \n",
       "3148            32.0           3.0         53.0      2          NaN  ...   \n",
       "\n",
       "      kitchen_area  balcony    locality_name  airports_nearest  \\\n",
       "355            NaN      2.0          Гатчина               NaN   \n",
       "464           21.1      0.0  Санкт-Петербург           26316.0   \n",
       "1026          63.0      2.0  Санкт-Петербург           24899.0   \n",
       "1388           NaN      0.0  Санкт-Петербург           26204.0   \n",
       "3148           8.0      0.0           Волхов               NaN   \n",
       "\n",
       "     cityCenters_nearest  parks_around3000  parks_nearest  ponds_around3000  \\\n",
       "355                  NaN               NaN            NaN               NaN   \n",
       "464               6655.0               3.0          187.0               1.0   \n",
       "1026              4785.0               0.0            NaN               1.0   \n",
       "1388              6934.0               2.0          149.0               2.0   \n",
       "3148                 NaN               NaN            NaN               NaN   \n",
       "\n",
       "      ponds_nearest  days_exposition  \n",
       "355             NaN            259.0  \n",
       "464           616.0            578.0  \n",
       "1026          603.0              NaN  \n",
       "1388          577.0            719.0  \n",
       "3148            NaN              NaN  \n",
       "\n",
       "[5 rows x 22 columns]"
      ]
     },
     "execution_count": 7,
     "metadata": {},
     "output_type": "execute_result"
    }
   ],
   "source": [
    "df.query('ceiling_height > 5').head()"
   ]
  },
  {
   "cell_type": "markdown",
   "metadata": {},
   "source": [
    "Если у квартиры площадью 399 метров мы еще можем предположить высоту потолка в 5,6 метра (вдруг это пенхаус или дом), то у площади в 75 квадратов на 2 этаже высота потолков в 32 метра невозможна. Что за прямоугольник?)\n",
    "\n",
    "Предположу, что такие значения появились из-за ручного ввода информации: кто-то не прописал запятую и вместо 3.2 получилось 32 метра.\n",
    "\n",
    "Произведем замену: разделим значения в диапазоне от 20 до 40 метров на 10."
   ]
  },
  {
   "cell_type": "code",
   "execution_count": 8,
   "metadata": {},
   "outputs": [
    {
     "name": "stderr",
     "output_type": "stream",
     "text": [
      "/opt/conda/lib/python3.7/site-packages/ipykernel_launcher.py:2: SettingWithCopyWarning: \n",
      "A value is trying to be set on a copy of a slice from a DataFrame\n",
      "\n",
      "See the caveats in the documentation: http://pandas.pydata.org/pandas-docs/stable/user_guide/indexing.html#returning-a-view-versus-a-copy\n",
      "  \n"
     ]
    }
   ],
   "source": [
    "# возможно не оптимальный способ замены, прошу подсказки как оптимальнее написать код в данном случае\n",
    "df['ceiling_height'][(df['ceiling_height'] >= 20) & (df['ceiling_height'] <= 40)] = df['ceiling_height'] / 10"
   ]
  },
  {
   "cell_type": "code",
   "execution_count": 9,
   "metadata": {},
   "outputs": [
    {
     "data": {
      "text/html": [
       "<div>\n",
       "<style scoped>\n",
       "    .dataframe tbody tr th:only-of-type {\n",
       "        vertical-align: middle;\n",
       "    }\n",
       "\n",
       "    .dataframe tbody tr th {\n",
       "        vertical-align: top;\n",
       "    }\n",
       "\n",
       "    .dataframe thead th {\n",
       "        text-align: right;\n",
       "    }\n",
       "</style>\n",
       "<table border=\"1\" class=\"dataframe\">\n",
       "  <thead>\n",
       "    <tr style=\"text-align: right;\">\n",
       "      <th></th>\n",
       "      <th>total_images</th>\n",
       "      <th>last_price</th>\n",
       "      <th>total_area</th>\n",
       "      <th>first_day_exposition</th>\n",
       "      <th>rooms</th>\n",
       "      <th>ceiling_height</th>\n",
       "      <th>floors_total</th>\n",
       "      <th>living_area</th>\n",
       "      <th>floor</th>\n",
       "      <th>is_apartment</th>\n",
       "      <th>...</th>\n",
       "      <th>kitchen_area</th>\n",
       "      <th>balcony</th>\n",
       "      <th>locality_name</th>\n",
       "      <th>airports_nearest</th>\n",
       "      <th>cityCenters_nearest</th>\n",
       "      <th>parks_around3000</th>\n",
       "      <th>parks_nearest</th>\n",
       "      <th>ponds_around3000</th>\n",
       "      <th>ponds_nearest</th>\n",
       "      <th>days_exposition</th>\n",
       "    </tr>\n",
       "  </thead>\n",
       "  <tbody>\n",
       "    <tr>\n",
       "      <td>3474</td>\n",
       "      <td>3</td>\n",
       "      <td>1400000.0</td>\n",
       "      <td>30.0</td>\n",
       "      <td>2018-03-16T00:00:00</td>\n",
       "      <td>1</td>\n",
       "      <td>8.0</td>\n",
       "      <td>5.0</td>\n",
       "      <td>15.3</td>\n",
       "      <td>2</td>\n",
       "      <td>False</td>\n",
       "      <td>...</td>\n",
       "      <td>7.3</td>\n",
       "      <td>0.0</td>\n",
       "      <td>деревня Нурма</td>\n",
       "      <td>NaN</td>\n",
       "      <td>NaN</td>\n",
       "      <td>NaN</td>\n",
       "      <td>NaN</td>\n",
       "      <td>NaN</td>\n",
       "      <td>NaN</td>\n",
       "      <td>125.0</td>\n",
       "    </tr>\n",
       "    <tr>\n",
       "      <td>5863</td>\n",
       "      <td>20</td>\n",
       "      <td>5650000.0</td>\n",
       "      <td>45.0</td>\n",
       "      <td>2018-08-15T00:00:00</td>\n",
       "      <td>1</td>\n",
       "      <td>8.3</td>\n",
       "      <td>16.0</td>\n",
       "      <td>19.3</td>\n",
       "      <td>14</td>\n",
       "      <td>NaN</td>\n",
       "      <td>...</td>\n",
       "      <td>8.3</td>\n",
       "      <td>1.0</td>\n",
       "      <td>Санкт-Петербург</td>\n",
       "      <td>13069.0</td>\n",
       "      <td>10763.0</td>\n",
       "      <td>0.0</td>\n",
       "      <td>NaN</td>\n",
       "      <td>1.0</td>\n",
       "      <td>613.0</td>\n",
       "      <td>14.0</td>\n",
       "    </tr>\n",
       "    <tr>\n",
       "      <td>15061</td>\n",
       "      <td>19</td>\n",
       "      <td>5600000.0</td>\n",
       "      <td>56.4</td>\n",
       "      <td>2018-05-11T00:00:00</td>\n",
       "      <td>2</td>\n",
       "      <td>14.0</td>\n",
       "      <td>14.0</td>\n",
       "      <td>32.4</td>\n",
       "      <td>5</td>\n",
       "      <td>NaN</td>\n",
       "      <td>...</td>\n",
       "      <td>9.1</td>\n",
       "      <td>2.0</td>\n",
       "      <td>Санкт-Петербург</td>\n",
       "      <td>14814.0</td>\n",
       "      <td>13610.0</td>\n",
       "      <td>0.0</td>\n",
       "      <td>NaN</td>\n",
       "      <td>0.0</td>\n",
       "      <td>NaN</td>\n",
       "      <td>315.0</td>\n",
       "    </tr>\n",
       "    <tr>\n",
       "      <td>15743</td>\n",
       "      <td>14</td>\n",
       "      <td>5600000.0</td>\n",
       "      <td>67.0</td>\n",
       "      <td>2016-11-11T00:00:00</td>\n",
       "      <td>3</td>\n",
       "      <td>8.0</td>\n",
       "      <td>16.0</td>\n",
       "      <td>41.0</td>\n",
       "      <td>1</td>\n",
       "      <td>NaN</td>\n",
       "      <td>...</td>\n",
       "      <td>8.0</td>\n",
       "      <td>0.0</td>\n",
       "      <td>Санкт-Петербург</td>\n",
       "      <td>32691.0</td>\n",
       "      <td>11035.0</td>\n",
       "      <td>1.0</td>\n",
       "      <td>723.0</td>\n",
       "      <td>0.0</td>\n",
       "      <td>NaN</td>\n",
       "      <td>474.0</td>\n",
       "    </tr>\n",
       "    <tr>\n",
       "      <td>17442</td>\n",
       "      <td>0</td>\n",
       "      <td>5350000.0</td>\n",
       "      <td>54.0</td>\n",
       "      <td>2015-06-16T00:00:00</td>\n",
       "      <td>2</td>\n",
       "      <td>8.0</td>\n",
       "      <td>5.0</td>\n",
       "      <td>29.0</td>\n",
       "      <td>2</td>\n",
       "      <td>NaN</td>\n",
       "      <td>...</td>\n",
       "      <td>NaN</td>\n",
       "      <td>1.0</td>\n",
       "      <td>Красное Село</td>\n",
       "      <td>24638.0</td>\n",
       "      <td>28062.0</td>\n",
       "      <td>0.0</td>\n",
       "      <td>NaN</td>\n",
       "      <td>0.0</td>\n",
       "      <td>NaN</td>\n",
       "      <td>469.0</td>\n",
       "    </tr>\n",
       "    <tr>\n",
       "      <td>22309</td>\n",
       "      <td>20</td>\n",
       "      <td>5300000.0</td>\n",
       "      <td>45.0</td>\n",
       "      <td>2017-09-30T00:00:00</td>\n",
       "      <td>1</td>\n",
       "      <td>10.3</td>\n",
       "      <td>16.0</td>\n",
       "      <td>15.5</td>\n",
       "      <td>15</td>\n",
       "      <td>NaN</td>\n",
       "      <td>...</td>\n",
       "      <td>NaN</td>\n",
       "      <td>0.0</td>\n",
       "      <td>Санкт-Петербург</td>\n",
       "      <td>36353.0</td>\n",
       "      <td>11936.0</td>\n",
       "      <td>2.0</td>\n",
       "      <td>440.0</td>\n",
       "      <td>2.0</td>\n",
       "      <td>450.0</td>\n",
       "      <td>136.0</td>\n",
       "    </tr>\n",
       "    <tr>\n",
       "      <td>22869</td>\n",
       "      <td>0</td>\n",
       "      <td>15000000.0</td>\n",
       "      <td>25.0</td>\n",
       "      <td>2018-07-25T00:00:00</td>\n",
       "      <td>1</td>\n",
       "      <td>100.0</td>\n",
       "      <td>5.0</td>\n",
       "      <td>14.0</td>\n",
       "      <td>5</td>\n",
       "      <td>True</td>\n",
       "      <td>...</td>\n",
       "      <td>11.0</td>\n",
       "      <td>5.0</td>\n",
       "      <td>Санкт-Петербург</td>\n",
       "      <td>34963.0</td>\n",
       "      <td>8283.0</td>\n",
       "      <td>1.0</td>\n",
       "      <td>223.0</td>\n",
       "      <td>3.0</td>\n",
       "      <td>30.0</td>\n",
       "      <td>19.0</td>\n",
       "    </tr>\n",
       "  </tbody>\n",
       "</table>\n",
       "<p>7 rows × 22 columns</p>\n",
       "</div>"
      ],
      "text/plain": [
       "       total_images  last_price  total_area first_day_exposition  rooms  \\\n",
       "3474              3   1400000.0        30.0  2018-03-16T00:00:00      1   \n",
       "5863             20   5650000.0        45.0  2018-08-15T00:00:00      1   \n",
       "15061            19   5600000.0        56.4  2018-05-11T00:00:00      2   \n",
       "15743            14   5600000.0        67.0  2016-11-11T00:00:00      3   \n",
       "17442             0   5350000.0        54.0  2015-06-16T00:00:00      2   \n",
       "22309            20   5300000.0        45.0  2017-09-30T00:00:00      1   \n",
       "22869             0  15000000.0        25.0  2018-07-25T00:00:00      1   \n",
       "\n",
       "       ceiling_height  floors_total  living_area  floor is_apartment  ...  \\\n",
       "3474              8.0           5.0         15.3      2        False  ...   \n",
       "5863              8.3          16.0         19.3     14          NaN  ...   \n",
       "15061            14.0          14.0         32.4      5          NaN  ...   \n",
       "15743             8.0          16.0         41.0      1          NaN  ...   \n",
       "17442             8.0           5.0         29.0      2          NaN  ...   \n",
       "22309            10.3          16.0         15.5     15          NaN  ...   \n",
       "22869           100.0           5.0         14.0      5         True  ...   \n",
       "\n",
       "       kitchen_area  balcony    locality_name  airports_nearest  \\\n",
       "3474            7.3      0.0    деревня Нурма               NaN   \n",
       "5863            8.3      1.0  Санкт-Петербург           13069.0   \n",
       "15061           9.1      2.0  Санкт-Петербург           14814.0   \n",
       "15743           8.0      0.0  Санкт-Петербург           32691.0   \n",
       "17442           NaN      1.0     Красное Село           24638.0   \n",
       "22309           NaN      0.0  Санкт-Петербург           36353.0   \n",
       "22869          11.0      5.0  Санкт-Петербург           34963.0   \n",
       "\n",
       "      cityCenters_nearest  parks_around3000  parks_nearest  ponds_around3000  \\\n",
       "3474                  NaN               NaN            NaN               NaN   \n",
       "5863              10763.0               0.0            NaN               1.0   \n",
       "15061             13610.0               0.0            NaN               0.0   \n",
       "15743             11035.0               1.0          723.0               0.0   \n",
       "17442             28062.0               0.0            NaN               0.0   \n",
       "22309             11936.0               2.0          440.0               2.0   \n",
       "22869              8283.0               1.0          223.0               3.0   \n",
       "\n",
       "       ponds_nearest  days_exposition  \n",
       "3474             NaN            125.0  \n",
       "5863           613.0             14.0  \n",
       "15061            NaN            315.0  \n",
       "15743            NaN            474.0  \n",
       "17442            NaN            469.0  \n",
       "22309          450.0            136.0  \n",
       "22869           30.0             19.0  \n",
       "\n",
       "[7 rows x 22 columns]"
      ]
     },
     "execution_count": 9,
     "metadata": {},
     "output_type": "execute_result"
    }
   ],
   "source": [
    "df.query('ceiling_height > 7')"
   ]
  },
  {
   "cell_type": "markdown",
   "metadata": {},
   "source": [
    "Эти значения трогать не будем. На медиианную они влиять будут не сильно,т.к. их не так много. Будем считать их выбросами.\n",
    "\n",
    "Найдем медианную величину потолка и заменим Nan-ы на нее."
   ]
  },
  {
   "cell_type": "code",
   "execution_count": 10,
   "metadata": {},
   "outputs": [
    {
     "data": {
      "text/plain": [
       "2.65"
      ]
     },
     "execution_count": 10,
     "metadata": {},
     "output_type": "execute_result"
    }
   ],
   "source": [
    "df['ceiling_height'].median()"
   ]
  },
  {
   "cell_type": "code",
   "execution_count": 11,
   "metadata": {},
   "outputs": [
    {
     "data": {
      "text/html": [
       "<div>\n",
       "<style scoped>\n",
       "    .dataframe tbody tr th:only-of-type {\n",
       "        vertical-align: middle;\n",
       "    }\n",
       "\n",
       "    .dataframe tbody tr th {\n",
       "        vertical-align: top;\n",
       "    }\n",
       "\n",
       "    .dataframe thead th {\n",
       "        text-align: right;\n",
       "    }\n",
       "</style>\n",
       "<table border=\"1\" class=\"dataframe\">\n",
       "  <thead>\n",
       "    <tr style=\"text-align: right;\">\n",
       "      <th></th>\n",
       "      <th>total_images</th>\n",
       "      <th>last_price</th>\n",
       "      <th>total_area</th>\n",
       "      <th>first_day_exposition</th>\n",
       "      <th>rooms</th>\n",
       "      <th>ceiling_height</th>\n",
       "      <th>floors_total</th>\n",
       "      <th>living_area</th>\n",
       "      <th>floor</th>\n",
       "      <th>is_apartment</th>\n",
       "      <th>...</th>\n",
       "      <th>kitchen_area</th>\n",
       "      <th>balcony</th>\n",
       "      <th>locality_name</th>\n",
       "      <th>airports_nearest</th>\n",
       "      <th>cityCenters_nearest</th>\n",
       "      <th>parks_around3000</th>\n",
       "      <th>parks_nearest</th>\n",
       "      <th>ponds_around3000</th>\n",
       "      <th>ponds_nearest</th>\n",
       "      <th>days_exposition</th>\n",
       "    </tr>\n",
       "  </thead>\n",
       "  <tbody>\n",
       "  </tbody>\n",
       "</table>\n",
       "<p>0 rows × 22 columns</p>\n",
       "</div>"
      ],
      "text/plain": [
       "Empty DataFrame\n",
       "Columns: [total_images, last_price, total_area, first_day_exposition, rooms, ceiling_height, floors_total, living_area, floor, is_apartment, studio, open_plan, kitchen_area, balcony, locality_name, airports_nearest, cityCenters_nearest, parks_around3000, parks_nearest, ponds_around3000, ponds_nearest, days_exposition]\n",
       "Index: []\n",
       "\n",
       "[0 rows x 22 columns]"
      ]
     },
     "execution_count": 11,
     "metadata": {},
     "output_type": "execute_result"
    }
   ],
   "source": [
    "df['ceiling_height'] = df['ceiling_height'].fillna(df['ceiling_height'].median())\n",
    "df[df['ceiling_height'].isna()]"
   ]
  },
  {
   "cell_type": "markdown",
   "metadata": {},
   "source": [
    "Незаполненных потолков не осталось."
   ]
  },
  {
   "cell_type": "markdown",
   "metadata": {},
   "source": [
    "--------------------------\n",
    "Проверим пустые строки в столбце `living_area`."
   ]
  },
  {
   "cell_type": "code",
   "execution_count": 12,
   "metadata": {},
   "outputs": [
    {
     "data": {
      "text/html": [
       "<div>\n",
       "<style scoped>\n",
       "    .dataframe tbody tr th:only-of-type {\n",
       "        vertical-align: middle;\n",
       "    }\n",
       "\n",
       "    .dataframe tbody tr th {\n",
       "        vertical-align: top;\n",
       "    }\n",
       "\n",
       "    .dataframe thead th {\n",
       "        text-align: right;\n",
       "    }\n",
       "</style>\n",
       "<table border=\"1\" class=\"dataframe\">\n",
       "  <thead>\n",
       "    <tr style=\"text-align: right;\">\n",
       "      <th></th>\n",
       "      <th>total_images</th>\n",
       "      <th>last_price</th>\n",
       "      <th>total_area</th>\n",
       "      <th>first_day_exposition</th>\n",
       "      <th>rooms</th>\n",
       "      <th>ceiling_height</th>\n",
       "      <th>floors_total</th>\n",
       "      <th>living_area</th>\n",
       "      <th>floor</th>\n",
       "      <th>is_apartment</th>\n",
       "      <th>...</th>\n",
       "      <th>kitchen_area</th>\n",
       "      <th>balcony</th>\n",
       "      <th>locality_name</th>\n",
       "      <th>airports_nearest</th>\n",
       "      <th>cityCenters_nearest</th>\n",
       "      <th>parks_around3000</th>\n",
       "      <th>parks_nearest</th>\n",
       "      <th>ponds_around3000</th>\n",
       "      <th>ponds_nearest</th>\n",
       "      <th>days_exposition</th>\n",
       "    </tr>\n",
       "  </thead>\n",
       "  <tbody>\n",
       "    <tr>\n",
       "      <td>3</td>\n",
       "      <td>0</td>\n",
       "      <td>64900000.0</td>\n",
       "      <td>159.00</td>\n",
       "      <td>2015-07-24T00:00:00</td>\n",
       "      <td>3</td>\n",
       "      <td>2.65</td>\n",
       "      <td>14.0</td>\n",
       "      <td>NaN</td>\n",
       "      <td>9</td>\n",
       "      <td>NaN</td>\n",
       "      <td>...</td>\n",
       "      <td>NaN</td>\n",
       "      <td>0.0</td>\n",
       "      <td>Санкт-Петербург</td>\n",
       "      <td>28098.0</td>\n",
       "      <td>6800.0</td>\n",
       "      <td>2.0</td>\n",
       "      <td>84.0</td>\n",
       "      <td>3.0</td>\n",
       "      <td>234.0</td>\n",
       "      <td>424.0</td>\n",
       "    </tr>\n",
       "    <tr>\n",
       "      <td>7</td>\n",
       "      <td>5</td>\n",
       "      <td>7915000.0</td>\n",
       "      <td>71.60</td>\n",
       "      <td>2019-04-18T00:00:00</td>\n",
       "      <td>2</td>\n",
       "      <td>2.65</td>\n",
       "      <td>24.0</td>\n",
       "      <td>NaN</td>\n",
       "      <td>22</td>\n",
       "      <td>NaN</td>\n",
       "      <td>...</td>\n",
       "      <td>18.9</td>\n",
       "      <td>2.0</td>\n",
       "      <td>Санкт-Петербург</td>\n",
       "      <td>23982.0</td>\n",
       "      <td>11634.0</td>\n",
       "      <td>0.0</td>\n",
       "      <td>NaN</td>\n",
       "      <td>0.0</td>\n",
       "      <td>NaN</td>\n",
       "      <td>NaN</td>\n",
       "    </tr>\n",
       "    <tr>\n",
       "      <td>30</td>\n",
       "      <td>12</td>\n",
       "      <td>2200000.0</td>\n",
       "      <td>32.80</td>\n",
       "      <td>2018-02-19T00:00:00</td>\n",
       "      <td>1</td>\n",
       "      <td>2.65</td>\n",
       "      <td>9.0</td>\n",
       "      <td>NaN</td>\n",
       "      <td>2</td>\n",
       "      <td>NaN</td>\n",
       "      <td>...</td>\n",
       "      <td>NaN</td>\n",
       "      <td>0.0</td>\n",
       "      <td>Коммунар</td>\n",
       "      <td>NaN</td>\n",
       "      <td>NaN</td>\n",
       "      <td>NaN</td>\n",
       "      <td>NaN</td>\n",
       "      <td>NaN</td>\n",
       "      <td>NaN</td>\n",
       "      <td>63.0</td>\n",
       "    </tr>\n",
       "    <tr>\n",
       "      <td>37</td>\n",
       "      <td>10</td>\n",
       "      <td>1990000.0</td>\n",
       "      <td>45.80</td>\n",
       "      <td>2017-10-28T00:00:00</td>\n",
       "      <td>2</td>\n",
       "      <td>2.50</td>\n",
       "      <td>5.0</td>\n",
       "      <td>NaN</td>\n",
       "      <td>1</td>\n",
       "      <td>NaN</td>\n",
       "      <td>...</td>\n",
       "      <td>NaN</td>\n",
       "      <td>0.0</td>\n",
       "      <td>поселок городского типа Красный Бор</td>\n",
       "      <td>NaN</td>\n",
       "      <td>NaN</td>\n",
       "      <td>NaN</td>\n",
       "      <td>NaN</td>\n",
       "      <td>NaN</td>\n",
       "      <td>NaN</td>\n",
       "      <td>196.0</td>\n",
       "    </tr>\n",
       "    <tr>\n",
       "      <td>44</td>\n",
       "      <td>13</td>\n",
       "      <td>5350000.0</td>\n",
       "      <td>40.00</td>\n",
       "      <td>2018-11-18T00:00:00</td>\n",
       "      <td>1</td>\n",
       "      <td>2.65</td>\n",
       "      <td>22.0</td>\n",
       "      <td>NaN</td>\n",
       "      <td>3</td>\n",
       "      <td>NaN</td>\n",
       "      <td>...</td>\n",
       "      <td>NaN</td>\n",
       "      <td>1.0</td>\n",
       "      <td>Санкт-Петербург</td>\n",
       "      <td>30471.0</td>\n",
       "      <td>11603.0</td>\n",
       "      <td>1.0</td>\n",
       "      <td>620.0</td>\n",
       "      <td>1.0</td>\n",
       "      <td>1152.0</td>\n",
       "      <td>NaN</td>\n",
       "    </tr>\n",
       "    <tr>\n",
       "      <td>...</td>\n",
       "      <td>...</td>\n",
       "      <td>...</td>\n",
       "      <td>...</td>\n",
       "      <td>...</td>\n",
       "      <td>...</td>\n",
       "      <td>...</td>\n",
       "      <td>...</td>\n",
       "      <td>...</td>\n",
       "      <td>...</td>\n",
       "      <td>...</td>\n",
       "      <td>...</td>\n",
       "      <td>...</td>\n",
       "      <td>...</td>\n",
       "      <td>...</td>\n",
       "      <td>...</td>\n",
       "      <td>...</td>\n",
       "      <td>...</td>\n",
       "      <td>...</td>\n",
       "      <td>...</td>\n",
       "      <td>...</td>\n",
       "      <td>...</td>\n",
       "    </tr>\n",
       "    <tr>\n",
       "      <td>23642</td>\n",
       "      <td>14</td>\n",
       "      <td>5950000.0</td>\n",
       "      <td>80.30</td>\n",
       "      <td>2018-07-03T00:00:00</td>\n",
       "      <td>3</td>\n",
       "      <td>2.70</td>\n",
       "      <td>12.0</td>\n",
       "      <td>NaN</td>\n",
       "      <td>5</td>\n",
       "      <td>NaN</td>\n",
       "      <td>...</td>\n",
       "      <td>NaN</td>\n",
       "      <td>0.0</td>\n",
       "      <td>Колпино</td>\n",
       "      <td>27933.0</td>\n",
       "      <td>33719.0</td>\n",
       "      <td>0.0</td>\n",
       "      <td>NaN</td>\n",
       "      <td>2.0</td>\n",
       "      <td>562.0</td>\n",
       "      <td>60.0</td>\n",
       "    </tr>\n",
       "    <tr>\n",
       "      <td>23663</td>\n",
       "      <td>12</td>\n",
       "      <td>6400000.0</td>\n",
       "      <td>88.00</td>\n",
       "      <td>2018-01-12T00:00:00</td>\n",
       "      <td>4</td>\n",
       "      <td>2.55</td>\n",
       "      <td>10.0</td>\n",
       "      <td>NaN</td>\n",
       "      <td>1</td>\n",
       "      <td>NaN</td>\n",
       "      <td>...</td>\n",
       "      <td>NaN</td>\n",
       "      <td>0.0</td>\n",
       "      <td>Санкт-Петербург</td>\n",
       "      <td>33642.0</td>\n",
       "      <td>13943.0</td>\n",
       "      <td>0.0</td>\n",
       "      <td>NaN</td>\n",
       "      <td>2.0</td>\n",
       "      <td>844.0</td>\n",
       "      <td>59.0</td>\n",
       "    </tr>\n",
       "    <tr>\n",
       "      <td>23670</td>\n",
       "      <td>9</td>\n",
       "      <td>2450000.0</td>\n",
       "      <td>45.60</td>\n",
       "      <td>2018-02-08T00:00:00</td>\n",
       "      <td>1</td>\n",
       "      <td>2.80</td>\n",
       "      <td>9.0</td>\n",
       "      <td>NaN</td>\n",
       "      <td>2</td>\n",
       "      <td>NaN</td>\n",
       "      <td>...</td>\n",
       "      <td>NaN</td>\n",
       "      <td>0.0</td>\n",
       "      <td>поселок городского типа Синявино</td>\n",
       "      <td>NaN</td>\n",
       "      <td>NaN</td>\n",
       "      <td>NaN</td>\n",
       "      <td>NaN</td>\n",
       "      <td>NaN</td>\n",
       "      <td>NaN</td>\n",
       "      <td>45.0</td>\n",
       "    </tr>\n",
       "    <tr>\n",
       "      <td>23679</td>\n",
       "      <td>0</td>\n",
       "      <td>2500000.0</td>\n",
       "      <td>35.00</td>\n",
       "      <td>2017-12-08T00:00:00</td>\n",
       "      <td>1</td>\n",
       "      <td>2.65</td>\n",
       "      <td>9.0</td>\n",
       "      <td>NaN</td>\n",
       "      <td>4</td>\n",
       "      <td>NaN</td>\n",
       "      <td>...</td>\n",
       "      <td>NaN</td>\n",
       "      <td>0.0</td>\n",
       "      <td>Сосновый Бор</td>\n",
       "      <td>NaN</td>\n",
       "      <td>NaN</td>\n",
       "      <td>NaN</td>\n",
       "      <td>NaN</td>\n",
       "      <td>NaN</td>\n",
       "      <td>NaN</td>\n",
       "      <td>45.0</td>\n",
       "    </tr>\n",
       "    <tr>\n",
       "      <td>23697</td>\n",
       "      <td>13</td>\n",
       "      <td>11475000.0</td>\n",
       "      <td>76.75</td>\n",
       "      <td>2017-03-28T00:00:00</td>\n",
       "      <td>2</td>\n",
       "      <td>3.00</td>\n",
       "      <td>17.0</td>\n",
       "      <td>NaN</td>\n",
       "      <td>12</td>\n",
       "      <td>NaN</td>\n",
       "      <td>...</td>\n",
       "      <td>23.3</td>\n",
       "      <td>2.0</td>\n",
       "      <td>Санкт-Петербург</td>\n",
       "      <td>39140.0</td>\n",
       "      <td>10364.0</td>\n",
       "      <td>2.0</td>\n",
       "      <td>173.0</td>\n",
       "      <td>3.0</td>\n",
       "      <td>196.0</td>\n",
       "      <td>602.0</td>\n",
       "    </tr>\n",
       "  </tbody>\n",
       "</table>\n",
       "<p>1903 rows × 22 columns</p>\n",
       "</div>"
      ],
      "text/plain": [
       "       total_images  last_price  total_area first_day_exposition  rooms  \\\n",
       "3                 0  64900000.0      159.00  2015-07-24T00:00:00      3   \n",
       "7                 5   7915000.0       71.60  2019-04-18T00:00:00      2   \n",
       "30               12   2200000.0       32.80  2018-02-19T00:00:00      1   \n",
       "37               10   1990000.0       45.80  2017-10-28T00:00:00      2   \n",
       "44               13   5350000.0       40.00  2018-11-18T00:00:00      1   \n",
       "...             ...         ...         ...                  ...    ...   \n",
       "23642            14   5950000.0       80.30  2018-07-03T00:00:00      3   \n",
       "23663            12   6400000.0       88.00  2018-01-12T00:00:00      4   \n",
       "23670             9   2450000.0       45.60  2018-02-08T00:00:00      1   \n",
       "23679             0   2500000.0       35.00  2017-12-08T00:00:00      1   \n",
       "23697            13  11475000.0       76.75  2017-03-28T00:00:00      2   \n",
       "\n",
       "       ceiling_height  floors_total  living_area  floor is_apartment  ...  \\\n",
       "3                2.65          14.0          NaN      9          NaN  ...   \n",
       "7                2.65          24.0          NaN     22          NaN  ...   \n",
       "30               2.65           9.0          NaN      2          NaN  ...   \n",
       "37               2.50           5.0          NaN      1          NaN  ...   \n",
       "44               2.65          22.0          NaN      3          NaN  ...   \n",
       "...               ...           ...          ...    ...          ...  ...   \n",
       "23642            2.70          12.0          NaN      5          NaN  ...   \n",
       "23663            2.55          10.0          NaN      1          NaN  ...   \n",
       "23670            2.80           9.0          NaN      2          NaN  ...   \n",
       "23679            2.65           9.0          NaN      4          NaN  ...   \n",
       "23697            3.00          17.0          NaN     12          NaN  ...   \n",
       "\n",
       "       kitchen_area  balcony                        locality_name  \\\n",
       "3               NaN      0.0                      Санкт-Петербург   \n",
       "7              18.9      2.0                      Санкт-Петербург   \n",
       "30              NaN      0.0                             Коммунар   \n",
       "37              NaN      0.0  поселок городского типа Красный Бор   \n",
       "44              NaN      1.0                      Санкт-Петербург   \n",
       "...             ...      ...                                  ...   \n",
       "23642           NaN      0.0                              Колпино   \n",
       "23663           NaN      0.0                      Санкт-Петербург   \n",
       "23670           NaN      0.0     поселок городского типа Синявино   \n",
       "23679           NaN      0.0                         Сосновый Бор   \n",
       "23697          23.3      2.0                      Санкт-Петербург   \n",
       "\n",
       "       airports_nearest cityCenters_nearest  parks_around3000  parks_nearest  \\\n",
       "3               28098.0              6800.0               2.0           84.0   \n",
       "7               23982.0             11634.0               0.0            NaN   \n",
       "30                  NaN                 NaN               NaN            NaN   \n",
       "37                  NaN                 NaN               NaN            NaN   \n",
       "44              30471.0             11603.0               1.0          620.0   \n",
       "...                 ...                 ...               ...            ...   \n",
       "23642           27933.0             33719.0               0.0            NaN   \n",
       "23663           33642.0             13943.0               0.0            NaN   \n",
       "23670               NaN                 NaN               NaN            NaN   \n",
       "23679               NaN                 NaN               NaN            NaN   \n",
       "23697           39140.0             10364.0               2.0          173.0   \n",
       "\n",
       "       ponds_around3000  ponds_nearest  days_exposition  \n",
       "3                   3.0          234.0            424.0  \n",
       "7                   0.0            NaN              NaN  \n",
       "30                  NaN            NaN             63.0  \n",
       "37                  NaN            NaN            196.0  \n",
       "44                  1.0         1152.0              NaN  \n",
       "...                 ...            ...              ...  \n",
       "23642               2.0          562.0             60.0  \n",
       "23663               2.0          844.0             59.0  \n",
       "23670               NaN            NaN             45.0  \n",
       "23679               NaN            NaN             45.0  \n",
       "23697               3.0          196.0            602.0  \n",
       "\n",
       "[1903 rows x 22 columns]"
      ]
     },
     "execution_count": 12,
     "metadata": {},
     "output_type": "execute_result"
    }
   ],
   "source": [
    "df[df['living_area'].isna()]"
   ]
  },
  {
   "cell_type": "markdown",
   "metadata": {},
   "source": [
    "Многовато пустых значений. Сгруппируем данные по общей площади создав равные 5 групп по количеству квартир. посчитаем медиану и среднюю по жилой площади."
   ]
  },
  {
   "cell_type": "code",
   "execution_count": 13,
   "metadata": {},
   "outputs": [
    {
     "data": {
      "text/html": [
       "<div>\n",
       "<style scoped>\n",
       "    .dataframe tbody tr th:only-of-type {\n",
       "        vertical-align: middle;\n",
       "    }\n",
       "\n",
       "    .dataframe tbody tr th {\n",
       "        vertical-align: top;\n",
       "    }\n",
       "\n",
       "    .dataframe thead tr th {\n",
       "        text-align: left;\n",
       "    }\n",
       "\n",
       "    .dataframe thead tr:last-of-type th {\n",
       "        text-align: right;\n",
       "    }\n",
       "</style>\n",
       "<table border=\"1\" class=\"dataframe\">\n",
       "  <thead>\n",
       "    <tr>\n",
       "      <th></th>\n",
       "      <th colspan=\"3\" halign=\"left\">living_area</th>\n",
       "    </tr>\n",
       "    <tr>\n",
       "      <th></th>\n",
       "      <th>count</th>\n",
       "      <th>median</th>\n",
       "      <th>mean</th>\n",
       "    </tr>\n",
       "    <tr>\n",
       "      <th>area_group</th>\n",
       "      <th></th>\n",
       "      <th></th>\n",
       "      <th></th>\n",
       "    </tr>\n",
       "  </thead>\n",
       "  <tbody>\n",
       "    <tr>\n",
       "      <td>(11.999, 37.6]</td>\n",
       "      <td>4408</td>\n",
       "      <td>17.0</td>\n",
       "      <td>17.047407</td>\n",
       "    </tr>\n",
       "    <tr>\n",
       "      <td>(37.6, 46.0]</td>\n",
       "      <td>4558</td>\n",
       "      <td>20.2</td>\n",
       "      <td>22.623032</td>\n",
       "    </tr>\n",
       "    <tr>\n",
       "      <td>(46.0, 58.0]</td>\n",
       "      <td>4201</td>\n",
       "      <td>30.5</td>\n",
       "      <td>30.507496</td>\n",
       "    </tr>\n",
       "    <tr>\n",
       "      <td>(58.0, 75.0]</td>\n",
       "      <td>4416</td>\n",
       "      <td>40.0</td>\n",
       "      <td>39.430319</td>\n",
       "    </tr>\n",
       "    <tr>\n",
       "      <td>(75.0, 900.0]</td>\n",
       "      <td>4213</td>\n",
       "      <td>55.0</td>\n",
       "      <td>64.205155</td>\n",
       "    </tr>\n",
       "  </tbody>\n",
       "</table>\n",
       "</div>"
      ],
      "text/plain": [
       "               living_area                  \n",
       "                     count median       mean\n",
       "area_group                                  \n",
       "(11.999, 37.6]        4408   17.0  17.047407\n",
       "(37.6, 46.0]          4558   20.2  22.623032\n",
       "(46.0, 58.0]          4201   30.5  30.507496\n",
       "(58.0, 75.0]          4416   40.0  39.430319\n",
       "(75.0, 900.0]         4213   55.0  64.205155"
      ]
     },
     "execution_count": 13,
     "metadata": {},
     "output_type": "execute_result"
    }
   ],
   "source": [
    "df['area_group'] = pd.qcut(df['total_area'],5)\n",
    "df.groupby('area_group').agg({'living_area':['count','median','mean']})"
   ]
  },
  {
   "cell_type": "markdown",
   "metadata": {},
   "source": [
    "Заменим пустые значения в столбце `living_area` на медиану по соответствующей группе площади."
   ]
  },
  {
   "cell_type": "code",
   "execution_count": 14,
   "metadata": {},
   "outputs": [],
   "source": [
    "df['living_area'] = df['living_area'].fillna(df.groupby('area_group')['living_area'].transform('median'))"
   ]
  },
  {
   "cell_type": "markdown",
   "metadata": {},
   "source": [
    "--------------------------------\n",
    "Аналогичные манипуляции для заполнения пропусков произведем и с площадью кухни."
   ]
  },
  {
   "cell_type": "code",
   "execution_count": 15,
   "metadata": {},
   "outputs": [
    {
     "data": {
      "text/html": [
       "<div>\n",
       "<style scoped>\n",
       "    .dataframe tbody tr th:only-of-type {\n",
       "        vertical-align: middle;\n",
       "    }\n",
       "\n",
       "    .dataframe tbody tr th {\n",
       "        vertical-align: top;\n",
       "    }\n",
       "\n",
       "    .dataframe thead tr th {\n",
       "        text-align: left;\n",
       "    }\n",
       "\n",
       "    .dataframe thead tr:last-of-type th {\n",
       "        text-align: right;\n",
       "    }\n",
       "</style>\n",
       "<table border=\"1\" class=\"dataframe\">\n",
       "  <thead>\n",
       "    <tr>\n",
       "      <th></th>\n",
       "      <th colspan=\"3\" halign=\"left\">kitchen_area</th>\n",
       "    </tr>\n",
       "    <tr>\n",
       "      <th></th>\n",
       "      <th>count</th>\n",
       "      <th>median</th>\n",
       "      <th>mean</th>\n",
       "    </tr>\n",
       "    <tr>\n",
       "      <th>area_group</th>\n",
       "      <th></th>\n",
       "      <th></th>\n",
       "      <th></th>\n",
       "    </tr>\n",
       "  </thead>\n",
       "  <tbody>\n",
       "    <tr>\n",
       "      <td>(11.999, 37.6]</td>\n",
       "      <td>4048</td>\n",
       "      <td>8.0</td>\n",
       "      <td>7.865850</td>\n",
       "    </tr>\n",
       "    <tr>\n",
       "      <td>(37.6, 46.0]</td>\n",
       "      <td>4534</td>\n",
       "      <td>9.0</td>\n",
       "      <td>8.967042</td>\n",
       "    </tr>\n",
       "    <tr>\n",
       "      <td>(46.0, 58.0]</td>\n",
       "      <td>4198</td>\n",
       "      <td>8.4</td>\n",
       "      <td>9.104631</td>\n",
       "    </tr>\n",
       "    <tr>\n",
       "      <td>(58.0, 75.0]</td>\n",
       "      <td>4410</td>\n",
       "      <td>9.8</td>\n",
       "      <td>10.384454</td>\n",
       "    </tr>\n",
       "    <tr>\n",
       "      <td>(75.0, 900.0]</td>\n",
       "      <td>4231</td>\n",
       "      <td>14.0</td>\n",
       "      <td>16.521302</td>\n",
       "    </tr>\n",
       "  </tbody>\n",
       "</table>\n",
       "</div>"
      ],
      "text/plain": [
       "               kitchen_area                  \n",
       "                      count median       mean\n",
       "area_group                                   \n",
       "(11.999, 37.6]         4048    8.0   7.865850\n",
       "(37.6, 46.0]           4534    9.0   8.967042\n",
       "(46.0, 58.0]           4198    8.4   9.104631\n",
       "(58.0, 75.0]           4410    9.8  10.384454\n",
       "(75.0, 900.0]          4231   14.0  16.521302"
      ]
     },
     "execution_count": 15,
     "metadata": {},
     "output_type": "execute_result"
    }
   ],
   "source": [
    "df.groupby('area_group').agg({'kitchen_area':['count','median','mean']})"
   ]
  },
  {
   "cell_type": "code",
   "execution_count": 16,
   "metadata": {},
   "outputs": [],
   "source": [
    "df['kitchen_area'] = df['kitchen_area'].fillna(df.groupby('area_group')['kitchen_area'].transform('median'))\n",
    "del df['area_group']"
   ]
  },
  {
   "cell_type": "markdown",
   "metadata": {},
   "source": [
    "-----------------------------------"
   ]
  },
  {
   "cell_type": "code",
   "execution_count": 17,
   "metadata": {},
   "outputs": [
    {
     "data": {
      "text/plain": [
       "False    2725\n",
       "True       50\n",
       "Name: is_apartment, dtype: int64"
      ]
     },
     "execution_count": 17,
     "metadata": {},
     "output_type": "execute_result"
    }
   ],
   "source": [
    "df['is_apartment'].value_counts()"
   ]
  },
  {
   "cell_type": "markdown",
   "metadata": {},
   "source": [
    "Предположим, что если не указана галочка в поле апартаменты, то логично заменить пропущенные значения на False."
   ]
  },
  {
   "cell_type": "code",
   "execution_count": 18,
   "metadata": {},
   "outputs": [
    {
     "data": {
      "text/plain": [
       "False    23649\n",
       "True        50\n",
       "Name: is_apartment, dtype: int64"
      ]
     },
     "execution_count": 18,
     "metadata": {},
     "output_type": "execute_result"
    }
   ],
   "source": [
    "df['is_apartment'] = df['is_apartment'].fillna(False)\n",
    "df['is_apartment'].value_counts()"
   ]
  },
  {
   "cell_type": "code",
   "execution_count": 19,
   "metadata": {},
   "outputs": [
    {
     "data": {
      "text/plain": [
       "45.0      880\n",
       "60.0      538\n",
       "7.0       234\n",
       "30.0      208\n",
       "90.0      204\n",
       "         ... \n",
       "1110.0      1\n",
       "1049.0      1\n",
       "951.0       1\n",
       "693.0       1\n",
       "773.0       1\n",
       "Name: days_exposition, Length: 1141, dtype: int64"
      ]
     },
     "execution_count": 19,
     "metadata": {},
     "output_type": "execute_result"
    }
   ],
   "source": [
    "df['days_exposition'].value_counts()"
   ]
  },
  {
   "cell_type": "markdown",
   "metadata": {},
   "source": [
    "Поскольку данные в столбце `days_exposition` могут быть очень разными и все значения имеют место быть, нам кажется, что менять пустые значения на среднее или медианное не совсем корректно.\n",
    "\n",
    "Заменим Nan-ы на -999, чтобы избавиться от пустоты и сохранить столбец с числовым типом."
   ]
  },
  {
   "cell_type": "code",
   "execution_count": 20,
   "metadata": {},
   "outputs": [],
   "source": [
    "df['days_exposition'] = df['days_exposition'].fillna(-999)"
   ]
  },
  {
   "cell_type": "code",
   "execution_count": 21,
   "metadata": {},
   "outputs": [
    {
     "data": {
      "text/html": [
       "<div>\n",
       "<style scoped>\n",
       "    .dataframe tbody tr th:only-of-type {\n",
       "        vertical-align: middle;\n",
       "    }\n",
       "\n",
       "    .dataframe tbody tr th {\n",
       "        vertical-align: top;\n",
       "    }\n",
       "\n",
       "    .dataframe thead th {\n",
       "        text-align: right;\n",
       "    }\n",
       "</style>\n",
       "<table border=\"1\" class=\"dataframe\">\n",
       "  <thead>\n",
       "    <tr style=\"text-align: right;\">\n",
       "      <th></th>\n",
       "      <th>total_images</th>\n",
       "      <th>last_price</th>\n",
       "      <th>total_area</th>\n",
       "      <th>first_day_exposition</th>\n",
       "      <th>rooms</th>\n",
       "      <th>ceiling_height</th>\n",
       "      <th>floors_total</th>\n",
       "      <th>living_area</th>\n",
       "      <th>floor</th>\n",
       "      <th>is_apartment</th>\n",
       "      <th>...</th>\n",
       "      <th>kitchen_area</th>\n",
       "      <th>balcony</th>\n",
       "      <th>locality_name</th>\n",
       "      <th>airports_nearest</th>\n",
       "      <th>cityCenters_nearest</th>\n",
       "      <th>parks_around3000</th>\n",
       "      <th>parks_nearest</th>\n",
       "      <th>ponds_around3000</th>\n",
       "      <th>ponds_nearest</th>\n",
       "      <th>days_exposition</th>\n",
       "    </tr>\n",
       "  </thead>\n",
       "  <tbody>\n",
       "  </tbody>\n",
       "</table>\n",
       "<p>0 rows × 22 columns</p>\n",
       "</div>"
      ],
      "text/plain": [
       "Empty DataFrame\n",
       "Columns: [total_images, last_price, total_area, first_day_exposition, rooms, ceiling_height, floors_total, living_area, floor, is_apartment, studio, open_plan, kitchen_area, balcony, locality_name, airports_nearest, cityCenters_nearest, parks_around3000, parks_nearest, ponds_around3000, ponds_nearest, days_exposition]\n",
       "Index: []\n",
       "\n",
       "[0 rows x 22 columns]"
      ]
     },
     "execution_count": 21,
     "metadata": {},
     "output_type": "execute_result"
    }
   ],
   "source": [
    "df[(df['days_exposition'] > -999) & (df['days_exposition'] < 0)]"
   ]
  },
  {
   "cell_type": "markdown",
   "metadata": {},
   "source": [
    "Преобразуем тип `first_day_exposition` в дату."
   ]
  },
  {
   "cell_type": "code",
   "execution_count": 22,
   "metadata": {},
   "outputs": [
    {
     "data": {
      "text/plain": [
       "0       2019-03-07\n",
       "1       2018-12-04\n",
       "2       2015-08-20\n",
       "3       2015-07-24\n",
       "4       2018-06-19\n",
       "           ...    \n",
       "23694   2017-03-21\n",
       "23695   2018-01-15\n",
       "23696   2018-02-11\n",
       "23697   2017-03-28\n",
       "23698   2017-07-21\n",
       "Name: first_day_exposition, Length: 23699, dtype: datetime64[ns]"
      ]
     },
     "execution_count": 22,
     "metadata": {},
     "output_type": "execute_result"
    }
   ],
   "source": [
    "df['first_day_exposition'] = pd.to_datetime(df['first_day_exposition'])\n",
    "df['first_day_exposition']"
   ]
  },
  {
   "cell_type": "markdown",
   "metadata": {},
   "source": [
    "Таким образом, мы преобразовали данные, необходимые нам для дальнейшего анализа и заполнили пропуски в некоторых столбцах."
   ]
  },
  {
   "cell_type": "markdown",
   "metadata": {},
   "source": [
    "<b> Шаг 3. Посчитайте и добавьте в таблицу <a name=\"p3\"></a>"
   ]
  },
  {
   "cell_type": "markdown",
   "metadata": {},
   "source": [
    "Рассчитаем и добавим в таблицу:\n",
    "- цену квадратного метра;\n",
    "- день недели, месяц и год публикации объявления;\n",
    "- этаж квартиры (первый, последний, другой);\n",
    "- соотношение жилой и общей площади, а также отношение площади кухни к общей."
   ]
  },
  {
   "cell_type": "code",
   "execution_count": 23,
   "metadata": {},
   "outputs": [],
   "source": [
    "#цена кв. метра\n",
    "df['cost_per_metr'] = df['last_price'] / df['total_area'] "
   ]
  },
  {
   "cell_type": "code",
   "execution_count": 24,
   "metadata": {},
   "outputs": [
    {
     "data": {
      "text/html": [
       "<div>\n",
       "<style scoped>\n",
       "    .dataframe tbody tr th:only-of-type {\n",
       "        vertical-align: middle;\n",
       "    }\n",
       "\n",
       "    .dataframe tbody tr th {\n",
       "        vertical-align: top;\n",
       "    }\n",
       "\n",
       "    .dataframe thead th {\n",
       "        text-align: right;\n",
       "    }\n",
       "</style>\n",
       "<table border=\"1\" class=\"dataframe\">\n",
       "  <thead>\n",
       "    <tr style=\"text-align: right;\">\n",
       "      <th></th>\n",
       "      <th>total_images</th>\n",
       "      <th>last_price</th>\n",
       "      <th>total_area</th>\n",
       "      <th>first_day_exposition</th>\n",
       "      <th>rooms</th>\n",
       "      <th>ceiling_height</th>\n",
       "      <th>floors_total</th>\n",
       "      <th>living_area</th>\n",
       "      <th>floor</th>\n",
       "      <th>is_apartment</th>\n",
       "      <th>...</th>\n",
       "      <th>cityCenters_nearest</th>\n",
       "      <th>parks_around3000</th>\n",
       "      <th>parks_nearest</th>\n",
       "      <th>ponds_around3000</th>\n",
       "      <th>ponds_nearest</th>\n",
       "      <th>days_exposition</th>\n",
       "      <th>cost_per_metr</th>\n",
       "      <th>weekday</th>\n",
       "      <th>month</th>\n",
       "      <th>year</th>\n",
       "    </tr>\n",
       "  </thead>\n",
       "  <tbody>\n",
       "    <tr>\n",
       "      <td>0</td>\n",
       "      <td>20</td>\n",
       "      <td>13000000.0</td>\n",
       "      <td>108.0</td>\n",
       "      <td>2019-03-07</td>\n",
       "      <td>3</td>\n",
       "      <td>2.70</td>\n",
       "      <td>16.0</td>\n",
       "      <td>51.0</td>\n",
       "      <td>8</td>\n",
       "      <td>False</td>\n",
       "      <td>...</td>\n",
       "      <td>16028.0</td>\n",
       "      <td>1.0</td>\n",
       "      <td>482.0</td>\n",
       "      <td>2.0</td>\n",
       "      <td>755.0</td>\n",
       "      <td>-999.0</td>\n",
       "      <td>120370.370370</td>\n",
       "      <td>3</td>\n",
       "      <td>3</td>\n",
       "      <td>2019</td>\n",
       "    </tr>\n",
       "    <tr>\n",
       "      <td>1</td>\n",
       "      <td>7</td>\n",
       "      <td>3350000.0</td>\n",
       "      <td>40.4</td>\n",
       "      <td>2018-12-04</td>\n",
       "      <td>1</td>\n",
       "      <td>2.65</td>\n",
       "      <td>11.0</td>\n",
       "      <td>18.6</td>\n",
       "      <td>1</td>\n",
       "      <td>False</td>\n",
       "      <td>...</td>\n",
       "      <td>18603.0</td>\n",
       "      <td>0.0</td>\n",
       "      <td>NaN</td>\n",
       "      <td>0.0</td>\n",
       "      <td>NaN</td>\n",
       "      <td>81.0</td>\n",
       "      <td>82920.792079</td>\n",
       "      <td>1</td>\n",
       "      <td>12</td>\n",
       "      <td>2018</td>\n",
       "    </tr>\n",
       "    <tr>\n",
       "      <td>2</td>\n",
       "      <td>10</td>\n",
       "      <td>5196000.0</td>\n",
       "      <td>56.0</td>\n",
       "      <td>2015-08-20</td>\n",
       "      <td>2</td>\n",
       "      <td>2.65</td>\n",
       "      <td>5.0</td>\n",
       "      <td>34.3</td>\n",
       "      <td>4</td>\n",
       "      <td>False</td>\n",
       "      <td>...</td>\n",
       "      <td>13933.0</td>\n",
       "      <td>1.0</td>\n",
       "      <td>90.0</td>\n",
       "      <td>2.0</td>\n",
       "      <td>574.0</td>\n",
       "      <td>558.0</td>\n",
       "      <td>92785.714286</td>\n",
       "      <td>3</td>\n",
       "      <td>8</td>\n",
       "      <td>2015</td>\n",
       "    </tr>\n",
       "    <tr>\n",
       "      <td>3</td>\n",
       "      <td>0</td>\n",
       "      <td>64900000.0</td>\n",
       "      <td>159.0</td>\n",
       "      <td>2015-07-24</td>\n",
       "      <td>3</td>\n",
       "      <td>2.65</td>\n",
       "      <td>14.0</td>\n",
       "      <td>55.0</td>\n",
       "      <td>9</td>\n",
       "      <td>False</td>\n",
       "      <td>...</td>\n",
       "      <td>6800.0</td>\n",
       "      <td>2.0</td>\n",
       "      <td>84.0</td>\n",
       "      <td>3.0</td>\n",
       "      <td>234.0</td>\n",
       "      <td>424.0</td>\n",
       "      <td>408176.100629</td>\n",
       "      <td>4</td>\n",
       "      <td>7</td>\n",
       "      <td>2015</td>\n",
       "    </tr>\n",
       "    <tr>\n",
       "      <td>4</td>\n",
       "      <td>2</td>\n",
       "      <td>10000000.0</td>\n",
       "      <td>100.0</td>\n",
       "      <td>2018-06-19</td>\n",
       "      <td>2</td>\n",
       "      <td>3.03</td>\n",
       "      <td>14.0</td>\n",
       "      <td>32.0</td>\n",
       "      <td>13</td>\n",
       "      <td>False</td>\n",
       "      <td>...</td>\n",
       "      <td>8098.0</td>\n",
       "      <td>2.0</td>\n",
       "      <td>112.0</td>\n",
       "      <td>1.0</td>\n",
       "      <td>48.0</td>\n",
       "      <td>121.0</td>\n",
       "      <td>100000.000000</td>\n",
       "      <td>1</td>\n",
       "      <td>6</td>\n",
       "      <td>2018</td>\n",
       "    </tr>\n",
       "  </tbody>\n",
       "</table>\n",
       "<p>5 rows × 26 columns</p>\n",
       "</div>"
      ],
      "text/plain": [
       "   total_images  last_price  total_area first_day_exposition  rooms  \\\n",
       "0            20  13000000.0       108.0           2019-03-07      3   \n",
       "1             7   3350000.0        40.4           2018-12-04      1   \n",
       "2            10   5196000.0        56.0           2015-08-20      2   \n",
       "3             0  64900000.0       159.0           2015-07-24      3   \n",
       "4             2  10000000.0       100.0           2018-06-19      2   \n",
       "\n",
       "   ceiling_height  floors_total  living_area  floor  is_apartment  ...  \\\n",
       "0            2.70          16.0         51.0      8         False  ...   \n",
       "1            2.65          11.0         18.6      1         False  ...   \n",
       "2            2.65           5.0         34.3      4         False  ...   \n",
       "3            2.65          14.0         55.0      9         False  ...   \n",
       "4            3.03          14.0         32.0     13         False  ...   \n",
       "\n",
       "   cityCenters_nearest  parks_around3000  parks_nearest  ponds_around3000  \\\n",
       "0              16028.0               1.0          482.0               2.0   \n",
       "1              18603.0               0.0            NaN               0.0   \n",
       "2              13933.0               1.0           90.0               2.0   \n",
       "3               6800.0               2.0           84.0               3.0   \n",
       "4               8098.0               2.0          112.0               1.0   \n",
       "\n",
       "  ponds_nearest  days_exposition  cost_per_metr  weekday  month  year  \n",
       "0         755.0           -999.0  120370.370370        3      3  2019  \n",
       "1           NaN             81.0   82920.792079        1     12  2018  \n",
       "2         574.0            558.0   92785.714286        3      8  2015  \n",
       "3         234.0            424.0  408176.100629        4      7  2015  \n",
       "4          48.0            121.0  100000.000000        1      6  2018  \n",
       "\n",
       "[5 rows x 26 columns]"
      ]
     },
     "execution_count": 24,
     "metadata": {},
     "output_type": "execute_result"
    }
   ],
   "source": [
    "#день недели\n",
    "df['weekday'] = df['first_day_exposition'].dt.weekday\n",
    "#месяц\n",
    "df['month'] = df['first_day_exposition'].dt.month\n",
    "#год\n",
    "df['year'] = df['first_day_exposition'].dt.year\n",
    "df.head()"
   ]
  },
  {
   "cell_type": "markdown",
   "metadata": {},
   "source": [
    "Напишем функцию для категоризации этажа:"
   ]
  },
  {
   "cell_type": "code",
   "execution_count": 25,
   "metadata": {},
   "outputs": [
    {
     "data": {
      "text/plain": [
       "другой       17446\n",
       "последний     3336\n",
       "первый        2917\n",
       "Name: floor_cat, dtype: int64"
      ]
     },
     "execution_count": 25,
     "metadata": {},
     "output_type": "execute_result"
    }
   ],
   "source": [
    "def category_floor(row):\n",
    "    floor = row['floor']\n",
    "    floors_total = row['floors_total']\n",
    "    if floor == 1:\n",
    "        return 'первый'\n",
    "    elif floor ==  floors_total and floor != 1:\n",
    "        return 'последний'  \n",
    "    else:\n",
    "        return 'другой' \n",
    "df['floor_cat'] = df.apply(category_floor, axis=1)\n",
    "df['floor_cat'].value_counts()"
   ]
  },
  {
   "cell_type": "markdown",
   "metadata": {},
   "source": [
    "Посчитаем соотношение жилой и общей площади, а также отношение площади кухни к общей."
   ]
  },
  {
   "cell_type": "code",
   "execution_count": 26,
   "metadata": {},
   "outputs": [
    {
     "data": {
      "text/plain": [
       "0    0.472222\n",
       "1    0.460396\n",
       "2    0.612500\n",
       "3    0.345912\n",
       "4    0.320000\n",
       "Name: living_to_total, dtype: float64"
      ]
     },
     "execution_count": 26,
     "metadata": {},
     "output_type": "execute_result"
    }
   ],
   "source": [
    "df['living_to_total'] = df['living_area'] / df['total_area']\n",
    "df['living_to_total'].head(5)"
   ]
  },
  {
   "cell_type": "code",
   "execution_count": 27,
   "metadata": {
    "scrolled": true
   },
   "outputs": [
    {
     "data": {
      "text/plain": [
       "0    0.231481\n",
       "1    0.272277\n",
       "2    0.148214\n",
       "3    0.088050\n",
       "4    0.410000\n",
       "Name: kitchen_to_total, dtype: float64"
      ]
     },
     "execution_count": 27,
     "metadata": {},
     "output_type": "execute_result"
    }
   ],
   "source": [
    "df['kitchen_to_total'] = df['kitchen_area'] / df['total_area']\n",
    "df['kitchen_to_total'].head()"
   ]
  },
  {
   "cell_type": "markdown",
   "metadata": {},
   "source": [
    "<b> Шаг 4. Проведите исследовательский анализ данных и выполните инструкции:<a name=\"p4\"></a>"
   ]
  },
  {
   "cell_type": "markdown",
   "metadata": {},
   "source": [
    "<b> 4.1 Изучим площадь, цену, число комнат, высоту потолков. <a name=\"p4_1\"></a>"
   ]
  },
  {
   "cell_type": "code",
   "execution_count": 28,
   "metadata": {},
   "outputs": [
    {
     "name": "stdout",
     "output_type": "stream",
     "text": [
      "Максимальная площадь: 900.0\n",
      "Минимальная площадь: 12.0\n"
     ]
    }
   ],
   "source": [
    "print('Максимальная площадь:', df['total_area'].max())\n",
    "print('Минимальная площадь:', df['total_area'].min())"
   ]
  },
  {
   "cell_type": "code",
   "execution_count": 29,
   "metadata": {},
   "outputs": [
    {
     "data": {
      "image/png": "[encoded data removed]",
      "text/plain": [
       "<Figure size 432x288 with 1 Axes>"
      ]
     },
     "metadata": {
      "needs_background": "light"
     },
     "output_type": "display_data"
    }
   ],
   "source": [
    "import matplotlib.pyplot as plt\n",
    "df['total_area'].hist(bins=100,range = (0, 900));\n",
    "plt.suptitle(\"Площадь квартир\");\n",
    "plt.xlabel('Площадь');\n",
    "plt.ylabel('Количество');"
   ]
  },
  {
   "cell_type": "markdown",
   "metadata": {},
   "source": [
    "По гистограмме отчестливо видно, что больше всего квартир с площадью менее 100 метров. Квартиры площадью более 200 встречаются крайне редко.\n"
   ]
  },
  {
   "cell_type": "code",
   "execution_count": 30,
   "metadata": {},
   "outputs": [
    {
     "data": {
      "text/plain": [
       "count    2.369900e+04\n",
       "mean     6.541549e+06\n",
       "std      1.088701e+07\n",
       "min      1.219000e+04\n",
       "25%      3.400000e+06\n",
       "50%      4.650000e+06\n",
       "75%      6.800000e+06\n",
       "max      7.630000e+08\n",
       "Name: last_price, dtype: float64"
      ]
     },
     "execution_count": 30,
     "metadata": {},
     "output_type": "execute_result"
    }
   ],
   "source": [
    "df['last_price'].describe()"
   ]
  },
  {
   "cell_type": "markdown",
   "metadata": {},
   "source": [
    "Некрасиво. Переведем в миллионы путем создания доп. столбца. Сразу метры приведем в километры на будущее."
   ]
  },
  {
   "cell_type": "code",
   "execution_count": 31,
   "metadata": {},
   "outputs": [],
   "source": [
    "df['millions'] = df['last_price'] / 1000000\n",
    "df['cost_per_metr_millions'] = df['cost_per_metr'] / 1000000\n",
    "df['cityCenters_nearest_km'] = df['cityCenters_nearest'] / 1000 "
   ]
  },
  {
   "cell_type": "code",
   "execution_count": 32,
   "metadata": {},
   "outputs": [
    {
     "data": {
      "image/png": "[encoded data removed]",
      "text/plain": [
       "<Figure size 432x288 with 1 Axes>"
      ]
     },
     "metadata": {
      "needs_background": "light"
     },
     "output_type": "display_data"
    }
   ],
   "source": [
    "df['millions'].hist(bins=100,range = (0, 800));"
   ]
  },
  {
   "cell_type": "markdown",
   "metadata": {},
   "source": [
    "Имеем очень узкий пик вначале. Логично, что цена квартиры в 763 млн. - что-то из ряда вон выходящее. Может Шувалов квартиру свою чесно заработанную квартиру продавал и снарядил нас выбросом)\n",
    "Для наглядности построим еще одну гистограмму с ценой до 20 млн."
   ]
  },
  {
   "cell_type": "code",
   "execution_count": 33,
   "metadata": {},
   "outputs": [
    {
     "data": {
      "image/png": "[encoded data removed]",
      "text/plain": [
       "<Figure size 432x288 with 1 Axes>"
      ]
     },
     "metadata": {
      "needs_background": "light"
     },
     "output_type": "display_data"
    }
   ],
   "source": [
    "df['millions'].hist(bins=100,range = (0, 20));\n",
    "plt.suptitle(\"Стоимость, млн.\");\n",
    "plt.xlabel('Стоимость');\n",
    "plt.ylabel('Количество');"
   ]
  },
  {
   "cell_type": "markdown",
   "metadata": {},
   "source": [
    "Здесь видно, что пик стоимости приходится на квартиры с ценами от 3 до 5 млн. Дальше, с ростом цен, видно стандартное распределение, идет постепенное снижение количества квартир."
   ]
  },
  {
   "cell_type": "code",
   "execution_count": 34,
   "metadata": {},
   "outputs": [
    {
     "data": {
      "text/plain": [
       "count    23699.000000\n",
       "mean         2.070636\n",
       "std          1.078405\n",
       "min          0.000000\n",
       "25%          1.000000\n",
       "50%          2.000000\n",
       "75%          3.000000\n",
       "max         19.000000\n",
       "Name: rooms, dtype: float64"
      ]
     },
     "execution_count": 34,
     "metadata": {},
     "output_type": "execute_result"
    }
   ],
   "source": [
    "df['rooms'].describe()"
   ]
  },
  {
   "cell_type": "code",
   "execution_count": 35,
   "metadata": {
    "scrolled": false
   },
   "outputs": [
    {
     "data": {
      "image/png": "[encoded data removed]",
      "text/plain": [
       "<Figure size 432x288 with 1 Axes>"
      ]
     },
     "metadata": {
      "needs_background": "light"
     },
     "output_type": "display_data"
    }
   ],
   "source": [
    "df['rooms'].hist(bins=20);\n",
    "plt.suptitle(\"Количество комнат\");\n",
    "plt.xlabel('Количество комнат');\n",
    "plt.ylabel('Количество');"
   ]
  },
  {
   "cell_type": "markdown",
   "metadata": {},
   "source": [
    "Самых популярных однокомнатных квартир лишь на немного больше, чем двухкомнатных. Трешек в продаже тоже достаточно много."
   ]
  },
  {
   "cell_type": "code",
   "execution_count": 36,
   "metadata": {},
   "outputs": [
    {
     "data": {
      "text/plain": [
       "count    23699.000000\n",
       "mean         2.702518\n",
       "std          0.679234\n",
       "min          1.000000\n",
       "25%          2.600000\n",
       "50%          2.650000\n",
       "75%          2.700000\n",
       "max        100.000000\n",
       "Name: ceiling_height, dtype: float64"
      ]
     },
     "execution_count": 36,
     "metadata": {},
     "output_type": "execute_result"
    }
   ],
   "source": [
    "df['ceiling_height'].describe()"
   ]
  },
  {
   "cell_type": "code",
   "execution_count": 37,
   "metadata": {},
   "outputs": [
    {
     "data": {
      "image/png": "[encoded data removed]",
      "text/plain": [
       "<Figure size 432x288 with 1 Axes>"
      ]
     },
     "metadata": {
      "needs_background": "light"
     },
     "output_type": "display_data"
    }
   ],
   "source": [
    "df['ceiling_height'].hist(bins=10, range=(0,10));\n",
    "plt.suptitle(\"Высота потолков\");\n",
    "plt.xlabel('Высота потолков');\n",
    "plt.ylabel('Количество');"
   ]
  },
  {
   "cell_type": "markdown",
   "metadata": {},
   "source": [
    "Стандартная высота потолков: 2 - 3 метра. Другие значения встречаются, но реже."
   ]
  },
  {
   "cell_type": "markdown",
   "metadata": {},
   "source": [
    "---------------------------\n",
    "<b>4.2 Время продажи <a name=\"p4_2\"></a></b>\n",
    "\n",
    "Рассмотрим время продажи квартиры в днях. Держим в уме, что ранее мы не стали менять пустые значения на медианные, чтобы не исказить выборку и заменили их на -999."
   ]
  },
  {
   "cell_type": "code",
   "execution_count": 38,
   "metadata": {},
   "outputs": [
    {
     "data": {
      "image/png": "[encoded data removed]",
      "text/plain": [
       "<Figure size 1440x360 with 1 Axes>"
      ]
     },
     "metadata": {
      "needs_background": "light"
     },
     "output_type": "display_data"
    }
   ],
   "source": [
    "df['days_exposition'][df['days_exposition'] > 0].hist(bins=100, figsize = (20, 5));\n",
    "plt.suptitle(\"Время продажи квартир\");\n",
    "plt.xlabel('Дни продажи');\n",
    "plt.ylabel('Количество квартир');"
   ]
  },
  {
   "cell_type": "markdown",
   "metadata": {},
   "source": [
    "На графике видно, что больше всего квартир продается за период до 100 дней. Но есть и очень тяжелые экземпляры, продающиеся годами.\n",
    "\n",
    "Найдем медиану и среднее."
   ]
  },
  {
   "cell_type": "code",
   "execution_count": 39,
   "metadata": {},
   "outputs": [
    {
     "data": {
      "text/plain": [
       "count    20518.000000\n",
       "mean       180.888634\n",
       "std        219.727988\n",
       "min          1.000000\n",
       "25%         45.000000\n",
       "50%         95.000000\n",
       "75%        232.000000\n",
       "max       1580.000000\n",
       "Name: days_exposition, dtype: float64"
      ]
     },
     "execution_count": 39,
     "metadata": {},
     "output_type": "execute_result"
    }
   ],
   "source": [
    "df['days_exposition'][df['days_exposition'] > 0].describe()"
   ]
  },
  {
   "cell_type": "markdown",
   "metadata": {},
   "source": [
    "Неликвидные квартиры очень влияют на среднее. По медиане квартиры продаются 95 дней. Но если вы смогли продать квартиру за 45 дней, то вы красавчик, попавший в 25% лучших!"
   ]
  },
  {
   "cell_type": "markdown",
   "metadata": {},
   "source": [
    "<b> 4.3 Анализ редких и выбивающихся значений <a name=\"p4_3\"></a>"
   ]
  },
  {
   "cell_type": "markdown",
   "metadata": {},
   "source": [
    "Проанализируем долгопродающиеся квартиры. Возьмем срок продажи более 1100 дней как неразумно долгий."
   ]
  },
  {
   "cell_type": "code",
   "execution_count": 40,
   "metadata": {},
   "outputs": [],
   "source": [
    "correct_exposition = df.query('days_exposition > 0 ') "
   ]
  },
  {
   "cell_type": "code",
   "execution_count": 41,
   "metadata": {},
   "outputs": [
    {
     "data": {
      "image/png": "[encoded data removed]",
      "text/plain": [
       "<Figure size 432x288 with 1 Axes>"
      ]
     },
     "metadata": {
      "needs_background": "light"
     },
     "output_type": "display_data"
    }
   ],
   "source": [
    "correct_exposition.boxplot(column='days_exposition');\n",
    "plt.suptitle(\"Диаграмма размаха дней продажи\");\n",
    "plt.xlabel('Дни продажи');"
   ]
  },
  {
   "cell_type": "markdown",
   "metadata": {},
   "source": [
    "Если верить диаграме размаха, то квартиры, продающиеся дольше 500 дней можно считать выбросами. Спорное утверждение, конечно. Ведь некоторые квартиры действительно могут продаваться долго ввиду разных причин. Чтобы не терять слишком много отбросим продающиеся дольше 700 дней квартиры и сохраним выборку в отдельном семпле."
   ]
  },
  {
   "cell_type": "code",
   "execution_count": 42,
   "metadata": {},
   "outputs": [],
   "source": [
    "correct = correct_exposition.query('days_exposition < 700 ')"
   ]
  },
  {
   "cell_type": "code",
   "execution_count": 43,
   "metadata": {},
   "outputs": [
    {
     "data": {
      "text/plain": [
       "19659"
      ]
     },
     "execution_count": 43,
     "metadata": {},
     "output_type": "execute_result"
    }
   ],
   "source": [
    "len(correct)"
   ]
  },
  {
   "cell_type": "code",
   "execution_count": 44,
   "metadata": {},
   "outputs": [
    {
     "data": {
      "text/plain": [
       "0.9581343210839263"
      ]
     },
     "execution_count": 44,
     "metadata": {},
     "output_type": "execute_result"
    }
   ],
   "source": [
    "len(correct) / len(correct_exposition)"
   ]
  },
  {
   "cell_type": "markdown",
   "metadata": {},
   "source": [
    "Потеряли меньше тысячи квартир. Менее 5%. Ну что поделать("
   ]
  },
  {
   "cell_type": "markdown",
   "metadata": {},
   "source": [
    "-----------------------------------\n",
    "<b> 4.4 Анализ стоимости квартиры <a name=\"p4_4\"></a>"
   ]
  },
  {
   "cell_type": "code",
   "execution_count": 45,
   "metadata": {
    "scrolled": true
   },
   "outputs": [
    {
     "data": {
      "text/plain": [
       "count    23699.000000\n",
       "mean         6.541549\n",
       "std         10.887013\n",
       "min          0.012190\n",
       "25%          3.400000\n",
       "50%          4.650000\n",
       "75%          6.800000\n",
       "max        763.000000\n",
       "Name: millions, dtype: float64"
      ]
     },
     "execution_count": 45,
     "metadata": {},
     "output_type": "execute_result"
    }
   ],
   "source": [
    "df['millions'].describe()"
   ]
  },
  {
   "cell_type": "code",
   "execution_count": 46,
   "metadata": {},
   "outputs": [
    {
     "data": {
      "image/png": "[encoded data removed]",
      "text/plain": [
       "<Figure size 432x288 with 1 Axes>"
      ]
     },
     "metadata": {
      "needs_background": "light"
     },
     "output_type": "display_data"
    }
   ],
   "source": [
    "df.boxplot(column='millions');\n",
    "plt.suptitle(\"Диаграмма размаха стоимости квартир\");\n",
    "plt.xlabel('Стоимость, млн.');"
   ]
  },
  {
   "cell_type": "markdown",
   "metadata": {},
   "source": [
    "Средняя цена продажи квартиры 6,54 млн., в то время как медианная 4.65. Выбросы очень влияют на среднее."
   ]
  },
  {
   "cell_type": "markdown",
   "metadata": {},
   "source": [
    "Есди верить диаграмме размаха, то мы должны отбросить чуть ли не все квартиры дороже 7 миллионов. Не уверены, что это правильно. Некоторые квартиры вполне могут стоить дорого. Мы же не знаем насколько много золотых унитазов там внутри:) \n",
    "\n",
    "Взглянем на luxury квартиры поподробнее."
   ]
  },
  {
   "cell_type": "code",
   "execution_count": 47,
   "metadata": {},
   "outputs": [
    {
     "data": {
      "text/html": [
       "<div>\n",
       "<style scoped>\n",
       "    .dataframe tbody tr th:only-of-type {\n",
       "        vertical-align: middle;\n",
       "    }\n",
       "\n",
       "    .dataframe tbody tr th {\n",
       "        vertical-align: top;\n",
       "    }\n",
       "\n",
       "    .dataframe thead th {\n",
       "        text-align: right;\n",
       "    }\n",
       "</style>\n",
       "<table border=\"1\" class=\"dataframe\">\n",
       "  <thead>\n",
       "    <tr style=\"text-align: right;\">\n",
       "      <th></th>\n",
       "      <th>total_images</th>\n",
       "      <th>last_price</th>\n",
       "      <th>total_area</th>\n",
       "      <th>first_day_exposition</th>\n",
       "      <th>rooms</th>\n",
       "      <th>ceiling_height</th>\n",
       "      <th>floors_total</th>\n",
       "      <th>living_area</th>\n",
       "      <th>floor</th>\n",
       "      <th>is_apartment</th>\n",
       "      <th>...</th>\n",
       "      <th>cost_per_metr</th>\n",
       "      <th>weekday</th>\n",
       "      <th>month</th>\n",
       "      <th>year</th>\n",
       "      <th>floor_cat</th>\n",
       "      <th>living_to_total</th>\n",
       "      <th>kitchen_to_total</th>\n",
       "      <th>millions</th>\n",
       "      <th>cost_per_metr_millions</th>\n",
       "      <th>cityCenters_nearest_km</th>\n",
       "    </tr>\n",
       "  </thead>\n",
       "  <tbody>\n",
       "    <tr>\n",
       "      <td>12971</td>\n",
       "      <td>19</td>\n",
       "      <td>763000000.0</td>\n",
       "      <td>400.0</td>\n",
       "      <td>2017-09-30</td>\n",
       "      <td>7</td>\n",
       "      <td>2.65</td>\n",
       "      <td>10.0</td>\n",
       "      <td>250.00</td>\n",
       "      <td>10</td>\n",
       "      <td>False</td>\n",
       "      <td>...</td>\n",
       "      <td>1.907500e+06</td>\n",
       "      <td>5</td>\n",
       "      <td>9</td>\n",
       "      <td>2017</td>\n",
       "      <td>последний</td>\n",
       "      <td>0.625000</td>\n",
       "      <td>0.035000</td>\n",
       "      <td>763.00000</td>\n",
       "      <td>1.907500</td>\n",
       "      <td>3.956</td>\n",
       "    </tr>\n",
       "    <tr>\n",
       "      <td>19540</td>\n",
       "      <td>8</td>\n",
       "      <td>420000000.0</td>\n",
       "      <td>900.0</td>\n",
       "      <td>2017-12-06</td>\n",
       "      <td>12</td>\n",
       "      <td>2.80</td>\n",
       "      <td>25.0</td>\n",
       "      <td>409.70</td>\n",
       "      <td>25</td>\n",
       "      <td>False</td>\n",
       "      <td>...</td>\n",
       "      <td>4.666667e+05</td>\n",
       "      <td>2</td>\n",
       "      <td>12</td>\n",
       "      <td>2017</td>\n",
       "      <td>последний</td>\n",
       "      <td>0.455222</td>\n",
       "      <td>0.124444</td>\n",
       "      <td>420.00000</td>\n",
       "      <td>0.466667</td>\n",
       "      <td>7.877</td>\n",
       "    </tr>\n",
       "    <tr>\n",
       "      <td>14706</td>\n",
       "      <td>15</td>\n",
       "      <td>401300000.0</td>\n",
       "      <td>401.0</td>\n",
       "      <td>2016-02-20</td>\n",
       "      <td>5</td>\n",
       "      <td>2.65</td>\n",
       "      <td>9.0</td>\n",
       "      <td>204.00</td>\n",
       "      <td>9</td>\n",
       "      <td>False</td>\n",
       "      <td>...</td>\n",
       "      <td>1.000748e+06</td>\n",
       "      <td>5</td>\n",
       "      <td>2</td>\n",
       "      <td>2016</td>\n",
       "      <td>последний</td>\n",
       "      <td>0.508728</td>\n",
       "      <td>0.059850</td>\n",
       "      <td>401.30000</td>\n",
       "      <td>1.000748</td>\n",
       "      <td>2.389</td>\n",
       "    </tr>\n",
       "    <tr>\n",
       "      <td>1436</td>\n",
       "      <td>19</td>\n",
       "      <td>330000000.0</td>\n",
       "      <td>190.0</td>\n",
       "      <td>2018-04-04</td>\n",
       "      <td>3</td>\n",
       "      <td>3.50</td>\n",
       "      <td>7.0</td>\n",
       "      <td>95.00</td>\n",
       "      <td>5</td>\n",
       "      <td>False</td>\n",
       "      <td>...</td>\n",
       "      <td>1.736842e+06</td>\n",
       "      <td>2</td>\n",
       "      <td>4</td>\n",
       "      <td>2018</td>\n",
       "      <td>другой</td>\n",
       "      <td>0.500000</td>\n",
       "      <td>0.210526</td>\n",
       "      <td>330.00000</td>\n",
       "      <td>1.736842</td>\n",
       "      <td>1.197</td>\n",
       "    </tr>\n",
       "    <tr>\n",
       "      <td>15651</td>\n",
       "      <td>20</td>\n",
       "      <td>300000000.0</td>\n",
       "      <td>618.0</td>\n",
       "      <td>2017-12-18</td>\n",
       "      <td>7</td>\n",
       "      <td>3.40</td>\n",
       "      <td>7.0</td>\n",
       "      <td>258.00</td>\n",
       "      <td>5</td>\n",
       "      <td>False</td>\n",
       "      <td>...</td>\n",
       "      <td>4.854369e+05</td>\n",
       "      <td>0</td>\n",
       "      <td>12</td>\n",
       "      <td>2017</td>\n",
       "      <td>другой</td>\n",
       "      <td>0.417476</td>\n",
       "      <td>0.113269</td>\n",
       "      <td>300.00000</td>\n",
       "      <td>0.485437</td>\n",
       "      <td>5.297</td>\n",
       "    </tr>\n",
       "    <tr>\n",
       "      <td>22831</td>\n",
       "      <td>18</td>\n",
       "      <td>289238400.0</td>\n",
       "      <td>187.5</td>\n",
       "      <td>2019-03-19</td>\n",
       "      <td>2</td>\n",
       "      <td>3.37</td>\n",
       "      <td>6.0</td>\n",
       "      <td>63.70</td>\n",
       "      <td>6</td>\n",
       "      <td>False</td>\n",
       "      <td>...</td>\n",
       "      <td>1.542605e+06</td>\n",
       "      <td>1</td>\n",
       "      <td>3</td>\n",
       "      <td>2019</td>\n",
       "      <td>последний</td>\n",
       "      <td>0.339733</td>\n",
       "      <td>0.161067</td>\n",
       "      <td>289.23840</td>\n",
       "      <td>1.542605</td>\n",
       "      <td>1.073</td>\n",
       "    </tr>\n",
       "    <tr>\n",
       "      <td>16461</td>\n",
       "      <td>17</td>\n",
       "      <td>245000000.0</td>\n",
       "      <td>285.7</td>\n",
       "      <td>2017-04-10</td>\n",
       "      <td>6</td>\n",
       "      <td>3.35</td>\n",
       "      <td>7.0</td>\n",
       "      <td>182.80</td>\n",
       "      <td>4</td>\n",
       "      <td>False</td>\n",
       "      <td>...</td>\n",
       "      <td>8.575429e+05</td>\n",
       "      <td>0</td>\n",
       "      <td>4</td>\n",
       "      <td>2017</td>\n",
       "      <td>другой</td>\n",
       "      <td>0.639832</td>\n",
       "      <td>0.104305</td>\n",
       "      <td>245.00000</td>\n",
       "      <td>0.857543</td>\n",
       "      <td>6.235</td>\n",
       "    </tr>\n",
       "    <tr>\n",
       "      <td>13749</td>\n",
       "      <td>7</td>\n",
       "      <td>240000000.0</td>\n",
       "      <td>410.0</td>\n",
       "      <td>2017-04-01</td>\n",
       "      <td>6</td>\n",
       "      <td>3.40</td>\n",
       "      <td>7.0</td>\n",
       "      <td>218.00</td>\n",
       "      <td>7</td>\n",
       "      <td>False</td>\n",
       "      <td>...</td>\n",
       "      <td>5.853659e+05</td>\n",
       "      <td>5</td>\n",
       "      <td>4</td>\n",
       "      <td>2017</td>\n",
       "      <td>последний</td>\n",
       "      <td>0.531707</td>\n",
       "      <td>0.097561</td>\n",
       "      <td>240.00000</td>\n",
       "      <td>0.585366</td>\n",
       "      <td>5.297</td>\n",
       "    </tr>\n",
       "    <tr>\n",
       "      <td>5893</td>\n",
       "      <td>3</td>\n",
       "      <td>230000000.0</td>\n",
       "      <td>500.0</td>\n",
       "      <td>2017-05-31</td>\n",
       "      <td>6</td>\n",
       "      <td>2.65</td>\n",
       "      <td>7.0</td>\n",
       "      <td>55.00</td>\n",
       "      <td>7</td>\n",
       "      <td>False</td>\n",
       "      <td>...</td>\n",
       "      <td>4.600000e+05</td>\n",
       "      <td>2</td>\n",
       "      <td>5</td>\n",
       "      <td>2017</td>\n",
       "      <td>последний</td>\n",
       "      <td>0.110000</td>\n",
       "      <td>0.080000</td>\n",
       "      <td>230.00000</td>\n",
       "      <td>0.460000</td>\n",
       "      <td>5.297</td>\n",
       "    </tr>\n",
       "    <tr>\n",
       "      <td>8900</td>\n",
       "      <td>13</td>\n",
       "      <td>190870000.0</td>\n",
       "      <td>268.0</td>\n",
       "      <td>2016-03-25</td>\n",
       "      <td>3</td>\n",
       "      <td>2.65</td>\n",
       "      <td>8.0</td>\n",
       "      <td>132.00</td>\n",
       "      <td>7</td>\n",
       "      <td>False</td>\n",
       "      <td>...</td>\n",
       "      <td>7.122015e+05</td>\n",
       "      <td>4</td>\n",
       "      <td>3</td>\n",
       "      <td>2016</td>\n",
       "      <td>другой</td>\n",
       "      <td>0.492537</td>\n",
       "      <td>0.149254</td>\n",
       "      <td>190.87000</td>\n",
       "      <td>0.712201</td>\n",
       "      <td>5.297</td>\n",
       "    </tr>\n",
       "    <tr>\n",
       "      <td>19865</td>\n",
       "      <td>20</td>\n",
       "      <td>180000000.0</td>\n",
       "      <td>347.0</td>\n",
       "      <td>2015-01-21</td>\n",
       "      <td>8</td>\n",
       "      <td>3.90</td>\n",
       "      <td>6.0</td>\n",
       "      <td>260.00</td>\n",
       "      <td>3</td>\n",
       "      <td>False</td>\n",
       "      <td>...</td>\n",
       "      <td>5.187320e+05</td>\n",
       "      <td>2</td>\n",
       "      <td>1</td>\n",
       "      <td>2015</td>\n",
       "      <td>другой</td>\n",
       "      <td>0.749280</td>\n",
       "      <td>0.129683</td>\n",
       "      <td>180.00000</td>\n",
       "      <td>0.518732</td>\n",
       "      <td>3.794</td>\n",
       "    </tr>\n",
       "    <tr>\n",
       "      <td>19155</td>\n",
       "      <td>20</td>\n",
       "      <td>160000000.0</td>\n",
       "      <td>243.0</td>\n",
       "      <td>2018-11-12</td>\n",
       "      <td>5</td>\n",
       "      <td>2.65</td>\n",
       "      <td>5.0</td>\n",
       "      <td>145.00</td>\n",
       "      <td>4</td>\n",
       "      <td>False</td>\n",
       "      <td>...</td>\n",
       "      <td>6.584362e+05</td>\n",
       "      <td>0</td>\n",
       "      <td>11</td>\n",
       "      <td>2018</td>\n",
       "      <td>другой</td>\n",
       "      <td>0.596708</td>\n",
       "      <td>0.135802</td>\n",
       "      <td>160.00000</td>\n",
       "      <td>0.658436</td>\n",
       "      <td>0.555</td>\n",
       "    </tr>\n",
       "    <tr>\n",
       "      <td>2536</td>\n",
       "      <td>16</td>\n",
       "      <td>159984000.0</td>\n",
       "      <td>242.4</td>\n",
       "      <td>2015-08-27</td>\n",
       "      <td>4</td>\n",
       "      <td>3.85</td>\n",
       "      <td>9.0</td>\n",
       "      <td>131.00</td>\n",
       "      <td>7</td>\n",
       "      <td>False</td>\n",
       "      <td>...</td>\n",
       "      <td>6.600000e+05</td>\n",
       "      <td>3</td>\n",
       "      <td>8</td>\n",
       "      <td>2015</td>\n",
       "      <td>другой</td>\n",
       "      <td>0.540429</td>\n",
       "      <td>0.082508</td>\n",
       "      <td>159.98400</td>\n",
       "      <td>0.660000</td>\n",
       "      <td>2.242</td>\n",
       "    </tr>\n",
       "    <tr>\n",
       "      <td>16495</td>\n",
       "      <td>12</td>\n",
       "      <td>159000000.0</td>\n",
       "      <td>260.0</td>\n",
       "      <td>2017-04-04</td>\n",
       "      <td>4</td>\n",
       "      <td>2.65</td>\n",
       "      <td>5.0</td>\n",
       "      <td>180.00</td>\n",
       "      <td>4</td>\n",
       "      <td>False</td>\n",
       "      <td>...</td>\n",
       "      <td>6.115385e+05</td>\n",
       "      <td>1</td>\n",
       "      <td>4</td>\n",
       "      <td>2017</td>\n",
       "      <td>другой</td>\n",
       "      <td>0.692308</td>\n",
       "      <td>0.115385</td>\n",
       "      <td>159.00000</td>\n",
       "      <td>0.611538</td>\n",
       "      <td>0.436</td>\n",
       "    </tr>\n",
       "    <tr>\n",
       "      <td>1026</td>\n",
       "      <td>20</td>\n",
       "      <td>155000000.0</td>\n",
       "      <td>310.0</td>\n",
       "      <td>2018-10-12</td>\n",
       "      <td>5</td>\n",
       "      <td>5.30</td>\n",
       "      <td>3.0</td>\n",
       "      <td>190.00</td>\n",
       "      <td>3</td>\n",
       "      <td>False</td>\n",
       "      <td>...</td>\n",
       "      <td>5.000000e+05</td>\n",
       "      <td>4</td>\n",
       "      <td>10</td>\n",
       "      <td>2018</td>\n",
       "      <td>последний</td>\n",
       "      <td>0.612903</td>\n",
       "      <td>0.203226</td>\n",
       "      <td>155.00000</td>\n",
       "      <td>0.500000</td>\n",
       "      <td>4.785</td>\n",
       "    </tr>\n",
       "    <tr>\n",
       "      <td>7857</td>\n",
       "      <td>11</td>\n",
       "      <td>150000000.0</td>\n",
       "      <td>230.0</td>\n",
       "      <td>2017-10-25</td>\n",
       "      <td>8</td>\n",
       "      <td>2.65</td>\n",
       "      <td>8.0</td>\n",
       "      <td>220.00</td>\n",
       "      <td>8</td>\n",
       "      <td>False</td>\n",
       "      <td>...</td>\n",
       "      <td>6.521739e+05</td>\n",
       "      <td>2</td>\n",
       "      <td>10</td>\n",
       "      <td>2017</td>\n",
       "      <td>последний</td>\n",
       "      <td>0.956522</td>\n",
       "      <td>0.060870</td>\n",
       "      <td>150.00000</td>\n",
       "      <td>0.652174</td>\n",
       "      <td>5.845</td>\n",
       "    </tr>\n",
       "    <tr>\n",
       "      <td>15016</td>\n",
       "      <td>8</td>\n",
       "      <td>150000000.0</td>\n",
       "      <td>500.0</td>\n",
       "      <td>2016-01-13</td>\n",
       "      <td>4</td>\n",
       "      <td>3.20</td>\n",
       "      <td>7.0</td>\n",
       "      <td>55.00</td>\n",
       "      <td>7</td>\n",
       "      <td>False</td>\n",
       "      <td>...</td>\n",
       "      <td>3.000000e+05</td>\n",
       "      <td>2</td>\n",
       "      <td>1</td>\n",
       "      <td>2016</td>\n",
       "      <td>последний</td>\n",
       "      <td>0.110000</td>\n",
       "      <td>0.028000</td>\n",
       "      <td>150.00000</td>\n",
       "      <td>0.300000</td>\n",
       "      <td>6.150</td>\n",
       "    </tr>\n",
       "    <tr>\n",
       "      <td>22229</td>\n",
       "      <td>16</td>\n",
       "      <td>148000000.0</td>\n",
       "      <td>256.0</td>\n",
       "      <td>2016-03-16</td>\n",
       "      <td>5</td>\n",
       "      <td>2.65</td>\n",
       "      <td>6.0</td>\n",
       "      <td>179.00</td>\n",
       "      <td>5</td>\n",
       "      <td>False</td>\n",
       "      <td>...</td>\n",
       "      <td>5.781250e+05</td>\n",
       "      <td>2</td>\n",
       "      <td>3</td>\n",
       "      <td>2016</td>\n",
       "      <td>другой</td>\n",
       "      <td>0.699219</td>\n",
       "      <td>0.140625</td>\n",
       "      <td>148.00000</td>\n",
       "      <td>0.578125</td>\n",
       "      <td>3.639</td>\n",
       "    </tr>\n",
       "    <tr>\n",
       "      <td>3117</td>\n",
       "      <td>19</td>\n",
       "      <td>140000000.0</td>\n",
       "      <td>631.0</td>\n",
       "      <td>2019-03-30</td>\n",
       "      <td>7</td>\n",
       "      <td>2.65</td>\n",
       "      <td>5.0</td>\n",
       "      <td>55.00</td>\n",
       "      <td>5</td>\n",
       "      <td>False</td>\n",
       "      <td>...</td>\n",
       "      <td>2.218700e+05</td>\n",
       "      <td>5</td>\n",
       "      <td>3</td>\n",
       "      <td>2019</td>\n",
       "      <td>последний</td>\n",
       "      <td>0.087163</td>\n",
       "      <td>0.095087</td>\n",
       "      <td>140.00000</td>\n",
       "      <td>0.221870</td>\n",
       "      <td>4.972</td>\n",
       "    </tr>\n",
       "    <tr>\n",
       "      <td>12674</td>\n",
       "      <td>16</td>\n",
       "      <td>140000000.0</td>\n",
       "      <td>241.0</td>\n",
       "      <td>2015-07-24</td>\n",
       "      <td>5</td>\n",
       "      <td>3.00</td>\n",
       "      <td>5.0</td>\n",
       "      <td>55.00</td>\n",
       "      <td>4</td>\n",
       "      <td>False</td>\n",
       "      <td>...</td>\n",
       "      <td>5.809129e+05</td>\n",
       "      <td>4</td>\n",
       "      <td>7</td>\n",
       "      <td>2015</td>\n",
       "      <td>другой</td>\n",
       "      <td>0.228216</td>\n",
       "      <td>0.058091</td>\n",
       "      <td>140.00000</td>\n",
       "      <td>0.580913</td>\n",
       "      <td>3.503</td>\n",
       "    </tr>\n",
       "    <tr>\n",
       "      <td>12859</td>\n",
       "      <td>20</td>\n",
       "      <td>140000000.0</td>\n",
       "      <td>631.2</td>\n",
       "      <td>2019-04-09</td>\n",
       "      <td>7</td>\n",
       "      <td>3.90</td>\n",
       "      <td>4.0</td>\n",
       "      <td>322.30</td>\n",
       "      <td>4</td>\n",
       "      <td>False</td>\n",
       "      <td>...</td>\n",
       "      <td>2.217997e+05</td>\n",
       "      <td>1</td>\n",
       "      <td>4</td>\n",
       "      <td>2019</td>\n",
       "      <td>последний</td>\n",
       "      <td>0.510615</td>\n",
       "      <td>0.030894</td>\n",
       "      <td>140.00000</td>\n",
       "      <td>0.221800</td>\n",
       "      <td>4.972</td>\n",
       "    </tr>\n",
       "    <tr>\n",
       "      <td>17912</td>\n",
       "      <td>17</td>\n",
       "      <td>135000000.0</td>\n",
       "      <td>166.0</td>\n",
       "      <td>2019-02-07</td>\n",
       "      <td>3</td>\n",
       "      <td>3.30</td>\n",
       "      <td>7.0</td>\n",
       "      <td>52.00</td>\n",
       "      <td>1</td>\n",
       "      <td>False</td>\n",
       "      <td>...</td>\n",
       "      <td>8.132530e+05</td>\n",
       "      <td>3</td>\n",
       "      <td>2</td>\n",
       "      <td>2019</td>\n",
       "      <td>первый</td>\n",
       "      <td>0.313253</td>\n",
       "      <td>0.385542</td>\n",
       "      <td>135.00000</td>\n",
       "      <td>0.813253</td>\n",
       "      <td>5.955</td>\n",
       "    </tr>\n",
       "    <tr>\n",
       "      <td>793</td>\n",
       "      <td>20</td>\n",
       "      <td>135000000.0</td>\n",
       "      <td>310.0</td>\n",
       "      <td>2018-05-22</td>\n",
       "      <td>4</td>\n",
       "      <td>3.30</td>\n",
       "      <td>5.0</td>\n",
       "      <td>250.00</td>\n",
       "      <td>2</td>\n",
       "      <td>False</td>\n",
       "      <td>...</td>\n",
       "      <td>4.354839e+05</td>\n",
       "      <td>1</td>\n",
       "      <td>5</td>\n",
       "      <td>2018</td>\n",
       "      <td>другой</td>\n",
       "      <td>0.806452</td>\n",
       "      <td>0.161290</td>\n",
       "      <td>135.00000</td>\n",
       "      <td>0.435484</td>\n",
       "      <td>7.251</td>\n",
       "    </tr>\n",
       "    <tr>\n",
       "      <td>7674</td>\n",
       "      <td>20</td>\n",
       "      <td>131000000.0</td>\n",
       "      <td>380.0</td>\n",
       "      <td>2016-09-23</td>\n",
       "      <td>5</td>\n",
       "      <td>3.90</td>\n",
       "      <td>6.0</td>\n",
       "      <td>150.00</td>\n",
       "      <td>4</td>\n",
       "      <td>False</td>\n",
       "      <td>...</td>\n",
       "      <td>3.447368e+05</td>\n",
       "      <td>4</td>\n",
       "      <td>9</td>\n",
       "      <td>2016</td>\n",
       "      <td>другой</td>\n",
       "      <td>0.394737</td>\n",
       "      <td>0.036842</td>\n",
       "      <td>131.00000</td>\n",
       "      <td>0.344737</td>\n",
       "      <td>4.504</td>\n",
       "    </tr>\n",
       "    <tr>\n",
       "      <td>2243</td>\n",
       "      <td>9</td>\n",
       "      <td>130278280.0</td>\n",
       "      <td>304.0</td>\n",
       "      <td>2015-07-24</td>\n",
       "      <td>5</td>\n",
       "      <td>3.11</td>\n",
       "      <td>9.0</td>\n",
       "      <td>55.00</td>\n",
       "      <td>7</td>\n",
       "      <td>False</td>\n",
       "      <td>...</td>\n",
       "      <td>4.285470e+05</td>\n",
       "      <td>4</td>\n",
       "      <td>7</td>\n",
       "      <td>2015</td>\n",
       "      <td>другой</td>\n",
       "      <td>0.180921</td>\n",
       "      <td>0.046053</td>\n",
       "      <td>130.27828</td>\n",
       "      <td>0.428547</td>\n",
       "      <td>5.913</td>\n",
       "    </tr>\n",
       "    <tr>\n",
       "      <td>13864</td>\n",
       "      <td>20</td>\n",
       "      <td>130000000.0</td>\n",
       "      <td>231.0</td>\n",
       "      <td>2015-08-13</td>\n",
       "      <td>6</td>\n",
       "      <td>3.60</td>\n",
       "      <td>6.0</td>\n",
       "      <td>148.00</td>\n",
       "      <td>4</td>\n",
       "      <td>False</td>\n",
       "      <td>...</td>\n",
       "      <td>5.627706e+05</td>\n",
       "      <td>3</td>\n",
       "      <td>8</td>\n",
       "      <td>2015</td>\n",
       "      <td>другой</td>\n",
       "      <td>0.640693</td>\n",
       "      <td>0.051948</td>\n",
       "      <td>130.00000</td>\n",
       "      <td>0.562771</td>\n",
       "      <td>1.280</td>\n",
       "    </tr>\n",
       "    <tr>\n",
       "      <td>21955</td>\n",
       "      <td>19</td>\n",
       "      <td>130000000.0</td>\n",
       "      <td>431.0</td>\n",
       "      <td>2017-10-02</td>\n",
       "      <td>7</td>\n",
       "      <td>3.70</td>\n",
       "      <td>8.0</td>\n",
       "      <td>220.00</td>\n",
       "      <td>5</td>\n",
       "      <td>False</td>\n",
       "      <td>...</td>\n",
       "      <td>3.016241e+05</td>\n",
       "      <td>0</td>\n",
       "      <td>10</td>\n",
       "      <td>2017</td>\n",
       "      <td>другой</td>\n",
       "      <td>0.510441</td>\n",
       "      <td>0.046404</td>\n",
       "      <td>130.00000</td>\n",
       "      <td>0.301624</td>\n",
       "      <td>NaN</td>\n",
       "    </tr>\n",
       "    <tr>\n",
       "      <td>7543</td>\n",
       "      <td>20</td>\n",
       "      <td>130000000.0</td>\n",
       "      <td>307.8</td>\n",
       "      <td>2016-04-24</td>\n",
       "      <td>5</td>\n",
       "      <td>2.65</td>\n",
       "      <td>4.0</td>\n",
       "      <td>187.90</td>\n",
       "      <td>3</td>\n",
       "      <td>False</td>\n",
       "      <td>...</td>\n",
       "      <td>4.223522e+05</td>\n",
       "      <td>6</td>\n",
       "      <td>4</td>\n",
       "      <td>2016</td>\n",
       "      <td>другой</td>\n",
       "      <td>0.610461</td>\n",
       "      <td>0.205978</td>\n",
       "      <td>130.00000</td>\n",
       "      <td>0.422352</td>\n",
       "      <td>4.785</td>\n",
       "    </tr>\n",
       "    <tr>\n",
       "      <td>1928</td>\n",
       "      <td>11</td>\n",
       "      <td>125000000.0</td>\n",
       "      <td>224.5</td>\n",
       "      <td>2017-01-24</td>\n",
       "      <td>4</td>\n",
       "      <td>2.65</td>\n",
       "      <td>4.0</td>\n",
       "      <td>163.50</td>\n",
       "      <td>3</td>\n",
       "      <td>False</td>\n",
       "      <td>...</td>\n",
       "      <td>5.567929e+05</td>\n",
       "      <td>1</td>\n",
       "      <td>1</td>\n",
       "      <td>2017</td>\n",
       "      <td>другой</td>\n",
       "      <td>0.728285</td>\n",
       "      <td>0.133630</td>\n",
       "      <td>125.00000</td>\n",
       "      <td>0.556793</td>\n",
       "      <td>2.335</td>\n",
       "    </tr>\n",
       "    <tr>\n",
       "      <td>20349</td>\n",
       "      <td>17</td>\n",
       "      <td>124480000.0</td>\n",
       "      <td>267.7</td>\n",
       "      <td>2016-06-18</td>\n",
       "      <td>4</td>\n",
       "      <td>2.65</td>\n",
       "      <td>8.0</td>\n",
       "      <td>107.03</td>\n",
       "      <td>8</td>\n",
       "      <td>False</td>\n",
       "      <td>...</td>\n",
       "      <td>4.649981e+05</td>\n",
       "      <td>5</td>\n",
       "      <td>6</td>\n",
       "      <td>2016</td>\n",
       "      <td>последний</td>\n",
       "      <td>0.399813</td>\n",
       "      <td>0.111543</td>\n",
       "      <td>124.48000</td>\n",
       "      <td>0.464998</td>\n",
       "      <td>7.442</td>\n",
       "    </tr>\n",
       "    <tr>\n",
       "      <td>21023</td>\n",
       "      <td>17</td>\n",
       "      <td>124350000.0</td>\n",
       "      <td>248.7</td>\n",
       "      <td>2015-08-27</td>\n",
       "      <td>4</td>\n",
       "      <td>3.40</td>\n",
       "      <td>9.0</td>\n",
       "      <td>131.00</td>\n",
       "      <td>4</td>\n",
       "      <td>False</td>\n",
       "      <td>...</td>\n",
       "      <td>5.000000e+05</td>\n",
       "      <td>3</td>\n",
       "      <td>8</td>\n",
       "      <td>2015</td>\n",
       "      <td>другой</td>\n",
       "      <td>0.526739</td>\n",
       "      <td>0.092481</td>\n",
       "      <td>124.35000</td>\n",
       "      <td>0.500000</td>\n",
       "      <td>2.242</td>\n",
       "    </tr>\n",
       "    <tr>\n",
       "      <td>4996</td>\n",
       "      <td>20</td>\n",
       "      <td>124000000.0</td>\n",
       "      <td>124.5</td>\n",
       "      <td>2017-10-12</td>\n",
       "      <td>4</td>\n",
       "      <td>3.00</td>\n",
       "      <td>4.0</td>\n",
       "      <td>67.20</td>\n",
       "      <td>2</td>\n",
       "      <td>False</td>\n",
       "      <td>...</td>\n",
       "      <td>9.959839e+05</td>\n",
       "      <td>3</td>\n",
       "      <td>10</td>\n",
       "      <td>2017</td>\n",
       "      <td>другой</td>\n",
       "      <td>0.539759</td>\n",
       "      <td>0.160643</td>\n",
       "      <td>124.00000</td>\n",
       "      <td>0.995984</td>\n",
       "      <td>1.722</td>\n",
       "    </tr>\n",
       "    <tr>\n",
       "      <td>16647</td>\n",
       "      <td>15</td>\n",
       "      <td>122000000.0</td>\n",
       "      <td>145.0</td>\n",
       "      <td>2017-04-25</td>\n",
       "      <td>3</td>\n",
       "      <td>3.30</td>\n",
       "      <td>6.0</td>\n",
       "      <td>36.00</td>\n",
       "      <td>2</td>\n",
       "      <td>False</td>\n",
       "      <td>...</td>\n",
       "      <td>8.413793e+05</td>\n",
       "      <td>1</td>\n",
       "      <td>4</td>\n",
       "      <td>2017</td>\n",
       "      <td>другой</td>\n",
       "      <td>0.248276</td>\n",
       "      <td>0.496552</td>\n",
       "      <td>122.00000</td>\n",
       "      <td>0.841379</td>\n",
       "      <td>7.023</td>\n",
       "    </tr>\n",
       "    <tr>\n",
       "      <td>1300</td>\n",
       "      <td>14</td>\n",
       "      <td>120000000.0</td>\n",
       "      <td>280.0</td>\n",
       "      <td>2018-07-12</td>\n",
       "      <td>5</td>\n",
       "      <td>4.70</td>\n",
       "      <td>4.0</td>\n",
       "      <td>162.00</td>\n",
       "      <td>3</td>\n",
       "      <td>False</td>\n",
       "      <td>...</td>\n",
       "      <td>4.285714e+05</td>\n",
       "      <td>3</td>\n",
       "      <td>7</td>\n",
       "      <td>2018</td>\n",
       "      <td>другой</td>\n",
       "      <td>0.578571</td>\n",
       "      <td>0.107143</td>\n",
       "      <td>120.00000</td>\n",
       "      <td>0.428571</td>\n",
       "      <td>4.247</td>\n",
       "    </tr>\n",
       "    <tr>\n",
       "      <td>20264</td>\n",
       "      <td>17</td>\n",
       "      <td>119000000.0</td>\n",
       "      <td>187.6</td>\n",
       "      <td>2017-07-10</td>\n",
       "      <td>4</td>\n",
       "      <td>6.00</td>\n",
       "      <td>7.0</td>\n",
       "      <td>147.00</td>\n",
       "      <td>7</td>\n",
       "      <td>False</td>\n",
       "      <td>...</td>\n",
       "      <td>6.343284e+05</td>\n",
       "      <td>0</td>\n",
       "      <td>7</td>\n",
       "      <td>2017</td>\n",
       "      <td>последний</td>\n",
       "      <td>0.783582</td>\n",
       "      <td>0.083156</td>\n",
       "      <td>119.00000</td>\n",
       "      <td>0.634328</td>\n",
       "      <td>5.605</td>\n",
       "    </tr>\n",
       "    <tr>\n",
       "      <td>1188</td>\n",
       "      <td>20</td>\n",
       "      <td>118000000.0</td>\n",
       "      <td>290.6</td>\n",
       "      <td>2018-06-01</td>\n",
       "      <td>6</td>\n",
       "      <td>3.82</td>\n",
       "      <td>6.0</td>\n",
       "      <td>188.70</td>\n",
       "      <td>3</td>\n",
       "      <td>False</td>\n",
       "      <td>...</td>\n",
       "      <td>4.060564e+05</td>\n",
       "      <td>4</td>\n",
       "      <td>6</td>\n",
       "      <td>2018</td>\n",
       "      <td>другой</td>\n",
       "      <td>0.649346</td>\n",
       "      <td>0.075705</td>\n",
       "      <td>118.00000</td>\n",
       "      <td>0.406056</td>\n",
       "      <td>6.224</td>\n",
       "    </tr>\n",
       "    <tr>\n",
       "      <td>21923</td>\n",
       "      <td>10</td>\n",
       "      <td>115490000.0</td>\n",
       "      <td>235.0</td>\n",
       "      <td>2017-04-09</td>\n",
       "      <td>5</td>\n",
       "      <td>4.90</td>\n",
       "      <td>5.0</td>\n",
       "      <td>140.00</td>\n",
       "      <td>5</td>\n",
       "      <td>False</td>\n",
       "      <td>...</td>\n",
       "      <td>4.914468e+05</td>\n",
       "      <td>6</td>\n",
       "      <td>4</td>\n",
       "      <td>2017</td>\n",
       "      <td>последний</td>\n",
       "      <td>0.595745</td>\n",
       "      <td>0.212766</td>\n",
       "      <td>115.49000</td>\n",
       "      <td>0.491447</td>\n",
       "      <td>1.328</td>\n",
       "    </tr>\n",
       "  </tbody>\n",
       "</table>\n",
       "<p>37 rows × 32 columns</p>\n",
       "</div>"
      ],
      "text/plain": [
       "       total_images   last_price  total_area first_day_exposition  rooms  \\\n",
       "12971            19  763000000.0       400.0           2017-09-30      7   \n",
       "19540             8  420000000.0       900.0           2017-12-06     12   \n",
       "14706            15  401300000.0       401.0           2016-02-20      5   \n",
       "1436             19  330000000.0       190.0           2018-04-04      3   \n",
       "15651            20  300000000.0       618.0           2017-12-18      7   \n",
       "22831            18  289238400.0       187.5           2019-03-19      2   \n",
       "16461            17  245000000.0       285.7           2017-04-10      6   \n",
       "13749             7  240000000.0       410.0           2017-04-01      6   \n",
       "5893              3  230000000.0       500.0           2017-05-31      6   \n",
       "8900             13  190870000.0       268.0           2016-03-25      3   \n",
       "19865            20  180000000.0       347.0           2015-01-21      8   \n",
       "19155            20  160000000.0       243.0           2018-11-12      5   \n",
       "2536             16  159984000.0       242.4           2015-08-27      4   \n",
       "16495            12  159000000.0       260.0           2017-04-04      4   \n",
       "1026             20  155000000.0       310.0           2018-10-12      5   \n",
       "7857             11  150000000.0       230.0           2017-10-25      8   \n",
       "15016             8  150000000.0       500.0           2016-01-13      4   \n",
       "22229            16  148000000.0       256.0           2016-03-16      5   \n",
       "3117             19  140000000.0       631.0           2019-03-30      7   \n",
       "12674            16  140000000.0       241.0           2015-07-24      5   \n",
       "12859            20  140000000.0       631.2           2019-04-09      7   \n",
       "17912            17  135000000.0       166.0           2019-02-07      3   \n",
       "793              20  135000000.0       310.0           2018-05-22      4   \n",
       "7674             20  131000000.0       380.0           2016-09-23      5   \n",
       "2243              9  130278280.0       304.0           2015-07-24      5   \n",
       "13864            20  130000000.0       231.0           2015-08-13      6   \n",
       "21955            19  130000000.0       431.0           2017-10-02      7   \n",
       "7543             20  130000000.0       307.8           2016-04-24      5   \n",
       "1928             11  125000000.0       224.5           2017-01-24      4   \n",
       "20349            17  124480000.0       267.7           2016-06-18      4   \n",
       "21023            17  124350000.0       248.7           2015-08-27      4   \n",
       "4996             20  124000000.0       124.5           2017-10-12      4   \n",
       "16647            15  122000000.0       145.0           2017-04-25      3   \n",
       "1300             14  120000000.0       280.0           2018-07-12      5   \n",
       "20264            17  119000000.0       187.6           2017-07-10      4   \n",
       "1188             20  118000000.0       290.6           2018-06-01      6   \n",
       "21923            10  115490000.0       235.0           2017-04-09      5   \n",
       "\n",
       "       ceiling_height  floors_total  living_area  floor  is_apartment  ...  \\\n",
       "12971            2.65          10.0       250.00     10         False  ...   \n",
       "19540            2.80          25.0       409.70     25         False  ...   \n",
       "14706            2.65           9.0       204.00      9         False  ...   \n",
       "1436             3.50           7.0        95.00      5         False  ...   \n",
       "15651            3.40           7.0       258.00      5         False  ...   \n",
       "22831            3.37           6.0        63.70      6         False  ...   \n",
       "16461            3.35           7.0       182.80      4         False  ...   \n",
       "13749            3.40           7.0       218.00      7         False  ...   \n",
       "5893             2.65           7.0        55.00      7         False  ...   \n",
       "8900             2.65           8.0       132.00      7         False  ...   \n",
       "19865            3.90           6.0       260.00      3         False  ...   \n",
       "19155            2.65           5.0       145.00      4         False  ...   \n",
       "2536             3.85           9.0       131.00      7         False  ...   \n",
       "16495            2.65           5.0       180.00      4         False  ...   \n",
       "1026             5.30           3.0       190.00      3         False  ...   \n",
       "7857             2.65           8.0       220.00      8         False  ...   \n",
       "15016            3.20           7.0        55.00      7         False  ...   \n",
       "22229            2.65           6.0       179.00      5         False  ...   \n",
       "3117             2.65           5.0        55.00      5         False  ...   \n",
       "12674            3.00           5.0        55.00      4         False  ...   \n",
       "12859            3.90           4.0       322.30      4         False  ...   \n",
       "17912            3.30           7.0        52.00      1         False  ...   \n",
       "793              3.30           5.0       250.00      2         False  ...   \n",
       "7674             3.90           6.0       150.00      4         False  ...   \n",
       "2243             3.11           9.0        55.00      7         False  ...   \n",
       "13864            3.60           6.0       148.00      4         False  ...   \n",
       "21955            3.70           8.0       220.00      5         False  ...   \n",
       "7543             2.65           4.0       187.90      3         False  ...   \n",
       "1928             2.65           4.0       163.50      3         False  ...   \n",
       "20349            2.65           8.0       107.03      8         False  ...   \n",
       "21023            3.40           9.0       131.00      4         False  ...   \n",
       "4996             3.00           4.0        67.20      2         False  ...   \n",
       "16647            3.30           6.0        36.00      2         False  ...   \n",
       "1300             4.70           4.0       162.00      3         False  ...   \n",
       "20264            6.00           7.0       147.00      7         False  ...   \n",
       "1188             3.82           6.0       188.70      3         False  ...   \n",
       "21923            4.90           5.0       140.00      5         False  ...   \n",
       "\n",
       "       cost_per_metr  weekday  month  year  floor_cat  living_to_total  \\\n",
       "12971   1.907500e+06        5      9  2017  последний         0.625000   \n",
       "19540   4.666667e+05        2     12  2017  последний         0.455222   \n",
       "14706   1.000748e+06        5      2  2016  последний         0.508728   \n",
       "1436    1.736842e+06        2      4  2018     другой         0.500000   \n",
       "15651   4.854369e+05        0     12  2017     другой         0.417476   \n",
       "22831   1.542605e+06        1      3  2019  последний         0.339733   \n",
       "16461   8.575429e+05        0      4  2017     другой         0.639832   \n",
       "13749   5.853659e+05        5      4  2017  последний         0.531707   \n",
       "5893    4.600000e+05        2      5  2017  последний         0.110000   \n",
       "8900    7.122015e+05        4      3  2016     другой         0.492537   \n",
       "19865   5.187320e+05        2      1  2015     другой         0.749280   \n",
       "19155   6.584362e+05        0     11  2018     другой         0.596708   \n",
       "2536    6.600000e+05        3      8  2015     другой         0.540429   \n",
       "16495   6.115385e+05        1      4  2017     другой         0.692308   \n",
       "1026    5.000000e+05        4     10  2018  последний         0.612903   \n",
       "7857    6.521739e+05        2     10  2017  последний         0.956522   \n",
       "15016   3.000000e+05        2      1  2016  последний         0.110000   \n",
       "22229   5.781250e+05        2      3  2016     другой         0.699219   \n",
       "3117    2.218700e+05        5      3  2019  последний         0.087163   \n",
       "12674   5.809129e+05        4      7  2015     другой         0.228216   \n",
       "12859   2.217997e+05        1      4  2019  последний         0.510615   \n",
       "17912   8.132530e+05        3      2  2019     первый         0.313253   \n",
       "793     4.354839e+05        1      5  2018     другой         0.806452   \n",
       "7674    3.447368e+05        4      9  2016     другой         0.394737   \n",
       "2243    4.285470e+05        4      7  2015     другой         0.180921   \n",
       "13864   5.627706e+05        3      8  2015     другой         0.640693   \n",
       "21955   3.016241e+05        0     10  2017     другой         0.510441   \n",
       "7543    4.223522e+05        6      4  2016     другой         0.610461   \n",
       "1928    5.567929e+05        1      1  2017     другой         0.728285   \n",
       "20349   4.649981e+05        5      6  2016  последний         0.399813   \n",
       "21023   5.000000e+05        3      8  2015     другой         0.526739   \n",
       "4996    9.959839e+05        3     10  2017     другой         0.539759   \n",
       "16647   8.413793e+05        1      4  2017     другой         0.248276   \n",
       "1300    4.285714e+05        3      7  2018     другой         0.578571   \n",
       "20264   6.343284e+05        0      7  2017  последний         0.783582   \n",
       "1188    4.060564e+05        4      6  2018     другой         0.649346   \n",
       "21923   4.914468e+05        6      4  2017  последний         0.595745   \n",
       "\n",
       "       kitchen_to_total   millions  cost_per_metr_millions  \\\n",
       "12971          0.035000  763.00000                1.907500   \n",
       "19540          0.124444  420.00000                0.466667   \n",
       "14706          0.059850  401.30000                1.000748   \n",
       "1436           0.210526  330.00000                1.736842   \n",
       "15651          0.113269  300.00000                0.485437   \n",
       "22831          0.161067  289.23840                1.542605   \n",
       "16461          0.104305  245.00000                0.857543   \n",
       "13749          0.097561  240.00000                0.585366   \n",
       "5893           0.080000  230.00000                0.460000   \n",
       "8900           0.149254  190.87000                0.712201   \n",
       "19865          0.129683  180.00000                0.518732   \n",
       "19155          0.135802  160.00000                0.658436   \n",
       "2536           0.082508  159.98400                0.660000   \n",
       "16495          0.115385  159.00000                0.611538   \n",
       "1026           0.203226  155.00000                0.500000   \n",
       "7857           0.060870  150.00000                0.652174   \n",
       "15016          0.028000  150.00000                0.300000   \n",
       "22229          0.140625  148.00000                0.578125   \n",
       "3117           0.095087  140.00000                0.221870   \n",
       "12674          0.058091  140.00000                0.580913   \n",
       "12859          0.030894  140.00000                0.221800   \n",
       "17912          0.385542  135.00000                0.813253   \n",
       "793            0.161290  135.00000                0.435484   \n",
       "7674           0.036842  131.00000                0.344737   \n",
       "2243           0.046053  130.27828                0.428547   \n",
       "13864          0.051948  130.00000                0.562771   \n",
       "21955          0.046404  130.00000                0.301624   \n",
       "7543           0.205978  130.00000                0.422352   \n",
       "1928           0.133630  125.00000                0.556793   \n",
       "20349          0.111543  124.48000                0.464998   \n",
       "21023          0.092481  124.35000                0.500000   \n",
       "4996           0.160643  124.00000                0.995984   \n",
       "16647          0.496552  122.00000                0.841379   \n",
       "1300           0.107143  120.00000                0.428571   \n",
       "20264          0.083156  119.00000                0.634328   \n",
       "1188           0.075705  118.00000                0.406056   \n",
       "21923          0.212766  115.49000                0.491447   \n",
       "\n",
       "       cityCenters_nearest_km  \n",
       "12971                   3.956  \n",
       "19540                   7.877  \n",
       "14706                   2.389  \n",
       "1436                    1.197  \n",
       "15651                   5.297  \n",
       "22831                   1.073  \n",
       "16461                   6.235  \n",
       "13749                   5.297  \n",
       "5893                    5.297  \n",
       "8900                    5.297  \n",
       "19865                   3.794  \n",
       "19155                   0.555  \n",
       "2536                    2.242  \n",
       "16495                   0.436  \n",
       "1026                    4.785  \n",
       "7857                    5.845  \n",
       "15016                   6.150  \n",
       "22229                   3.639  \n",
       "3117                    4.972  \n",
       "12674                   3.503  \n",
       "12859                   4.972  \n",
       "17912                   5.955  \n",
       "793                     7.251  \n",
       "7674                    4.504  \n",
       "2243                    5.913  \n",
       "13864                   1.280  \n",
       "21955                     NaN  \n",
       "7543                    4.785  \n",
       "1928                    2.335  \n",
       "20349                   7.442  \n",
       "21023                   2.242  \n",
       "4996                    1.722  \n",
       "16647                   7.023  \n",
       "1300                    4.247  \n",
       "20264                   5.605  \n",
       "1188                    6.224  \n",
       "21923                   1.328  \n",
       "\n",
       "[37 rows x 32 columns]"
      ]
     },
     "execution_count": 47,
     "metadata": {},
     "output_type": "execute_result"
    }
   ],
   "source": [
    "df.query('millions > 100').sort_values(by='last_price', ascending=False)"
   ]
  },
  {
   "cell_type": "markdown",
   "metadata": {},
   "source": [
    "763 млн., 400 метров, 7 комнат, цена квадрата 1,9 млн. Копейки. Самое интересное, что продали ее всего за 33 дня)\n",
    "\n",
    "Всего 37 квартир дороже 100 миллионов. Не так много.\n",
    "Отбросим их перед анализом."
   ]
  },
  {
   "cell_type": "code",
   "execution_count": 48,
   "metadata": {},
   "outputs": [],
   "source": [
    "cost = df.query('millions < 100')"
   ]
  },
  {
   "cell_type": "markdown",
   "metadata": {},
   "source": [
    "Перед анализом зависимостей найдем среднюю стоимость квартир и кв. метра."
   ]
  },
  {
   "cell_type": "code",
   "execution_count": 49,
   "metadata": {},
   "outputs": [
    {
     "name": "stdout",
     "output_type": "stream",
     "text": [
      "Средняя стоимость продажи квартиры: 6.25  млн. рублей\n",
      "Средняя стоимость кв. метра жилья: 98567.62  рублей\n"
     ]
    }
   ],
   "source": [
    "print('Средняя стоимость продажи квартиры:',cost['millions'].mean().round(2),' млн. рублей')\n",
    "print('Средняя стоимость кв. метра жилья:',cost['cost_per_metr'].mean().round(2),' рублей')"
   ]
  },
  {
   "cell_type": "markdown",
   "metadata": {},
   "source": [
    "Посмотрим, зависит ли цена от площади квартиры"
   ]
  },
  {
   "cell_type": "code",
   "execution_count": 50,
   "metadata": {},
   "outputs": [
    {
     "data": {
      "image/png": "[encoded data removed]",
      "text/plain": [
       "<Figure size 864x360 with 1 Axes>"
      ]
     },
     "metadata": {
      "needs_background": "light"
     },
     "output_type": "display_data"
    }
   ],
   "source": [
    "(cost     \n",
    "         .pivot_table(index='millions', values='total_area', aggfunc='mean')\n",
    "         .plot(grid=True, figsize=(12, 5), title='Зависимость площади и стоимости квартиры')\n",
    ");\n",
    "plt.xlabel('Стоимость, млн.');\n",
    "plt.ylabel('Площадь');"
   ]
  },
  {
   "cell_type": "code",
   "execution_count": 51,
   "metadata": {},
   "outputs": [
    {
     "data": {
      "text/plain": [
       "0.77"
      ]
     },
     "execution_count": 51,
     "metadata": {},
     "output_type": "execute_result"
    }
   ],
   "source": [
    "cost['millions'].corr(cost['total_area']).round(2)"
   ]
  },
  {
   "cell_type": "markdown",
   "metadata": {},
   "source": [
    "Конечно же зависит! Чем больше квартира, тем она дороже, это очевидно. Однако есть экземпляры, которые с небольшой площадью стоят как самолет. Корреляция 0,77 - <font color=brown>очень сильная положительная корреляция</font>"
   ]
  },
  {
   "cell_type": "markdown",
   "metadata": {},
   "source": [
    "Рассмотрим **число комнат** и стоимость квартиры."
   ]
  },
  {
   "cell_type": "code",
   "execution_count": 52,
   "metadata": {},
   "outputs": [
    {
     "data": {
      "image/png": "[encoded data removed]",
      "text/plain": [
       "<Figure size 864x360 with 1 Axes>"
      ]
     },
     "metadata": {
      "needs_background": "light"
     },
     "output_type": "display_data"
    }
   ],
   "source": [
    "(cost     \n",
    "         .pivot_table(index='millions', values='rooms', aggfunc='mean')\n",
    "         .plot(grid=True, figsize=(12, 5), title='Зависимость числа комнат и стоимости квартиры')\n",
    ");\n",
    "plt.xlabel('Стоимость, млн.');\n",
    "plt.ylabel('Число комнат');"
   ]
  },
  {
   "cell_type": "code",
   "execution_count": 53,
   "metadata": {},
   "outputs": [
    {
     "data": {
      "image/png": "[encoded data removed]",
      "text/plain": [
       "<Figure size 432x288 with 1 Axes>"
      ]
     },
     "metadata": {
      "needs_background": "light"
     },
     "output_type": "display_data"
    }
   ],
   "source": [
    "(cost \n",
    "         .plot(x = 'rooms', y = 'millions', kind = 'scatter', alpha = 0.3, \n",
    "               title='Зависимость числа комнат и стоимости квартиры')\n",
    ");\n",
    "plt.ylabel('Стоимость, млн.');\n",
    "plt.xlabel('Площадь');"
   ]
  },
  {
   "cell_type": "code",
   "execution_count": 54,
   "metadata": {},
   "outputs": [
    {
     "data": {
      "text/plain": [
       "0.47"
      ]
     },
     "execution_count": 54,
     "metadata": {},
     "output_type": "execute_result"
    }
   ],
   "source": [
    "cost['millions'].corr(cost['rooms']).round(2)"
   ]
  },
  {
   "cell_type": "markdown",
   "metadata": {},
   "source": [
    "Между числом комнат и стоимостью квартиры <font color=brown>сильная положительная корреляция</font>. На графике видно, что есть однокомнатные квартиры с ценой за 40 миллионов."
   ]
  },
  {
   "cell_type": "markdown",
   "metadata": {},
   "source": [
    "Найдем зависимость между стоимостью квадратного метра и ***этажем***."
   ]
  },
  {
   "cell_type": "code",
   "execution_count": 55,
   "metadata": {},
   "outputs": [
    {
     "data": {
      "text/html": [
       "<div>\n",
       "<style scoped>\n",
       "    .dataframe tbody tr th:only-of-type {\n",
       "        vertical-align: middle;\n",
       "    }\n",
       "\n",
       "    .dataframe tbody tr th {\n",
       "        vertical-align: top;\n",
       "    }\n",
       "\n",
       "    .dataframe thead th {\n",
       "        text-align: right;\n",
       "    }\n",
       "</style>\n",
       "<table border=\"1\" class=\"dataframe\">\n",
       "  <thead>\n",
       "    <tr style=\"text-align: right;\">\n",
       "      <th></th>\n",
       "      <th>count</th>\n",
       "      <th>mean</th>\n",
       "    </tr>\n",
       "    <tr>\n",
       "      <th>floor_cat</th>\n",
       "      <th></th>\n",
       "      <th></th>\n",
       "    </tr>\n",
       "  </thead>\n",
       "  <tbody>\n",
       "    <tr>\n",
       "      <td>другой</td>\n",
       "      <td>17424</td>\n",
       "      <td>102835.489935</td>\n",
       "    </tr>\n",
       "    <tr>\n",
       "      <td>последний</td>\n",
       "      <td>3322</td>\n",
       "      <td>90959.857606</td>\n",
       "    </tr>\n",
       "    <tr>\n",
       "      <td>первый</td>\n",
       "      <td>2916</td>\n",
       "      <td>81732.781003</td>\n",
       "    </tr>\n",
       "  </tbody>\n",
       "</table>\n",
       "</div>"
      ],
      "text/plain": [
       "           count           mean\n",
       "floor_cat                      \n",
       "другой     17424  102835.489935\n",
       "последний   3322   90959.857606\n",
       "первый      2916   81732.781003"
      ]
     },
     "execution_count": 55,
     "metadata": {},
     "output_type": "execute_result"
    }
   ],
   "source": [
    "cost.groupby('floor_cat')['cost_per_metr'].agg(['count','mean']).sort_values(by='count', ascending=False)\n"
   ]
  },
  {
   "cell_type": "markdown",
   "metadata": {},
   "source": [
    "Первый этаж дешевле, последнего. А последний дешевле дугих этажей. Делаем вывод, что люди предпочитают не первый, и не последний. Но между первым и последним - лучше последний."
   ]
  },
  {
   "cell_type": "markdown",
   "metadata": {},
   "source": [
    "Рассмотрим зависимость цены кв. метра и ***расстояния от центра города*** (ранее мы привели его в километры для удобства)."
   ]
  },
  {
   "cell_type": "code",
   "execution_count": 56,
   "metadata": {},
   "outputs": [
    {
     "data": {
      "image/png": "[encoded data removed]",
      "text/plain": [
       "<Figure size 432x288 with 1 Axes>"
      ]
     },
     "metadata": {
      "needs_background": "light"
     },
     "output_type": "display_data"
    }
   ],
   "source": [
    "(cost  \n",
    "         .plot(x = 'cityCenters_nearest_km', y = 'cost_per_metr', kind = 'scatter', alpha = 0.3, \n",
    "               title='Зависимость цены кв. метра и расстояния от центра города')\n",
    ");\n",
    "plt.xlabel('Расстояние до центра,км');\n",
    "plt.ylabel('Стоимость кв. метра');"
   ]
  },
  {
   "cell_type": "code",
   "execution_count": 57,
   "metadata": {},
   "outputs": [
    {
     "data": {
      "text/plain": [
       "-0.36"
      ]
     },
     "execution_count": 57,
     "metadata": {},
     "output_type": "execute_result"
    }
   ],
   "source": [
    "cost['cost_per_metr'].corr(cost['cityCenters_nearest_km']).round(2)"
   ]
  },
  {
   "cell_type": "markdown",
   "metadata": {},
   "source": [
    "Рассмотрим зависимость цены от ***года публикации объявления.***"
   ]
  },
  {
   "cell_type": "code",
   "execution_count": 58,
   "metadata": {},
   "outputs": [
    {
     "data": {
      "image/png": "[encoded data removed]",
      "text/plain": [
       "<Figure size 864x360 with 1 Axes>"
      ]
     },
     "metadata": {
      "needs_background": "light"
     },
     "output_type": "display_data"
    }
   ],
   "source": [
    "(cost    .pivot_table(index='year', values='cost_per_metr', aggfunc='mean')\n",
    "         .plot(kind='bar',grid=True, figsize=(12, 5), title='Зависимость цены квадратного метра от года публикации')\n",
    ");\n",
    "plt.xlabel('Год');\n",
    "plt.ylabel('Стоимость кв. метра');"
   ]
  },
  {
   "cell_type": "markdown",
   "metadata": {},
   "source": [
    "По гистограмме видно, что в 2014 году квартиры стоили дороже. До 2018 года наблюдалось падение стоимости кв. метра жилплощади. В 2019 году рынок стал дорожать. Жаль нет данных по 2020 году, было бы интересно).\n",
    "\n",
    "Рассмотрим ***месяц публикации.***"
   ]
  },
  {
   "cell_type": "code",
   "execution_count": 59,
   "metadata": {
    "scrolled": true
   },
   "outputs": [
    {
     "data": {
      "image/png": "[encoded data removed]",
      "text/plain": [
       "<Figure size 864x360 with 1 Axes>"
      ]
     },
     "metadata": {
      "needs_background": "light"
     },
     "output_type": "display_data"
    }
   ],
   "source": [
    "(cost    .pivot_table(index='month', values='millions', aggfunc='mean')\n",
    "         .plot(kind='bar',grid=True, figsize=(12, 5), title='Зависимость цены квартиры от месяца публикации')\n",
    ");\n",
    "plt.xlabel('Месяц');\n",
    "plt.ylabel('Стоимость квартиры, млн');"
   ]
  },
  {
   "cell_type": "markdown",
   "metadata": {},
   "source": [
    "В целом от месяца публикации цена квартиры не зависиит. Но в ноябре-декабре квартиры чуть дороже, чем в среднем по году.\n",
    "\n",
    "Рассмотрим ***дни недели***."
   ]
  },
  {
   "cell_type": "code",
   "execution_count": 60,
   "metadata": {},
   "outputs": [
    {
     "data": {
      "image/png": "[encoded data removed]",
      "text/plain": [
       "<Figure size 864x360 with 1 Axes>"
      ]
     },
     "metadata": {
      "needs_background": "light"
     },
     "output_type": "display_data"
    }
   ],
   "source": [
    "(cost    .pivot_table(index='weekday', values='millions', aggfunc='mean')\n",
    "         .plot(kind='bar',grid=True, figsize=(12, 5), title='Зависимость стоимости квартиры от дня недели')\n",
    ");\n",
    "plt.xlabel('День публикации');\n",
    "plt.ylabel('Стоимость квартиры, млн.');"
   ]
  },
  {
   "cell_type": "markdown",
   "metadata": {},
   "source": [
    "Квартиры на продажу, опубликованные в четверг чуть дороже, чем в другие дни. Хм."
   ]
  },
  {
   "cell_type": "markdown",
   "metadata": {},
   "source": [
    "--------------\n",
    "<b> 4.5 Топ-10 населенных пунктов о числу объявлений <a name=\"p4_5\"></a></b>\n",
    "\n",
    "\n",
    "Найдем 10 населённых пунктов с наибольшим числом объявлений и посчитаем среднюю цену квадратного метра в этих населённых пунктах. "
   ]
  },
  {
   "cell_type": "code",
   "execution_count": 61,
   "metadata": {},
   "outputs": [
    {
     "data": {
      "text/html": [
       "<div>\n",
       "<style scoped>\n",
       "    .dataframe tbody tr th:only-of-type {\n",
       "        vertical-align: middle;\n",
       "    }\n",
       "\n",
       "    .dataframe tbody tr th {\n",
       "        vertical-align: top;\n",
       "    }\n",
       "\n",
       "    .dataframe thead th {\n",
       "        text-align: right;\n",
       "    }\n",
       "</style>\n",
       "<table border=\"1\" class=\"dataframe\">\n",
       "  <thead>\n",
       "    <tr style=\"text-align: right;\">\n",
       "      <th></th>\n",
       "      <th>count</th>\n",
       "      <th>mean</th>\n",
       "    </tr>\n",
       "    <tr>\n",
       "      <th>locality_name</th>\n",
       "      <th></th>\n",
       "      <th></th>\n",
       "    </tr>\n",
       "  </thead>\n",
       "  <tbody>\n",
       "    <tr>\n",
       "      <td>Санкт-Петербург</td>\n",
       "      <td>15684</td>\n",
       "      <td>113596.942447</td>\n",
       "    </tr>\n",
       "    <tr>\n",
       "      <td>посёлок Мурино</td>\n",
       "      <td>522</td>\n",
       "      <td>85752.189195</td>\n",
       "    </tr>\n",
       "    <tr>\n",
       "      <td>посёлок Шушары</td>\n",
       "      <td>440</td>\n",
       "      <td>78677.364217</td>\n",
       "    </tr>\n",
       "    <tr>\n",
       "      <td>Всеволожск</td>\n",
       "      <td>398</td>\n",
       "      <td>68654.473986</td>\n",
       "    </tr>\n",
       "    <tr>\n",
       "      <td>Пушкин</td>\n",
       "      <td>369</td>\n",
       "      <td>103125.819291</td>\n",
       "    </tr>\n",
       "    <tr>\n",
       "      <td>Колпино</td>\n",
       "      <td>338</td>\n",
       "      <td>75424.579098</td>\n",
       "    </tr>\n",
       "    <tr>\n",
       "      <td>посёлок Парголово</td>\n",
       "      <td>327</td>\n",
       "      <td>90175.913458</td>\n",
       "    </tr>\n",
       "    <tr>\n",
       "      <td>Гатчина</td>\n",
       "      <td>307</td>\n",
       "      <td>68746.146763</td>\n",
       "    </tr>\n",
       "    <tr>\n",
       "      <td>деревня Кудрово</td>\n",
       "      <td>299</td>\n",
       "      <td>92473.547576</td>\n",
       "    </tr>\n",
       "    <tr>\n",
       "      <td>Выборг</td>\n",
       "      <td>237</td>\n",
       "      <td>58141.909153</td>\n",
       "    </tr>\n",
       "  </tbody>\n",
       "</table>\n",
       "</div>"
      ],
      "text/plain": [
       "                   count           mean\n",
       "locality_name                          \n",
       "Санкт-Петербург    15684  113596.942447\n",
       "посёлок Мурино       522   85752.189195\n",
       "посёлок Шушары       440   78677.364217\n",
       "Всеволожск           398   68654.473986\n",
       "Пушкин               369  103125.819291\n",
       "Колпино              338   75424.579098\n",
       "посёлок Парголово    327   90175.913458\n",
       "Гатчина              307   68746.146763\n",
       "деревня Кудрово      299   92473.547576\n",
       "Выборг               237   58141.909153"
      ]
     },
     "execution_count": 61,
     "metadata": {},
     "output_type": "execute_result"
    }
   ],
   "source": [
    "locality = cost.groupby('locality_name')['cost_per_metr'].agg(['count','mean']).sort_values(by='count', ascending=False).head(10)\n",
    "locality"
   ]
  },
  {
   "cell_type": "code",
   "execution_count": 62,
   "metadata": {
    "scrolled": false
   },
   "outputs": [
    {
     "data": {
      "image/png": "[encoded data removed]",
      "text/plain": [
       "<Figure size 432x288 with 1 Axes>"
      ]
     },
     "metadata": {
      "needs_background": "light"
     },
     "output_type": "display_data"
    }
   ],
   "source": [
    "locality['mean'].hist(bins=10);\n",
    "plt.suptitle(\"Стоимость кв. метра в Санкт-Петербурге и Лен. области\");\n",
    "plt.xlabel('Стоимость кв.метра');"
   ]
  },
  {
   "cell_type": "markdown",
   "metadata": {},
   "source": [
    "Самая высокая цена зафиксирована в Санкт-Петеребурге. Там средний кв. метр стоит 113 тысяч.\n",
    "\n",
    "Самая низкая цена из представленных в Выборге - всего 58 тысяч. \n",
    "\n",
    "На графике также видно, что есть населенные пункты, где средняя цена за квадрат одинаковая."
   ]
  },
  {
   "cell_type": "markdown",
   "metadata": {},
   "source": [
    "-------------------\n",
    "<b> 4.6 Расстояние до центра <a name=\"p4_6\"></a>\n",
    "Исследуем город Санкт-Петербург и определим его Центральный район."
   ]
  },
  {
   "cell_type": "code",
   "execution_count": 63,
   "metadata": {},
   "outputs": [
    {
     "data": {
      "text/plain": [
       "15721"
      ]
     },
     "execution_count": 63,
     "metadata": {},
     "output_type": "execute_result"
    }
   ],
   "source": [
    "spb = df[df['locality_name']=='Санкт-Петербург']\n",
    "len(spb)"
   ]
  },
  {
   "cell_type": "code",
   "execution_count": 64,
   "metadata": {
    "scrolled": true
   },
   "outputs": [
    {
     "name": "stderr",
     "output_type": "stream",
     "text": [
      "/opt/conda/lib/python3.7/site-packages/ipykernel_launcher.py:1: SettingWithCopyWarning: \n",
      "A value is trying to be set on a copy of a slice from a DataFrame.\n",
      "Try using .loc[row_indexer,col_indexer] = value instead\n",
      "\n",
      "See the caveats in the documentation: http://pandas.pydata.org/pandas-docs/stable/user_guide/indexing.html#returning-a-view-versus-a-copy\n",
      "  \"\"\"Entry point for launching an IPython kernel.\n"
     ]
    }
   ],
   "source": [
    "spb['centr_distance'] = spb['cityCenters_nearest_km'].round()"
   ]
  },
  {
   "cell_type": "markdown",
   "metadata": {},
   "source": [
    "Найдем для каждого километра от центра среднюю стоимость квартир в миллионах."
   ]
  },
  {
   "cell_type": "code",
   "execution_count": 65,
   "metadata": {},
   "outputs": [
    {
     "data": {
      "text/html": [
       "<div>\n",
       "<style scoped>\n",
       "    .dataframe tbody tr th:only-of-type {\n",
       "        vertical-align: middle;\n",
       "    }\n",
       "\n",
       "    .dataframe tbody tr th {\n",
       "        vertical-align: top;\n",
       "    }\n",
       "\n",
       "    .dataframe thead tr th {\n",
       "        text-align: left;\n",
       "    }\n",
       "\n",
       "    .dataframe thead tr:last-of-type th {\n",
       "        text-align: right;\n",
       "    }\n",
       "</style>\n",
       "<table border=\"1\" class=\"dataframe\">\n",
       "  <thead>\n",
       "    <tr>\n",
       "      <th></th>\n",
       "      <th>mean</th>\n",
       "    </tr>\n",
       "    <tr>\n",
       "      <th></th>\n",
       "      <th>millions</th>\n",
       "    </tr>\n",
       "    <tr>\n",
       "      <th>centr_distance</th>\n",
       "      <th></th>\n",
       "    </tr>\n",
       "  </thead>\n",
       "  <tbody>\n",
       "    <tr>\n",
       "      <td>0.0</td>\n",
       "      <td>31.449116</td>\n",
       "    </tr>\n",
       "    <tr>\n",
       "      <td>1.0</td>\n",
       "      <td>21.206721</td>\n",
       "    </tr>\n",
       "    <tr>\n",
       "      <td>2.0</td>\n",
       "      <td>17.788320</td>\n",
       "    </tr>\n",
       "    <tr>\n",
       "      <td>3.0</td>\n",
       "      <td>11.126581</td>\n",
       "    </tr>\n",
       "    <tr>\n",
       "      <td>4.0</td>\n",
       "      <td>13.304280</td>\n",
       "    </tr>\n",
       "    <tr>\n",
       "      <td>5.0</td>\n",
       "      <td>14.499121</td>\n",
       "    </tr>\n",
       "    <tr>\n",
       "      <td>6.0</td>\n",
       "      <td>15.338418</td>\n",
       "    </tr>\n",
       "    <tr>\n",
       "      <td>7.0</td>\n",
       "      <td>14.775153</td>\n",
       "    </tr>\n",
       "    <tr>\n",
       "      <td>8.0</td>\n",
       "      <td>9.957717</td>\n",
       "    </tr>\n",
       "    <tr>\n",
       "      <td>9.0</td>\n",
       "      <td>6.950659</td>\n",
       "    </tr>\n",
       "    <tr>\n",
       "      <td>10.0</td>\n",
       "      <td>6.504119</td>\n",
       "    </tr>\n",
       "    <tr>\n",
       "      <td>11.0</td>\n",
       "      <td>6.250815</td>\n",
       "    </tr>\n",
       "    <tr>\n",
       "      <td>12.0</td>\n",
       "      <td>5.828545</td>\n",
       "    </tr>\n",
       "    <tr>\n",
       "      <td>13.0</td>\n",
       "      <td>6.083141</td>\n",
       "    </tr>\n",
       "    <tr>\n",
       "      <td>14.0</td>\n",
       "      <td>5.629101</td>\n",
       "    </tr>\n",
       "    <tr>\n",
       "      <td>15.0</td>\n",
       "      <td>5.884751</td>\n",
       "    </tr>\n",
       "    <tr>\n",
       "      <td>16.0</td>\n",
       "      <td>5.373131</td>\n",
       "    </tr>\n",
       "    <tr>\n",
       "      <td>17.0</td>\n",
       "      <td>5.292395</td>\n",
       "    </tr>\n",
       "    <tr>\n",
       "      <td>18.0</td>\n",
       "      <td>5.091331</td>\n",
       "    </tr>\n",
       "    <tr>\n",
       "      <td>19.0</td>\n",
       "      <td>5.037675</td>\n",
       "    </tr>\n",
       "    <tr>\n",
       "      <td>20.0</td>\n",
       "      <td>5.951465</td>\n",
       "    </tr>\n",
       "    <tr>\n",
       "      <td>21.0</td>\n",
       "      <td>5.493469</td>\n",
       "    </tr>\n",
       "    <tr>\n",
       "      <td>22.0</td>\n",
       "      <td>5.415524</td>\n",
       "    </tr>\n",
       "    <tr>\n",
       "      <td>23.0</td>\n",
       "      <td>4.985376</td>\n",
       "    </tr>\n",
       "    <tr>\n",
       "      <td>24.0</td>\n",
       "      <td>3.854430</td>\n",
       "    </tr>\n",
       "    <tr>\n",
       "      <td>25.0</td>\n",
       "      <td>4.052840</td>\n",
       "    </tr>\n",
       "    <tr>\n",
       "      <td>26.0</td>\n",
       "      <td>3.973013</td>\n",
       "    </tr>\n",
       "    <tr>\n",
       "      <td>27.0</td>\n",
       "      <td>8.300000</td>\n",
       "    </tr>\n",
       "    <tr>\n",
       "      <td>28.0</td>\n",
       "      <td>5.026429</td>\n",
       "    </tr>\n",
       "    <tr>\n",
       "      <td>29.0</td>\n",
       "      <td>4.236667</td>\n",
       "    </tr>\n",
       "  </tbody>\n",
       "</table>\n",
       "</div>"
      ],
      "text/plain": [
       "                     mean\n",
       "                 millions\n",
       "centr_distance           \n",
       "0.0             31.449116\n",
       "1.0             21.206721\n",
       "2.0             17.788320\n",
       "3.0             11.126581\n",
       "4.0             13.304280\n",
       "5.0             14.499121\n",
       "6.0             15.338418\n",
       "7.0             14.775153\n",
       "8.0              9.957717\n",
       "9.0              6.950659\n",
       "10.0             6.504119\n",
       "11.0             6.250815\n",
       "12.0             5.828545\n",
       "13.0             6.083141\n",
       "14.0             5.629101\n",
       "15.0             5.884751\n",
       "16.0             5.373131\n",
       "17.0             5.292395\n",
       "18.0             5.091331\n",
       "19.0             5.037675\n",
       "20.0             5.951465\n",
       "21.0             5.493469\n",
       "22.0             5.415524\n",
       "23.0             4.985376\n",
       "24.0             3.854430\n",
       "25.0             4.052840\n",
       "26.0             3.973013\n",
       "27.0             8.300000\n",
       "28.0             5.026429\n",
       "29.0             4.236667"
      ]
     },
     "execution_count": 65,
     "metadata": {},
     "output_type": "execute_result"
    }
   ],
   "source": [
    "dist_cost = spb.pivot_table(index='centr_distance', values='millions', aggfunc=['mean'])\n",
    "dist_cost"
   ]
  },
  {
   "cell_type": "code",
   "execution_count": 66,
   "metadata": {
    "scrolled": true
   },
   "outputs": [
    {
     "data": {
      "image/png": "[encoded data removed]",
      "text/plain": [
       "<Figure size 864x360 with 1 Axes>"
      ]
     },
     "metadata": {
      "needs_background": "light"
     },
     "output_type": "display_data"
    }
   ],
   "source": [
    "dist_cost.plot(kind='area',grid=True, figsize=(12, 5), title='Зависимость стоимости квартиры и расстояния от центра');\n",
    "plt.xlabel('Расстояние от центра, км');"
   ]
  },
  {
   "cell_type": "markdown",
   "metadata": {},
   "source": [
    "По графику можно предположить, что в Санкт-Петербурге расстояние от центра в 8 км считается центральной зоной. Дальше стоимость квартир снижается."
   ]
  },
  {
   "cell_type": "markdown",
   "metadata": {},
   "source": [
    "---------------\n",
    "<b>4.7 Анализ стоимости квартир в Центре Санкт-Петербурга <a name=\"p4_7\"></a>"
   ]
  },
  {
   "cell_type": "code",
   "execution_count": 67,
   "metadata": {},
   "outputs": [
    {
     "data": {
      "text/html": [
       "<div>\n",
       "<style scoped>\n",
       "    .dataframe tbody tr th:only-of-type {\n",
       "        vertical-align: middle;\n",
       "    }\n",
       "\n",
       "    .dataframe tbody tr th {\n",
       "        vertical-align: top;\n",
       "    }\n",
       "\n",
       "    .dataframe thead th {\n",
       "        text-align: right;\n",
       "    }\n",
       "</style>\n",
       "<table border=\"1\" class=\"dataframe\">\n",
       "  <thead>\n",
       "    <tr style=\"text-align: right;\">\n",
       "      <th></th>\n",
       "      <th>total_images</th>\n",
       "      <th>last_price</th>\n",
       "      <th>total_area</th>\n",
       "      <th>first_day_exposition</th>\n",
       "      <th>rooms</th>\n",
       "      <th>ceiling_height</th>\n",
       "      <th>floors_total</th>\n",
       "      <th>living_area</th>\n",
       "      <th>floor</th>\n",
       "      <th>is_apartment</th>\n",
       "      <th>...</th>\n",
       "      <th>cost_per_metr</th>\n",
       "      <th>weekday</th>\n",
       "      <th>month</th>\n",
       "      <th>year</th>\n",
       "      <th>floor_cat</th>\n",
       "      <th>living_to_total</th>\n",
       "      <th>kitchen_to_total</th>\n",
       "      <th>millions</th>\n",
       "      <th>cost_per_metr_millions</th>\n",
       "      <th>cityCenters_nearest_km</th>\n",
       "    </tr>\n",
       "  </thead>\n",
       "  <tbody>\n",
       "    <tr>\n",
       "      <td>3</td>\n",
       "      <td>0</td>\n",
       "      <td>64900000.0</td>\n",
       "      <td>159.0</td>\n",
       "      <td>2015-07-24</td>\n",
       "      <td>3</td>\n",
       "      <td>2.65</td>\n",
       "      <td>14.0</td>\n",
       "      <td>55.0</td>\n",
       "      <td>9</td>\n",
       "      <td>False</td>\n",
       "      <td>...</td>\n",
       "      <td>408176.100629</td>\n",
       "      <td>4</td>\n",
       "      <td>7</td>\n",
       "      <td>2015</td>\n",
       "      <td>другой</td>\n",
       "      <td>0.345912</td>\n",
       "      <td>0.088050</td>\n",
       "      <td>64.900</td>\n",
       "      <td>0.408176</td>\n",
       "      <td>6.800</td>\n",
       "    </tr>\n",
       "    <tr>\n",
       "      <td>24</td>\n",
       "      <td>8</td>\n",
       "      <td>6500000.0</td>\n",
       "      <td>97.2</td>\n",
       "      <td>2015-10-31</td>\n",
       "      <td>2</td>\n",
       "      <td>2.65</td>\n",
       "      <td>3.0</td>\n",
       "      <td>46.5</td>\n",
       "      <td>1</td>\n",
       "      <td>False</td>\n",
       "      <td>...</td>\n",
       "      <td>66872.427984</td>\n",
       "      <td>5</td>\n",
       "      <td>10</td>\n",
       "      <td>2015</td>\n",
       "      <td>первый</td>\n",
       "      <td>0.478395</td>\n",
       "      <td>0.201646</td>\n",
       "      <td>6.500</td>\n",
       "      <td>0.066872</td>\n",
       "      <td>2.336</td>\n",
       "    </tr>\n",
       "    <tr>\n",
       "      <td>35</td>\n",
       "      <td>6</td>\n",
       "      <td>15500000.0</td>\n",
       "      <td>149.0</td>\n",
       "      <td>2017-06-26</td>\n",
       "      <td>5</td>\n",
       "      <td>2.65</td>\n",
       "      <td>5.0</td>\n",
       "      <td>104.0</td>\n",
       "      <td>4</td>\n",
       "      <td>False</td>\n",
       "      <td>...</td>\n",
       "      <td>104026.845638</td>\n",
       "      <td>0</td>\n",
       "      <td>6</td>\n",
       "      <td>2017</td>\n",
       "      <td>другой</td>\n",
       "      <td>0.697987</td>\n",
       "      <td>0.114094</td>\n",
       "      <td>15.500</td>\n",
       "      <td>0.104027</td>\n",
       "      <td>3.502</td>\n",
       "    </tr>\n",
       "    <tr>\n",
       "      <td>51</td>\n",
       "      <td>7</td>\n",
       "      <td>45000000.0</td>\n",
       "      <td>161.0</td>\n",
       "      <td>2017-10-17</td>\n",
       "      <td>3</td>\n",
       "      <td>3.20</td>\n",
       "      <td>8.0</td>\n",
       "      <td>38.0</td>\n",
       "      <td>4</td>\n",
       "      <td>False</td>\n",
       "      <td>...</td>\n",
       "      <td>279503.105590</td>\n",
       "      <td>1</td>\n",
       "      <td>10</td>\n",
       "      <td>2017</td>\n",
       "      <td>другой</td>\n",
       "      <td>0.236025</td>\n",
       "      <td>0.310559</td>\n",
       "      <td>45.000</td>\n",
       "      <td>0.279503</td>\n",
       "      <td>6.589</td>\n",
       "    </tr>\n",
       "    <tr>\n",
       "      <td>52</td>\n",
       "      <td>20</td>\n",
       "      <td>11795000.0</td>\n",
       "      <td>136.0</td>\n",
       "      <td>2017-09-22</td>\n",
       "      <td>6</td>\n",
       "      <td>3.00</td>\n",
       "      <td>2.0</td>\n",
       "      <td>94.0</td>\n",
       "      <td>2</td>\n",
       "      <td>False</td>\n",
       "      <td>...</td>\n",
       "      <td>86727.941176</td>\n",
       "      <td>4</td>\n",
       "      <td>9</td>\n",
       "      <td>2017</td>\n",
       "      <td>последний</td>\n",
       "      <td>0.691176</td>\n",
       "      <td>0.080882</td>\n",
       "      <td>11.795</td>\n",
       "      <td>0.086728</td>\n",
       "      <td>6.582</td>\n",
       "    </tr>\n",
       "  </tbody>\n",
       "</table>\n",
       "<p>5 rows × 32 columns</p>\n",
       "</div>"
      ],
      "text/plain": [
       "    total_images  last_price  total_area first_day_exposition  rooms  \\\n",
       "3              0  64900000.0       159.0           2015-07-24      3   \n",
       "24             8   6500000.0        97.2           2015-10-31      2   \n",
       "35             6  15500000.0       149.0           2017-06-26      5   \n",
       "51             7  45000000.0       161.0           2017-10-17      3   \n",
       "52            20  11795000.0       136.0           2017-09-22      6   \n",
       "\n",
       "    ceiling_height  floors_total  living_area  floor  is_apartment  ...  \\\n",
       "3             2.65          14.0         55.0      9         False  ...   \n",
       "24            2.65           3.0         46.5      1         False  ...   \n",
       "35            2.65           5.0        104.0      4         False  ...   \n",
       "51            3.20           8.0         38.0      4         False  ...   \n",
       "52            3.00           2.0         94.0      2         False  ...   \n",
       "\n",
       "    cost_per_metr  weekday  month  year  floor_cat  living_to_total  \\\n",
       "3   408176.100629        4      7  2015     другой         0.345912   \n",
       "24   66872.427984        5     10  2015     первый         0.478395   \n",
       "35  104026.845638        0      6  2017     другой         0.697987   \n",
       "51  279503.105590        1     10  2017     другой         0.236025   \n",
       "52   86727.941176        4      9  2017  последний         0.691176   \n",
       "\n",
       "    kitchen_to_total  millions  cost_per_metr_millions  cityCenters_nearest_km  \n",
       "3           0.088050    64.900                0.408176                   6.800  \n",
       "24          0.201646     6.500                0.066872                   2.336  \n",
       "35          0.114094    15.500                0.104027                   3.502  \n",
       "51          0.310559    45.000                0.279503                   6.589  \n",
       "52          0.080882    11.795                0.086728                   6.582  \n",
       "\n",
       "[5 rows x 32 columns]"
      ]
     },
     "execution_count": 67,
     "metadata": {},
     "output_type": "execute_result"
    }
   ],
   "source": [
    "spb_centr = df.query('locality_name ==\"Санкт-Петербург\" and cityCenters_nearest_km < 8')\n",
    "spb_centr.head()"
   ]
  },
  {
   "cell_type": "code",
   "execution_count": 68,
   "metadata": {},
   "outputs": [
    {
     "name": "stdout",
     "output_type": "stream",
     "text": [
      "Средняя площадь в центре:  92.33\n",
      "Средняя площадь по городу: 60.35\n",
      "Средняя цена кв. м. в центре:  144404.87\n",
      "Средняя цена кв. м. по городу: 99421.66\n",
      "Среднее число комнат в центре:  2.81\n",
      "Среднее число комнат по городу: 2.07\n",
      "Средняя высота потолков в центре:  2.93\n",
      "Средняя высота потолков по городу: 2.7\n"
     ]
    }
   ],
   "source": [
    "print('Средняя площадь в центре: ', spb_centr['total_area'].mean().round(2))\n",
    "print('Средняя площадь по городу:', df['total_area'].mean().round(2))\n",
    "print('Средняя цена кв. м. в центре: ', spb_centr['cost_per_metr'].mean().round(2))\n",
    "print('Средняя цена кв. м. по городу:', df['cost_per_metr'].mean().round(2))\n",
    "print('Среднее число комнат в центре: ', spb_centr['rooms'].mean().round(2))\n",
    "print('Среднее число комнат по городу:', df['rooms'].mean().round(2))\n",
    "print('Средняя высота потолков в центре: ', spb_centr['ceiling_height'].mean().round(2))\n",
    "print('Средняя высота потолков по городу:', df['ceiling_height'].mean().round(2))"
   ]
  },
  {
   "cell_type": "code",
   "execution_count": 69,
   "metadata": {},
   "outputs": [
    {
     "name": "stdout",
     "output_type": "stream",
     "text": [
      "Статистика по городу:\n",
      "Средняя площадь: 60.35\n",
      "Средняя цена кв. м.:  99421.66\n",
      "Среднее число комнат:  2.07\n",
      "Средняя высота потолков:  2.7\n",
      "Статистика в центре:\n",
      "Средняя площадь: 92.33\n",
      "Средняя цена кв. м.:  144404.87\n",
      "Среднее число комнат:  2.81\n",
      "Средняя высота потолков:  2.93\n"
     ]
    }
   ],
   "source": [
    "def printing_stat(data):                 \n",
    "    print('Средняя площадь:',data['total_area'].mean().round(2))\n",
    "    print('Средняя цена кв. м.: ', data['cost_per_metr'].mean().round(2))\n",
    "    print('Среднее число комнат: ', data['rooms'].mean().round(2))\n",
    "    print('Средняя высота потолков: ', data['ceiling_height'].mean().round(2))\n",
    "    \n",
    "print('Статистика по городу:')\n",
    "printing_stat(df)\n",
    "print('Статистика в центре:')\n",
    "printing_stat(spb_centr)"
   ]
  },
  {
   "cell_type": "code",
   "execution_count": 70,
   "metadata": {},
   "outputs": [
    {
     "name": "stdout",
     "output_type": "stream",
     "text": [
      "площадь\n",
      "92.33\n",
      "цена кв. м.\n",
      "144404.87\n"
     ]
    }
   ],
   "source": [
    "def pr1(data):\n",
    "    d = {'total_area': 'площадь', 'cost_per_metr': 'цена кв. м.'}\n",
    "    for key, value in d.items():\n",
    "        print(value)\n",
    "        print(data[key].mean().round(2))\n",
    "\n",
    "pr1(spb_centr)"
   ]
  },
  {
   "cell_type": "markdown",
   "metadata": {},
   "source": [
    "\n",
    "<font color=brown>Как-то так получилось 🙄</font>"
   ]
  },
  {
   "cell_type": "markdown",
   "metadata": {},
   "source": [
    "В центре квартиры больше, выше и, сооответственно, дороже. Все логично."
   ]
  },
  {
   "cell_type": "code",
   "execution_count": 71,
   "metadata": {},
   "outputs": [
    {
     "name": "stdout",
     "output_type": "stream",
     "text": [
      "                        cityCenters_nearest_km     floor     rooms\n",
      "cityCenters_nearest_km                1.000000  0.216542 -0.241825\n",
      "floor                                 0.216542  1.000000 -0.004310\n",
      "rooms                                -0.241825 -0.004310  1.000000\n"
     ]
    },
    {
     "data": {
      "image/png": "[encoded data removed]",
      "text/plain": [
       "<Figure size 648x648 with 9 Axes>"
      ]
     },
     "metadata": {
      "needs_background": "light"
     },
     "output_type": "display_data"
    }
   ],
   "source": [
    "spb_centr1 = spb_centr.pivot_table(index='millions',values=['rooms','floor','cityCenters_nearest_km'])\n",
    "print(spb_centr1.corr()) \n",
    "pd.plotting.scatter_matrix(spb_centr1, figsize=(9, 9)) ;"
   ]
  },
  {
   "cell_type": "markdown",
   "metadata": {},
   "source": [
    "Матрица корреляции показывает нам слабую зависимость таких параметров как число комнат, цена, так же как и в среднем по городу. Но вот площадь квартиры очень влияет на цену."
   ]
  },
  {
   "cell_type": "markdown",
   "metadata": {},
   "source": [
    "<b> Шаг 5. Общий вывод <a name=\"p5\"></a>"
   ]
  },
  {
   "cell_type": "markdown",
   "metadata": {},
   "source": [
    "В ходе исследования были проанализированы данные о продаже квартир в Санкт-Петербурге и соседних населённых пунктах за несколько лет.\n",
    "\n",
    "Данные подготовлены, произведена замена пропусщенных значений.\n",
    "\n",
    "Добавлены дополнительные столбцы, построены графики, зависимости.\n",
    "\n",
    "Была определна рыночная стоимость недвижимости и ее зависимость от различных параметров.\n",
    "\n",
    "Установлено, что в г. Санкт-Петерьурн средняя стоимость кв. метря квартир - 113 тысяч квартир.\n",
    "\n",
    "Средний срок продажи недвижимости - 3 месяца. Если вы успели продать квартиру за 45 дней, то вы молодец.\n",
    "\n",
    "Рассмотрены корреляции стоимости и площади, числа комнат, высоты потолков в Центре и в целом по городу.\n",
    "\n",
    "Определена центральная область и параметры для нее. Сделаны выводы о влиянии различных параметров на цену."
   ]
  }
 ],
 "metadata": {
  "ExecuteTimeLog": [
   {
    "duration": 851,
    "start_time": "2021-09-10T04:01:21.500Z"
   },
   {
    "duration": 14,
    "start_time": "2021-09-10T04:01:22.354Z"
   },
   {
    "duration": 20,
    "start_time": "2021-09-10T04:01:22.372Z"
   },
   {
    "duration": 7,
    "start_time": "2021-09-10T04:01:22.395Z"
   },
   {
    "duration": 11,
    "start_time": "2021-09-10T04:01:22.404Z"
   },
   {
    "duration": 46,
    "start_time": "2021-09-10T04:01:22.418Z"
   },
   {
    "duration": 36,
    "start_time": "2021-09-10T04:01:22.466Z"
   },
   {
    "duration": 15,
    "start_time": "2021-09-10T04:01:22.506Z"
   },
   {
    "duration": 40,
    "start_time": "2021-09-10T04:01:22.556Z"
   },
   {
    "duration": 7,
    "start_time": "2021-09-10T04:01:22.598Z"
   },
   {
    "duration": 55,
    "start_time": "2021-09-10T04:01:22.607Z"
   },
   {
    "duration": 53,
    "start_time": "2021-09-10T04:01:22.664Z"
   },
   {
    "duration": 55,
    "start_time": "2021-09-10T04:01:22.719Z"
   },
   {
    "duration": 8,
    "start_time": "2021-09-10T04:01:22.777Z"
   },
   {
    "duration": 21,
    "start_time": "2021-09-10T04:01:22.788Z"
   },
   {
    "duration": 46,
    "start_time": "2021-09-10T04:01:22.811Z"
   },
   {
    "duration": 9,
    "start_time": "2021-09-10T04:01:22.859Z"
   },
   {
    "duration": 14,
    "start_time": "2021-09-10T04:01:22.870Z"
   },
   {
    "duration": 9,
    "start_time": "2021-09-10T04:01:22.887Z"
   },
   {
    "duration": 4,
    "start_time": "2021-09-10T04:01:22.898Z"
   },
   {
    "duration": 65,
    "start_time": "2021-09-10T04:01:22.904Z"
   },
   {
    "duration": 14,
    "start_time": "2021-09-10T04:01:22.971Z"
   },
   {
    "duration": 5,
    "start_time": "2021-09-10T04:01:22.992Z"
   },
   {
    "duration": 69,
    "start_time": "2021-09-10T04:01:23.001Z"
   },
   {
    "duration": 785,
    "start_time": "2021-09-10T04:01:23.072Z"
   },
   {
    "duration": 8,
    "start_time": "2021-09-10T04:01:23.859Z"
   },
   {
    "duration": 12,
    "start_time": "2021-09-10T04:01:23.869Z"
   },
   {
    "duration": 8,
    "start_time": "2021-09-10T04:01:23.883Z"
   },
   {
    "duration": 692,
    "start_time": "2021-09-10T04:01:23.894Z"
   },
   {
    "duration": 13,
    "start_time": "2021-09-10T04:01:24.589Z"
   },
   {
    "duration": 8,
    "start_time": "2021-09-10T04:01:24.604Z"
   },
   {
    "duration": 561,
    "start_time": "2021-09-10T04:01:24.615Z"
   },
   {
    "duration": 531,
    "start_time": "2021-09-10T04:01:25.178Z"
   },
   {
    "duration": 11,
    "start_time": "2021-09-10T04:01:25.712Z"
   },
   {
    "duration": 350,
    "start_time": "2021-09-10T04:01:25.725Z"
   },
   {
    "duration": 12,
    "start_time": "2021-09-10T04:01:26.077Z"
   },
   {
    "duration": 316,
    "start_time": "2021-09-10T04:01:26.091Z"
   },
   {
    "duration": 650,
    "start_time": "2021-09-10T04:01:26.410Z"
   },
   {
    "duration": 12,
    "start_time": "2021-09-10T04:01:27.063Z"
   },
   {
    "duration": 27,
    "start_time": "2021-09-10T04:01:27.078Z"
   },
   {
    "duration": 260,
    "start_time": "2021-09-10T04:01:27.107Z"
   },
   {
    "duration": 15,
    "start_time": "2021-09-10T04:01:27.370Z"
   },
   {
    "duration": 8,
    "start_time": "2021-09-10T04:01:27.387Z"
   },
   {
    "duration": 23,
    "start_time": "2021-09-10T04:01:27.397Z"
   },
   {
    "duration": 20,
    "start_time": "2021-09-10T04:01:27.422Z"
   },
   {
    "duration": 319,
    "start_time": "2021-09-10T04:01:27.455Z"
   },
   {
    "duration": 60,
    "start_time": "2021-09-10T04:01:27.776Z"
   },
   {
    "duration": 12,
    "start_time": "2021-09-10T04:01:27.855Z"
   },
   {
    "duration": 9,
    "start_time": "2021-09-10T04:01:27.869Z"
   },
   {
    "duration": 383,
    "start_time": "2021-09-10T04:01:27.881Z"
   },
   {
    "duration": 7,
    "start_time": "2021-09-10T04:01:28.267Z"
   },
   {
    "duration": 391,
    "start_time": "2021-09-10T04:01:28.276Z"
   },
   {
    "duration": 736,
    "start_time": "2021-09-10T04:01:28.670Z"
   },
   {
    "duration": 8,
    "start_time": "2021-09-10T04:01:29.408Z"
   },
   {
    "duration": 38,
    "start_time": "2021-09-10T04:01:29.418Z"
   },
   {
    "duration": 721,
    "start_time": "2021-09-10T04:01:29.459Z"
   },
   {
    "duration": 8,
    "start_time": "2021-09-10T04:01:30.182Z"
   },
   {
    "duration": 362,
    "start_time": "2021-09-10T04:01:30.192Z"
   },
   {
    "duration": 383,
    "start_time": "2021-09-10T04:01:30.556Z"
   },
   {
    "duration": 363,
    "start_time": "2021-09-10T04:01:30.941Z"
   },
   {
    "duration": 17,
    "start_time": "2021-09-10T04:01:31.307Z"
   },
   {
    "duration": 330,
    "start_time": "2021-09-10T04:01:31.327Z"
   },
   {
    "duration": 12,
    "start_time": "2021-09-10T04:01:31.659Z"
   },
   {
    "duration": 10,
    "start_time": "2021-09-10T04:01:31.674Z"
   },
   {
    "duration": 40,
    "start_time": "2021-09-10T04:01:31.686Z"
   },
   {
    "duration": 379,
    "start_time": "2021-09-10T04:01:31.728Z"
   },
   {
    "duration": 50,
    "start_time": "2021-09-10T04:01:32.110Z"
   },
   {
    "duration": 13,
    "start_time": "2021-09-10T04:01:32.167Z"
   },
   {
    "duration": 13,
    "start_time": "2021-09-10T04:01:32.183Z"
   },
   {
    "duration": 7,
    "start_time": "2021-09-10T04:01:32.199Z"
   },
   {
    "duration": 1516,
    "start_time": "2021-09-10T04:01:32.208Z"
   },
   {
    "duration": 926,
    "start_time": "2021-09-10T04:06:22.121Z"
   },
   {
    "duration": 15,
    "start_time": "2021-09-10T04:06:23.050Z"
   },
   {
    "duration": 32,
    "start_time": "2021-09-10T04:06:23.068Z"
   },
   {
    "duration": 9,
    "start_time": "2021-09-10T04:06:23.102Z"
   },
   {
    "duration": 22,
    "start_time": "2021-09-10T04:06:23.113Z"
   },
   {
    "duration": 24,
    "start_time": "2021-09-10T04:06:23.138Z"
   },
   {
    "duration": 42,
    "start_time": "2021-09-10T04:06:23.164Z"
   },
   {
    "duration": 26,
    "start_time": "2021-09-10T04:06:23.208Z"
   },
   {
    "duration": 48,
    "start_time": "2021-09-10T04:06:23.238Z"
   },
   {
    "duration": 6,
    "start_time": "2021-09-10T04:06:23.289Z"
   },
   {
    "duration": 28,
    "start_time": "2021-09-10T04:06:23.297Z"
   },
   {
    "duration": 73,
    "start_time": "2021-09-10T04:06:23.327Z"
   },
   {
    "duration": 29,
    "start_time": "2021-09-10T04:06:23.402Z"
   },
   {
    "duration": 26,
    "start_time": "2021-09-10T04:06:23.434Z"
   },
   {
    "duration": 22,
    "start_time": "2021-09-10T04:06:23.462Z"
   },
   {
    "duration": 8,
    "start_time": "2021-09-10T04:06:23.487Z"
   },
   {
    "duration": 14,
    "start_time": "2021-09-10T04:06:23.497Z"
   },
   {
    "duration": 42,
    "start_time": "2021-09-10T04:06:23.514Z"
   },
   {
    "duration": 9,
    "start_time": "2021-09-10T04:06:23.559Z"
   },
   {
    "duration": 5,
    "start_time": "2021-09-10T04:06:23.570Z"
   },
   {
    "duration": 28,
    "start_time": "2021-09-10T04:06:23.577Z"
   },
   {
    "duration": 48,
    "start_time": "2021-09-10T04:06:23.608Z"
   },
   {
    "duration": 7,
    "start_time": "2021-09-10T04:06:23.659Z"
   },
   {
    "duration": 46,
    "start_time": "2021-09-10T04:06:23.669Z"
   },
   {
    "duration": 898,
    "start_time": "2021-09-10T04:06:23.717Z"
   },
   {
    "duration": 10,
    "start_time": "2021-09-10T04:06:24.618Z"
   },
   {
    "duration": 26,
    "start_time": "2021-09-10T04:06:24.634Z"
   },
   {
    "duration": 10,
    "start_time": "2021-09-10T04:06:24.664Z"
   },
   {
    "duration": 662,
    "start_time": "2021-09-10T04:06:24.677Z"
   },
   {
    "duration": 21,
    "start_time": "2021-09-10T04:06:25.342Z"
   },
   {
    "duration": 10,
    "start_time": "2021-09-10T04:06:25.366Z"
   },
   {
    "duration": 557,
    "start_time": "2021-09-10T04:06:25.379Z"
   },
   {
    "duration": 553,
    "start_time": "2021-09-10T04:06:25.939Z"
   },
   {
    "duration": 11,
    "start_time": "2021-09-10T04:06:26.495Z"
   },
   {
    "duration": 349,
    "start_time": "2021-09-10T04:06:26.508Z"
   },
   {
    "duration": 11,
    "start_time": "2021-09-10T04:06:26.860Z"
   },
   {
    "duration": 320,
    "start_time": "2021-09-10T04:06:26.874Z"
   },
   {
    "duration": 760,
    "start_time": "2021-09-10T04:06:27.197Z"
   },
   {
    "duration": 13,
    "start_time": "2021-09-10T04:06:27.959Z"
   },
   {
    "duration": 25,
    "start_time": "2021-09-10T04:06:27.975Z"
   },
   {
    "duration": 259,
    "start_time": "2021-09-10T04:06:28.002Z"
   },
   {
    "duration": 14,
    "start_time": "2021-09-10T04:06:28.263Z"
   },
   {
    "duration": 16,
    "start_time": "2021-09-10T04:06:28.279Z"
   },
   {
    "duration": 14,
    "start_time": "2021-09-10T04:06:28.297Z"
   },
   {
    "duration": 36,
    "start_time": "2021-09-10T04:06:28.313Z"
   },
   {
    "duration": 311,
    "start_time": "2021-09-10T04:06:28.351Z"
   },
   {
    "duration": 61,
    "start_time": "2021-09-10T04:06:28.664Z"
   },
   {
    "duration": 35,
    "start_time": "2021-09-10T04:06:28.727Z"
   },
   {
    "duration": 20,
    "start_time": "2021-09-10T04:06:28.764Z"
   },
   {
    "duration": 373,
    "start_time": "2021-09-10T04:06:28.787Z"
   },
   {
    "duration": 6,
    "start_time": "2021-09-10T04:06:29.162Z"
   },
   {
    "duration": 395,
    "start_time": "2021-09-10T04:06:29.170Z"
   },
   {
    "duration": 821,
    "start_time": "2021-09-10T04:06:29.568Z"
   },
   {
    "duration": 7,
    "start_time": "2021-09-10T04:06:30.391Z"
   },
   {
    "duration": 37,
    "start_time": "2021-09-10T04:06:30.400Z"
   },
   {
    "duration": 706,
    "start_time": "2021-09-10T04:06:30.439Z"
   },
   {
    "duration": 11,
    "start_time": "2021-09-10T04:06:31.147Z"
   },
   {
    "duration": 365,
    "start_time": "2021-09-10T04:06:31.160Z"
   },
   {
    "duration": 403,
    "start_time": "2021-09-10T04:06:31.527Z"
   },
   {
    "duration": 347,
    "start_time": "2021-09-10T04:06:31.933Z"
   },
   {
    "duration": 18,
    "start_time": "2021-09-10T04:06:32.282Z"
   },
   {
    "duration": 330,
    "start_time": "2021-09-10T04:06:32.302Z"
   },
   {
    "duration": 12,
    "start_time": "2021-09-10T04:06:32.634Z"
   },
   {
    "duration": 13,
    "start_time": "2021-09-10T04:06:32.655Z"
   },
   {
    "duration": 37,
    "start_time": "2021-09-10T04:06:32.671Z"
   },
   {
    "duration": 373,
    "start_time": "2021-09-10T04:06:32.711Z"
   },
   {
    "duration": 39,
    "start_time": "2021-09-10T04:06:33.087Z"
   },
   {
    "duration": 28,
    "start_time": "2021-09-10T04:06:33.129Z"
   },
   {
    "duration": 12,
    "start_time": "2021-09-10T04:06:33.159Z"
   },
   {
    "duration": 23,
    "start_time": "2021-09-10T04:06:33.173Z"
   },
   {
    "duration": 1634,
    "start_time": "2021-09-10T04:06:33.198Z"
   }
  ],
  "kernelspec": {
   "display_name": "Python 3",
   "language": "python",
   "name": "python3"
  },
  "language_info": {
   "codemirror_mode": {
    "name": "ipython",
    "version": 3
   },
   "file_extension": ".py",
   "mimetype": "text/x-python",
   "name": "python",
   "nbconvert_exporter": "python",
   "pygments_lexer": "ipython3",
   "version": "3.7.8"
  },
  "toc": {
   "base_numbering": 1,
   "nav_menu": {},
   "number_sections": true,
   "sideBar": true,
   "skip_h1_title": true,
   "title_cell": "Table of Contents",
   "title_sidebar": "Contents",
   "toc_cell": false,
   "toc_position": {},
   "toc_section_display": true,
   "toc_window_display": false
  }
 },
 "nbformat": 4,
 "nbformat_minor": 2
}
